{
 "cells": [
  {
   "cell_type": "markdown",
   "metadata": {},
   "source": [
    "# Laptop Configuration and Price Analysis Case Study"
   ]
  },
  {
   "cell_type": "markdown",
   "metadata": {},
   "source": [
    "## Context\n",
    "\n",
    "Laptopia101 is an online laptop retailer with a wide range of products. Different types of customers have different requirements, and Laptopia101 wants to improve its website by including informative visuals regarding laptop configuration and prices to improve customer experience.\n",
    "\n",
    "The original dataset can be viewed [here](https://www.kaggle.com/muhammetvarl/laptop-price)."
   ]
  },
  {
   "cell_type": "markdown",
   "metadata": {},
   "source": [
    "## Objective\n",
    "\n",
    "To answer some of the questions which will help us understand the kind of information and visuals Laptopia101 can put on their website to improve customer experience.\n",
    "\n",
    "\n",
    "## Data Description\n",
    "\n",
    "The data contains information about the model, manufacturer, price, and configuration of various laptops in the inventory of Laptopia101. The detailed data dictionary is given below.\n",
    "\n",
    "**Data Dictionary**\n",
    "\n",
    "- Company: Laptop Manufacturer\n",
    "- Product: Brand and Model\n",
    "- TypeName: Type (Notebook, Ultrabook, Gaming, etc.)\n",
    "- Inches: Screen Size\n",
    "- ScreenResolution: Screen Resolution\n",
    "- Cpu: Central Processing Unit\n",
    "- Ram: Laptop RAM\n",
    "- Memory: Hard Disk / SSD Memory\n",
    "- GPU: Graphics Processing Unit\n",
    "- OpSys: Operating System\n",
    "- Weight: Laptop Weight\n",
    "- Price_euros: Price in euros"
   ]
  },
  {
   "cell_type": "code",
   "execution_count": 1,
   "metadata": {},
   "outputs": [
    {
     "data": {
      "application/javascript": [
       "\n",
       "            setTimeout(function() {\n",
       "                var nbb_cell_id = 1;\n",
       "                var nbb_unformatted_code = \"# this will help in making the Python code more structured automatically (good coding practice)\\n%load_ext nb_black\\n\\n# Libraries to help with reading and manipulating data\\nimport numpy as np\\nimport pandas as pd\\n\\n# Libraries to help with data visualization\\nimport matplotlib.pyplot as plt\\nimport seaborn as sns\\n\\nsns.set()\\n\\n# Removes the limit for the number of displayed columns\\npd.set_option(\\\"display.max_columns\\\", None)\\n# Sets the limit for the number of displayed rows\\npd.set_option(\\\"display.max_rows\\\", 200)\";\n",
       "                var nbb_formatted_code = \"# this will help in making the Python code more structured automatically (good coding practice)\\n%load_ext nb_black\\n\\n# Libraries to help with reading and manipulating data\\nimport numpy as np\\nimport pandas as pd\\n\\n# Libraries to help with data visualization\\nimport matplotlib.pyplot as plt\\nimport seaborn as sns\\n\\nsns.set()\\n\\n# Removes the limit for the number of displayed columns\\npd.set_option(\\\"display.max_columns\\\", None)\\n# Sets the limit for the number of displayed rows\\npd.set_option(\\\"display.max_rows\\\", 200)\";\n",
       "                var nbb_cells = Jupyter.notebook.get_cells();\n",
       "                for (var i = 0; i < nbb_cells.length; ++i) {\n",
       "                    if (nbb_cells[i].input_prompt_number == nbb_cell_id) {\n",
       "                        if (nbb_cells[i].get_text() == nbb_unformatted_code) {\n",
       "                             nbb_cells[i].set_text(nbb_formatted_code);\n",
       "                        }\n",
       "                        break;\n",
       "                    }\n",
       "                }\n",
       "            }, 500);\n",
       "            "
      ],
      "text/plain": [
       "<IPython.core.display.Javascript object>"
      ]
     },
     "metadata": {},
     "output_type": "display_data"
    }
   ],
   "source": [
    "# this will help in making the Python code more structured automatically (good coding practice)\n",
    "%load_ext nb_black\n",
    "\n",
    "# Libraries to help with reading and manipulating data\n",
    "import numpy as np\n",
    "import pandas as pd\n",
    "\n",
    "# Libraries to help with data visualization\n",
    "import matplotlib.pyplot as plt\n",
    "import seaborn as sns\n",
    "\n",
    "sns.set()\n",
    "\n",
    "# Removes the limit for the number of displayed columns\n",
    "pd.set_option(\"display.max_columns\", None)\n",
    "# Sets the limit for the number of displayed rows\n",
    "pd.set_option(\"display.max_rows\", 200)"
   ]
  },
  {
   "cell_type": "code",
   "execution_count": 2,
   "metadata": {},
   "outputs": [
    {
     "data": {
      "application/javascript": [
       "\n",
       "            setTimeout(function() {\n",
       "                var nbb_cell_id = 2;\n",
       "                var nbb_unformatted_code = \"# loading the dataset\\ndf = pd.read_csv(\\\"laptop_price.csv\\\", engine=\\\"python\\\")\";\n",
       "                var nbb_formatted_code = \"# loading the dataset\\ndf = pd.read_csv(\\\"laptop_price.csv\\\", engine=\\\"python\\\")\";\n",
       "                var nbb_cells = Jupyter.notebook.get_cells();\n",
       "                for (var i = 0; i < nbb_cells.length; ++i) {\n",
       "                    if (nbb_cells[i].input_prompt_number == nbb_cell_id) {\n",
       "                        if (nbb_cells[i].get_text() == nbb_unformatted_code) {\n",
       "                             nbb_cells[i].set_text(nbb_formatted_code);\n",
       "                        }\n",
       "                        break;\n",
       "                    }\n",
       "                }\n",
       "            }, 500);\n",
       "            "
      ],
      "text/plain": [
       "<IPython.core.display.Javascript object>"
      ]
     },
     "metadata": {},
     "output_type": "display_data"
    }
   ],
   "source": [
    "# loading the dataset\n",
    "df = pd.read_csv(\"laptop_price.csv\", engine=\"python\")"
   ]
  },
  {
   "cell_type": "code",
   "execution_count": 3,
   "metadata": {},
   "outputs": [
    {
     "name": "stdout",
     "output_type": "stream",
     "text": [
      "There are 1303 rows and 13 columns.\n"
     ]
    },
    {
     "data": {
      "application/javascript": [
       "\n",
       "            setTimeout(function() {\n",
       "                var nbb_cell_id = 3;\n",
       "                var nbb_unformatted_code = \"# checking the shape of the data\\nprint(f\\\"There are {df.shape[0]} rows and {df.shape[1]} columns.\\\")  # f-string\";\n",
       "                var nbb_formatted_code = \"# checking the shape of the data\\nprint(f\\\"There are {df.shape[0]} rows and {df.shape[1]} columns.\\\")  # f-string\";\n",
       "                var nbb_cells = Jupyter.notebook.get_cells();\n",
       "                for (var i = 0; i < nbb_cells.length; ++i) {\n",
       "                    if (nbb_cells[i].input_prompt_number == nbb_cell_id) {\n",
       "                        if (nbb_cells[i].get_text() == nbb_unformatted_code) {\n",
       "                             nbb_cells[i].set_text(nbb_formatted_code);\n",
       "                        }\n",
       "                        break;\n",
       "                    }\n",
       "                }\n",
       "            }, 500);\n",
       "            "
      ],
      "text/plain": [
       "<IPython.core.display.Javascript object>"
      ]
     },
     "metadata": {},
     "output_type": "display_data"
    }
   ],
   "source": [
    "# checking the shape of the data\n",
    "print(f\"There are {df.shape[0]} rows and {df.shape[1]} columns.\")  # f-string"
   ]
  },
  {
   "cell_type": "code",
   "execution_count": 4,
   "metadata": {},
   "outputs": [
    {
     "data": {
      "text/html": [
       "<div>\n",
       "<style scoped>\n",
       "    .dataframe tbody tr th:only-of-type {\n",
       "        vertical-align: middle;\n",
       "    }\n",
       "\n",
       "    .dataframe tbody tr th {\n",
       "        vertical-align: top;\n",
       "    }\n",
       "\n",
       "    .dataframe thead th {\n",
       "        text-align: right;\n",
       "    }\n",
       "</style>\n",
       "<table border=\"1\" class=\"dataframe\">\n",
       "  <thead>\n",
       "    <tr style=\"text-align: right;\">\n",
       "      <th></th>\n",
       "      <th>laptop_ID</th>\n",
       "      <th>Company</th>\n",
       "      <th>Product</th>\n",
       "      <th>TypeName</th>\n",
       "      <th>Inches</th>\n",
       "      <th>ScreenResolution</th>\n",
       "      <th>Cpu</th>\n",
       "      <th>Ram</th>\n",
       "      <th>Memory</th>\n",
       "      <th>Gpu</th>\n",
       "      <th>OpSys</th>\n",
       "      <th>Weight</th>\n",
       "      <th>Price_euros</th>\n",
       "    </tr>\n",
       "  </thead>\n",
       "  <tbody>\n",
       "    <tr>\n",
       "      <th>644</th>\n",
       "      <td>652</td>\n",
       "      <td>Acer</td>\n",
       "      <td>Extensa EX2540</td>\n",
       "      <td>Notebook</td>\n",
       "      <td>15.6</td>\n",
       "      <td>1366x768</td>\n",
       "      <td>Intel Core i3 6006U 2GHz</td>\n",
       "      <td>4GB</td>\n",
       "      <td>500GB HDD</td>\n",
       "      <td>Intel HD Graphics 520</td>\n",
       "      <td>Windows 10</td>\n",
       "      <td>2.4kg</td>\n",
       "      <td>450.00</td>\n",
       "    </tr>\n",
       "    <tr>\n",
       "      <th>1275</th>\n",
       "      <td>1293</td>\n",
       "      <td>Asus</td>\n",
       "      <td>ZenBook UX305CA-UBM1</td>\n",
       "      <td>Ultrabook</td>\n",
       "      <td>13.3</td>\n",
       "      <td>IPS Panel Full HD 1920x1080</td>\n",
       "      <td>Intel Core M 6Y30 0.9GHz</td>\n",
       "      <td>8GB</td>\n",
       "      <td>512GB SSD</td>\n",
       "      <td>Intel HD Graphics 515</td>\n",
       "      <td>Windows 10</td>\n",
       "      <td>1.2kg</td>\n",
       "      <td>729.00</td>\n",
       "    </tr>\n",
       "    <tr>\n",
       "      <th>163</th>\n",
       "      <td>167</td>\n",
       "      <td>Lenovo</td>\n",
       "      <td>Legion Y520-15IKBN</td>\n",
       "      <td>Gaming</td>\n",
       "      <td>15.6</td>\n",
       "      <td>IPS Panel Full HD 1920x1080</td>\n",
       "      <td>Intel Core i7 7700HQ 2.8GHz</td>\n",
       "      <td>16GB</td>\n",
       "      <td>256GB SSD</td>\n",
       "      <td>Nvidia GeForce GTX 1050 Ti</td>\n",
       "      <td>Windows 10</td>\n",
       "      <td>2.5kg</td>\n",
       "      <td>1079.00</td>\n",
       "    </tr>\n",
       "    <tr>\n",
       "      <th>1008</th>\n",
       "      <td>1022</td>\n",
       "      <td>HP</td>\n",
       "      <td>ProBook 440</td>\n",
       "      <td>Notebook</td>\n",
       "      <td>14.0</td>\n",
       "      <td>Full HD 1920x1080</td>\n",
       "      <td>Intel Core i5 7200U 2.5GHz</td>\n",
       "      <td>8GB</td>\n",
       "      <td>256GB SSD</td>\n",
       "      <td>Nvidia GeForce 930MX</td>\n",
       "      <td>Windows 10</td>\n",
       "      <td>1.64kg</td>\n",
       "      <td>1049.26</td>\n",
       "    </tr>\n",
       "    <tr>\n",
       "      <th>909</th>\n",
       "      <td>922</td>\n",
       "      <td>LG</td>\n",
       "      <td>Gram 14Z970</td>\n",
       "      <td>Ultrabook</td>\n",
       "      <td>14.0</td>\n",
       "      <td>IPS Panel Full HD / Touchscreen 1920x1080</td>\n",
       "      <td>Intel Core i7 7500U 2.7GHz</td>\n",
       "      <td>8GB</td>\n",
       "      <td>512GB SSD</td>\n",
       "      <td>Intel HD Graphics 620</td>\n",
       "      <td>Windows 10</td>\n",
       "      <td>0.98kg</td>\n",
       "      <td>1899.00</td>\n",
       "    </tr>\n",
       "    <tr>\n",
       "      <th>268</th>\n",
       "      <td>273</td>\n",
       "      <td>HP</td>\n",
       "      <td>Probook 470</td>\n",
       "      <td>Notebook</td>\n",
       "      <td>17.3</td>\n",
       "      <td>Full HD 1920x1080</td>\n",
       "      <td>Intel Core i7 8550U 1.8GHz</td>\n",
       "      <td>8GB</td>\n",
       "      <td>1TB HDD</td>\n",
       "      <td>Nvidia GeForce 930MX</td>\n",
       "      <td>Windows 10</td>\n",
       "      <td>2.5kg</td>\n",
       "      <td>1018.00</td>\n",
       "    </tr>\n",
       "    <tr>\n",
       "      <th>1133</th>\n",
       "      <td>1148</td>\n",
       "      <td>HP</td>\n",
       "      <td>250 G6</td>\n",
       "      <td>Ultrabook</td>\n",
       "      <td>15.6</td>\n",
       "      <td>Full HD 1920x1080</td>\n",
       "      <td>Intel Core i7 7500U 2.7GHz</td>\n",
       "      <td>8GB</td>\n",
       "      <td>256GB SSD</td>\n",
       "      <td>Intel HD Graphics 620</td>\n",
       "      <td>Windows 10</td>\n",
       "      <td>1.84kg</td>\n",
       "      <td>752.00</td>\n",
       "    </tr>\n",
       "    <tr>\n",
       "      <th>983</th>\n",
       "      <td>997</td>\n",
       "      <td>Fujitsu</td>\n",
       "      <td>LifeBook A556</td>\n",
       "      <td>Notebook</td>\n",
       "      <td>15.6</td>\n",
       "      <td>1366x768</td>\n",
       "      <td>Intel Core i5 6200U 2.3GHz</td>\n",
       "      <td>4GB</td>\n",
       "      <td>256GB SSD</td>\n",
       "      <td>Intel HD Graphics 520</td>\n",
       "      <td>Windows 10</td>\n",
       "      <td>2.3kg</td>\n",
       "      <td>649.00</td>\n",
       "    </tr>\n",
       "    <tr>\n",
       "      <th>1277</th>\n",
       "      <td>1295</td>\n",
       "      <td>Acer</td>\n",
       "      <td>Aspire ES1-531</td>\n",
       "      <td>Notebook</td>\n",
       "      <td>15.6</td>\n",
       "      <td>1366x768</td>\n",
       "      <td>Intel Celeron Dual Core N3060 1.6GHz</td>\n",
       "      <td>4GB</td>\n",
       "      <td>500GB HDD</td>\n",
       "      <td>Intel HD Graphics 400</td>\n",
       "      <td>Linux</td>\n",
       "      <td>2.4kg</td>\n",
       "      <td>289.00</td>\n",
       "    </tr>\n",
       "    <tr>\n",
       "      <th>904</th>\n",
       "      <td>916</td>\n",
       "      <td>Lenovo</td>\n",
       "      <td>ThinkPad T570</td>\n",
       "      <td>Notebook</td>\n",
       "      <td>15.6</td>\n",
       "      <td>IPS Panel Full HD 1920x1080</td>\n",
       "      <td>Intel Core i5 7200U 2.5GHz</td>\n",
       "      <td>8GB</td>\n",
       "      <td>512GB SSD</td>\n",
       "      <td>Intel HD Graphics 620</td>\n",
       "      <td>Windows 10</td>\n",
       "      <td>1.95kg</td>\n",
       "      <td>1962.99</td>\n",
       "    </tr>\n",
       "  </tbody>\n",
       "</table>\n",
       "</div>"
      ],
      "text/plain": [
       "      laptop_ID  Company               Product   TypeName  Inches  \\\n",
       "644         652     Acer        Extensa EX2540   Notebook    15.6   \n",
       "1275       1293     Asus  ZenBook UX305CA-UBM1  Ultrabook    13.3   \n",
       "163         167   Lenovo    Legion Y520-15IKBN     Gaming    15.6   \n",
       "1008       1022       HP           ProBook 440   Notebook    14.0   \n",
       "909         922       LG           Gram 14Z970  Ultrabook    14.0   \n",
       "268         273       HP           Probook 470   Notebook    17.3   \n",
       "1133       1148       HP                250 G6  Ultrabook    15.6   \n",
       "983         997  Fujitsu         LifeBook A556   Notebook    15.6   \n",
       "1277       1295     Acer        Aspire ES1-531   Notebook    15.6   \n",
       "904         916   Lenovo         ThinkPad T570   Notebook    15.6   \n",
       "\n",
       "                               ScreenResolution  \\\n",
       "644                                    1366x768   \n",
       "1275                IPS Panel Full HD 1920x1080   \n",
       "163                 IPS Panel Full HD 1920x1080   \n",
       "1008                          Full HD 1920x1080   \n",
       "909   IPS Panel Full HD / Touchscreen 1920x1080   \n",
       "268                           Full HD 1920x1080   \n",
       "1133                          Full HD 1920x1080   \n",
       "983                                    1366x768   \n",
       "1277                                   1366x768   \n",
       "904                 IPS Panel Full HD 1920x1080   \n",
       "\n",
       "                                       Cpu   Ram     Memory  \\\n",
       "644               Intel Core i3 6006U 2GHz   4GB  500GB HDD   \n",
       "1275              Intel Core M 6Y30 0.9GHz   8GB  512GB SSD   \n",
       "163            Intel Core i7 7700HQ 2.8GHz  16GB  256GB SSD   \n",
       "1008            Intel Core i5 7200U 2.5GHz   8GB  256GB SSD   \n",
       "909             Intel Core i7 7500U 2.7GHz   8GB  512GB SSD   \n",
       "268             Intel Core i7 8550U 1.8GHz   8GB    1TB HDD   \n",
       "1133            Intel Core i7 7500U 2.7GHz   8GB  256GB SSD   \n",
       "983             Intel Core i5 6200U 2.3GHz   4GB  256GB SSD   \n",
       "1277  Intel Celeron Dual Core N3060 1.6GHz   4GB  500GB HDD   \n",
       "904             Intel Core i5 7200U 2.5GHz   8GB  512GB SSD   \n",
       "\n",
       "                             Gpu       OpSys  Weight  Price_euros  \n",
       "644        Intel HD Graphics 520  Windows 10   2.4kg       450.00  \n",
       "1275       Intel HD Graphics 515  Windows 10   1.2kg       729.00  \n",
       "163   Nvidia GeForce GTX 1050 Ti  Windows 10   2.5kg      1079.00  \n",
       "1008        Nvidia GeForce 930MX  Windows 10  1.64kg      1049.26  \n",
       "909        Intel HD Graphics 620  Windows 10  0.98kg      1899.00  \n",
       "268        Nvidia GeForce 930MX   Windows 10   2.5kg      1018.00  \n",
       "1133       Intel HD Graphics 620  Windows 10  1.84kg       752.00  \n",
       "983        Intel HD Graphics 520  Windows 10   2.3kg       649.00  \n",
       "1277       Intel HD Graphics 400       Linux   2.4kg       289.00  \n",
       "904        Intel HD Graphics 620  Windows 10  1.95kg      1962.99  "
      ]
     },
     "execution_count": 4,
     "metadata": {},
     "output_type": "execute_result"
    },
    {
     "data": {
      "application/javascript": [
       "\n",
       "            setTimeout(function() {\n",
       "                var nbb_cell_id = 4;\n",
       "                var nbb_unformatted_code = \"# let's view a sample of the data\\ndf.sample(n=10, random_state=1)\";\n",
       "                var nbb_formatted_code = \"# let's view a sample of the data\\ndf.sample(n=10, random_state=1)\";\n",
       "                var nbb_cells = Jupyter.notebook.get_cells();\n",
       "                for (var i = 0; i < nbb_cells.length; ++i) {\n",
       "                    if (nbb_cells[i].input_prompt_number == nbb_cell_id) {\n",
       "                        if (nbb_cells[i].get_text() == nbb_unformatted_code) {\n",
       "                             nbb_cells[i].set_text(nbb_formatted_code);\n",
       "                        }\n",
       "                        break;\n",
       "                    }\n",
       "                }\n",
       "            }, 500);\n",
       "            "
      ],
      "text/plain": [
       "<IPython.core.display.Javascript object>"
      ]
     },
     "metadata": {},
     "output_type": "display_data"
    }
   ],
   "source": [
    "# let's view a sample of the data\n",
    "df.sample(n=10, random_state=1)"
   ]
  },
  {
   "cell_type": "code",
   "execution_count": 5,
   "metadata": {},
   "outputs": [
    {
     "name": "stdout",
     "output_type": "stream",
     "text": [
      "<class 'pandas.core.frame.DataFrame'>\n",
      "RangeIndex: 1303 entries, 0 to 1302\n",
      "Data columns (total 13 columns):\n",
      " #   Column            Non-Null Count  Dtype  \n",
      "---  ------            --------------  -----  \n",
      " 0   laptop_ID         1303 non-null   int64  \n",
      " 1   Company           1303 non-null   object \n",
      " 2   Product           1303 non-null   object \n",
      " 3   TypeName          1303 non-null   object \n",
      " 4   Inches            1303 non-null   float64\n",
      " 5   ScreenResolution  1303 non-null   object \n",
      " 6   Cpu               1303 non-null   object \n",
      " 7   Ram               1303 non-null   object \n",
      " 8   Memory            1303 non-null   object \n",
      " 9   Gpu               1303 non-null   object \n",
      " 10  OpSys             1303 non-null   object \n",
      " 11  Weight            1303 non-null   object \n",
      " 12  Price_euros       1303 non-null   float64\n",
      "dtypes: float64(2), int64(1), object(10)\n",
      "memory usage: 132.5+ KB\n"
     ]
    },
    {
     "data": {
      "application/javascript": [
       "\n",
       "            setTimeout(function() {\n",
       "                var nbb_cell_id = 5;\n",
       "                var nbb_unformatted_code = \"# checking column datatypes and number of non-null values\\ndf.info()\";\n",
       "                var nbb_formatted_code = \"# checking column datatypes and number of non-null values\\ndf.info()\";\n",
       "                var nbb_cells = Jupyter.notebook.get_cells();\n",
       "                for (var i = 0; i < nbb_cells.length; ++i) {\n",
       "                    if (nbb_cells[i].input_prompt_number == nbb_cell_id) {\n",
       "                        if (nbb_cells[i].get_text() == nbb_unformatted_code) {\n",
       "                             nbb_cells[i].set_text(nbb_formatted_code);\n",
       "                        }\n",
       "                        break;\n",
       "                    }\n",
       "                }\n",
       "            }, 500);\n",
       "            "
      ],
      "text/plain": [
       "<IPython.core.display.Javascript object>"
      ]
     },
     "metadata": {},
     "output_type": "display_data"
    }
   ],
   "source": [
    "# checking column datatypes and number of non-null values\n",
    "df.info()"
   ]
  },
  {
   "cell_type": "markdown",
   "metadata": {},
   "source": [
    "* *laptop_ID*, *Inches*, and *Price_euros* are numerical columns.\n",
    "* All other columns are of *object* type."
   ]
  },
  {
   "cell_type": "code",
   "execution_count": 6,
   "metadata": {},
   "outputs": [
    {
     "data": {
      "text/plain": [
       "laptop_ID           0\n",
       "Company             0\n",
       "Product             0\n",
       "TypeName            0\n",
       "Inches              0\n",
       "ScreenResolution    0\n",
       "Cpu                 0\n",
       "Ram                 0\n",
       "Memory              0\n",
       "Gpu                 0\n",
       "OpSys               0\n",
       "Weight              0\n",
       "Price_euros         0\n",
       "dtype: int64"
      ]
     },
     "execution_count": 6,
     "metadata": {},
     "output_type": "execute_result"
    },
    {
     "data": {
      "application/javascript": [
       "\n",
       "            setTimeout(function() {\n",
       "                var nbb_cell_id = 6;\n",
       "                var nbb_unformatted_code = \"# checking for missing values\\ndf.isnull().sum()\";\n",
       "                var nbb_formatted_code = \"# checking for missing values\\ndf.isnull().sum()\";\n",
       "                var nbb_cells = Jupyter.notebook.get_cells();\n",
       "                for (var i = 0; i < nbb_cells.length; ++i) {\n",
       "                    if (nbb_cells[i].input_prompt_number == nbb_cell_id) {\n",
       "                        if (nbb_cells[i].get_text() == nbb_unformatted_code) {\n",
       "                             nbb_cells[i].set_text(nbb_formatted_code);\n",
       "                        }\n",
       "                        break;\n",
       "                    }\n",
       "                }\n",
       "            }, 500);\n",
       "            "
      ],
      "text/plain": [
       "<IPython.core.display.Javascript object>"
      ]
     },
     "metadata": {},
     "output_type": "display_data"
    }
   ],
   "source": [
    "# checking for missing values\n",
    "df.isnull().sum()"
   ]
  },
  {
   "cell_type": "markdown",
   "metadata": {},
   "source": [
    "* There are no missing values in the data."
   ]
  },
  {
   "cell_type": "code",
   "execution_count": 7,
   "metadata": {},
   "outputs": [
    {
     "data": {
      "text/html": [
       "<div>\n",
       "<style scoped>\n",
       "    .dataframe tbody tr th:only-of-type {\n",
       "        vertical-align: middle;\n",
       "    }\n",
       "\n",
       "    .dataframe tbody tr th {\n",
       "        vertical-align: top;\n",
       "    }\n",
       "\n",
       "    .dataframe thead th {\n",
       "        text-align: right;\n",
       "    }\n",
       "</style>\n",
       "<table border=\"1\" class=\"dataframe\">\n",
       "  <thead>\n",
       "    <tr style=\"text-align: right;\">\n",
       "      <th></th>\n",
       "      <th>count</th>\n",
       "      <th>unique</th>\n",
       "      <th>top</th>\n",
       "      <th>freq</th>\n",
       "      <th>mean</th>\n",
       "      <th>std</th>\n",
       "      <th>min</th>\n",
       "      <th>25%</th>\n",
       "      <th>50%</th>\n",
       "      <th>75%</th>\n",
       "      <th>max</th>\n",
       "    </tr>\n",
       "  </thead>\n",
       "  <tbody>\n",
       "    <tr>\n",
       "      <th>laptop_ID</th>\n",
       "      <td>1303.0</td>\n",
       "      <td>NaN</td>\n",
       "      <td>NaN</td>\n",
       "      <td>NaN</td>\n",
       "      <td>660.155794</td>\n",
       "      <td>381.172104</td>\n",
       "      <td>1.0</td>\n",
       "      <td>331.5</td>\n",
       "      <td>659.0</td>\n",
       "      <td>990.5</td>\n",
       "      <td>1320.0</td>\n",
       "    </tr>\n",
       "    <tr>\n",
       "      <th>Company</th>\n",
       "      <td>1303</td>\n",
       "      <td>19</td>\n",
       "      <td>Lenovo</td>\n",
       "      <td>297</td>\n",
       "      <td>NaN</td>\n",
       "      <td>NaN</td>\n",
       "      <td>NaN</td>\n",
       "      <td>NaN</td>\n",
       "      <td>NaN</td>\n",
       "      <td>NaN</td>\n",
       "      <td>NaN</td>\n",
       "    </tr>\n",
       "    <tr>\n",
       "      <th>Product</th>\n",
       "      <td>1303</td>\n",
       "      <td>618</td>\n",
       "      <td>XPS 13</td>\n",
       "      <td>30</td>\n",
       "      <td>NaN</td>\n",
       "      <td>NaN</td>\n",
       "      <td>NaN</td>\n",
       "      <td>NaN</td>\n",
       "      <td>NaN</td>\n",
       "      <td>NaN</td>\n",
       "      <td>NaN</td>\n",
       "    </tr>\n",
       "    <tr>\n",
       "      <th>TypeName</th>\n",
       "      <td>1303</td>\n",
       "      <td>6</td>\n",
       "      <td>Notebook</td>\n",
       "      <td>727</td>\n",
       "      <td>NaN</td>\n",
       "      <td>NaN</td>\n",
       "      <td>NaN</td>\n",
       "      <td>NaN</td>\n",
       "      <td>NaN</td>\n",
       "      <td>NaN</td>\n",
       "      <td>NaN</td>\n",
       "    </tr>\n",
       "    <tr>\n",
       "      <th>Inches</th>\n",
       "      <td>1303.0</td>\n",
       "      <td>NaN</td>\n",
       "      <td>NaN</td>\n",
       "      <td>NaN</td>\n",
       "      <td>15.017191</td>\n",
       "      <td>1.426304</td>\n",
       "      <td>10.1</td>\n",
       "      <td>14.0</td>\n",
       "      <td>15.6</td>\n",
       "      <td>15.6</td>\n",
       "      <td>18.4</td>\n",
       "    </tr>\n",
       "    <tr>\n",
       "      <th>ScreenResolution</th>\n",
       "      <td>1303</td>\n",
       "      <td>40</td>\n",
       "      <td>Full HD 1920x1080</td>\n",
       "      <td>507</td>\n",
       "      <td>NaN</td>\n",
       "      <td>NaN</td>\n",
       "      <td>NaN</td>\n",
       "      <td>NaN</td>\n",
       "      <td>NaN</td>\n",
       "      <td>NaN</td>\n",
       "      <td>NaN</td>\n",
       "    </tr>\n",
       "    <tr>\n",
       "      <th>Cpu</th>\n",
       "      <td>1303</td>\n",
       "      <td>118</td>\n",
       "      <td>Intel Core i5 7200U 2.5GHz</td>\n",
       "      <td>190</td>\n",
       "      <td>NaN</td>\n",
       "      <td>NaN</td>\n",
       "      <td>NaN</td>\n",
       "      <td>NaN</td>\n",
       "      <td>NaN</td>\n",
       "      <td>NaN</td>\n",
       "      <td>NaN</td>\n",
       "    </tr>\n",
       "    <tr>\n",
       "      <th>Ram</th>\n",
       "      <td>1303</td>\n",
       "      <td>9</td>\n",
       "      <td>8GB</td>\n",
       "      <td>619</td>\n",
       "      <td>NaN</td>\n",
       "      <td>NaN</td>\n",
       "      <td>NaN</td>\n",
       "      <td>NaN</td>\n",
       "      <td>NaN</td>\n",
       "      <td>NaN</td>\n",
       "      <td>NaN</td>\n",
       "    </tr>\n",
       "    <tr>\n",
       "      <th>Memory</th>\n",
       "      <td>1303</td>\n",
       "      <td>39</td>\n",
       "      <td>256GB SSD</td>\n",
       "      <td>412</td>\n",
       "      <td>NaN</td>\n",
       "      <td>NaN</td>\n",
       "      <td>NaN</td>\n",
       "      <td>NaN</td>\n",
       "      <td>NaN</td>\n",
       "      <td>NaN</td>\n",
       "      <td>NaN</td>\n",
       "    </tr>\n",
       "    <tr>\n",
       "      <th>Gpu</th>\n",
       "      <td>1303</td>\n",
       "      <td>110</td>\n",
       "      <td>Intel HD Graphics 620</td>\n",
       "      <td>281</td>\n",
       "      <td>NaN</td>\n",
       "      <td>NaN</td>\n",
       "      <td>NaN</td>\n",
       "      <td>NaN</td>\n",
       "      <td>NaN</td>\n",
       "      <td>NaN</td>\n",
       "      <td>NaN</td>\n",
       "    </tr>\n",
       "    <tr>\n",
       "      <th>OpSys</th>\n",
       "      <td>1303</td>\n",
       "      <td>9</td>\n",
       "      <td>Windows 10</td>\n",
       "      <td>1072</td>\n",
       "      <td>NaN</td>\n",
       "      <td>NaN</td>\n",
       "      <td>NaN</td>\n",
       "      <td>NaN</td>\n",
       "      <td>NaN</td>\n",
       "      <td>NaN</td>\n",
       "      <td>NaN</td>\n",
       "    </tr>\n",
       "    <tr>\n",
       "      <th>Weight</th>\n",
       "      <td>1303</td>\n",
       "      <td>179</td>\n",
       "      <td>2.2kg</td>\n",
       "      <td>121</td>\n",
       "      <td>NaN</td>\n",
       "      <td>NaN</td>\n",
       "      <td>NaN</td>\n",
       "      <td>NaN</td>\n",
       "      <td>NaN</td>\n",
       "      <td>NaN</td>\n",
       "      <td>NaN</td>\n",
       "    </tr>\n",
       "    <tr>\n",
       "      <th>Price_euros</th>\n",
       "      <td>1303.0</td>\n",
       "      <td>NaN</td>\n",
       "      <td>NaN</td>\n",
       "      <td>NaN</td>\n",
       "      <td>1123.686992</td>\n",
       "      <td>699.009043</td>\n",
       "      <td>174.0</td>\n",
       "      <td>599.0</td>\n",
       "      <td>977.0</td>\n",
       "      <td>1487.88</td>\n",
       "      <td>6099.0</td>\n",
       "    </tr>\n",
       "  </tbody>\n",
       "</table>\n",
       "</div>"
      ],
      "text/plain": [
       "                   count unique                         top  freq  \\\n",
       "laptop_ID         1303.0    NaN                         NaN   NaN   \n",
       "Company             1303     19                      Lenovo   297   \n",
       "Product             1303    618                      XPS 13    30   \n",
       "TypeName            1303      6                    Notebook   727   \n",
       "Inches            1303.0    NaN                         NaN   NaN   \n",
       "ScreenResolution    1303     40           Full HD 1920x1080   507   \n",
       "Cpu                 1303    118  Intel Core i5 7200U 2.5GHz   190   \n",
       "Ram                 1303      9                         8GB   619   \n",
       "Memory              1303     39                   256GB SSD   412   \n",
       "Gpu                 1303    110       Intel HD Graphics 620   281   \n",
       "OpSys               1303      9                  Windows 10  1072   \n",
       "Weight              1303    179                       2.2kg   121   \n",
       "Price_euros       1303.0    NaN                         NaN   NaN   \n",
       "\n",
       "                         mean         std    min    25%    50%      75%  \\\n",
       "laptop_ID          660.155794  381.172104    1.0  331.5  659.0    990.5   \n",
       "Company                   NaN         NaN    NaN    NaN    NaN      NaN   \n",
       "Product                   NaN         NaN    NaN    NaN    NaN      NaN   \n",
       "TypeName                  NaN         NaN    NaN    NaN    NaN      NaN   \n",
       "Inches              15.017191    1.426304   10.1   14.0   15.6     15.6   \n",
       "ScreenResolution          NaN         NaN    NaN    NaN    NaN      NaN   \n",
       "Cpu                       NaN         NaN    NaN    NaN    NaN      NaN   \n",
       "Ram                       NaN         NaN    NaN    NaN    NaN      NaN   \n",
       "Memory                    NaN         NaN    NaN    NaN    NaN      NaN   \n",
       "Gpu                       NaN         NaN    NaN    NaN    NaN      NaN   \n",
       "OpSys                     NaN         NaN    NaN    NaN    NaN      NaN   \n",
       "Weight                    NaN         NaN    NaN    NaN    NaN      NaN   \n",
       "Price_euros       1123.686992  699.009043  174.0  599.0  977.0  1487.88   \n",
       "\n",
       "                     max  \n",
       "laptop_ID         1320.0  \n",
       "Company              NaN  \n",
       "Product              NaN  \n",
       "TypeName             NaN  \n",
       "Inches              18.4  \n",
       "ScreenResolution     NaN  \n",
       "Cpu                  NaN  \n",
       "Ram                  NaN  \n",
       "Memory               NaN  \n",
       "Gpu                  NaN  \n",
       "OpSys                NaN  \n",
       "Weight               NaN  \n",
       "Price_euros       6099.0  "
      ]
     },
     "execution_count": 7,
     "metadata": {},
     "output_type": "execute_result"
    },
    {
     "data": {
      "application/javascript": [
       "\n",
       "            setTimeout(function() {\n",
       "                var nbb_cell_id = 7;\n",
       "                var nbb_unformatted_code = \"# Let's look at the statistical summary of the data\\ndf.describe(include=\\\"all\\\").T\";\n",
       "                var nbb_formatted_code = \"# Let's look at the statistical summary of the data\\ndf.describe(include=\\\"all\\\").T\";\n",
       "                var nbb_cells = Jupyter.notebook.get_cells();\n",
       "                for (var i = 0; i < nbb_cells.length; ++i) {\n",
       "                    if (nbb_cells[i].input_prompt_number == nbb_cell_id) {\n",
       "                        if (nbb_cells[i].get_text() == nbb_unformatted_code) {\n",
       "                             nbb_cells[i].set_text(nbb_formatted_code);\n",
       "                        }\n",
       "                        break;\n",
       "                    }\n",
       "                }\n",
       "            }, 500);\n",
       "            "
      ],
      "text/plain": [
       "<IPython.core.display.Javascript object>"
      ]
     },
     "metadata": {},
     "output_type": "display_data"
    }
   ],
   "source": [
    "# Let's look at the statistical summary of the data\n",
    "df.describe(include=\"all\").T"
   ]
  },
  {
   "cell_type": "markdown",
   "metadata": {},
   "source": [
    "**Observations**\n",
    "\n",
    "* There are 19 different laptop manufacturing companies in the data.\n",
    "* There are over 600 different laptop models in the data.\n",
    "* The screen size varies from 10.1 to 18.1 inches.\n",
    "* The laptop prices vary from 174 to ~6100 euros."
   ]
  },
  {
   "cell_type": "code",
   "execution_count": 8,
   "metadata": {},
   "outputs": [
    {
     "data": {
      "application/javascript": [
       "\n",
       "            setTimeout(function() {\n",
       "                var nbb_cell_id = 8;\n",
       "                var nbb_unformatted_code = \"# function to create labeled barplots\\n\\n\\ndef labeled_barplot(data, feature, perc=False, n=None):\\n    \\\"\\\"\\\"\\n    Barplot with percentage at the top\\n\\n    data: dataframe\\n    feature: dataframe column\\n    perc: whether to display percentages instead of count (default is False)\\n    n: displays the top n category levels (default is None, i.e., display all levels)\\n    \\\"\\\"\\\"\\n\\n    total = len(data[feature])  # length of the column\\n    count = data[feature].nunique()\\n    if n is None:\\n        plt.figure(figsize=(count + 1, 5))\\n    else:\\n        plt.figure(figsize=(n + 1, 5))\\n\\n    plt.xticks(rotation=90, fontsize=15)\\n    ax = sns.countplot(\\n        data=data,\\n        x=feature,\\n        palette=\\\"Paired\\\",\\n        order=data[feature].value_counts().index[:n].sort_values(),\\n    )\\n\\n    for p in ax.patches:\\n        if perc == True:\\n            label = \\\"{:.1f}%\\\".format(\\n                100 * p.get_height() / total\\n            )  # percentage of each class of the category\\n        else:\\n            label = p.get_height()  # count of each level of the category\\n\\n        x = p.get_x() + p.get_width() / 2  # width of the plot\\n        y = p.get_height()  # height of the plot\\n\\n        ax.annotate(\\n            label,\\n            (x, y),\\n            ha=\\\"center\\\",\\n            va=\\\"center\\\",\\n            size=12,\\n            xytext=(0, 5),\\n            textcoords=\\\"offset points\\\",\\n        )  # annotate the percentage\\n\\n    plt.show()  # show the plot\";\n",
       "                var nbb_formatted_code = \"# function to create labeled barplots\\n\\n\\ndef labeled_barplot(data, feature, perc=False, n=None):\\n    \\\"\\\"\\\"\\n    Barplot with percentage at the top\\n\\n    data: dataframe\\n    feature: dataframe column\\n    perc: whether to display percentages instead of count (default is False)\\n    n: displays the top n category levels (default is None, i.e., display all levels)\\n    \\\"\\\"\\\"\\n\\n    total = len(data[feature])  # length of the column\\n    count = data[feature].nunique()\\n    if n is None:\\n        plt.figure(figsize=(count + 1, 5))\\n    else:\\n        plt.figure(figsize=(n + 1, 5))\\n\\n    plt.xticks(rotation=90, fontsize=15)\\n    ax = sns.countplot(\\n        data=data,\\n        x=feature,\\n        palette=\\\"Paired\\\",\\n        order=data[feature].value_counts().index[:n].sort_values(),\\n    )\\n\\n    for p in ax.patches:\\n        if perc == True:\\n            label = \\\"{:.1f}%\\\".format(\\n                100 * p.get_height() / total\\n            )  # percentage of each class of the category\\n        else:\\n            label = p.get_height()  # count of each level of the category\\n\\n        x = p.get_x() + p.get_width() / 2  # width of the plot\\n        y = p.get_height()  # height of the plot\\n\\n        ax.annotate(\\n            label,\\n            (x, y),\\n            ha=\\\"center\\\",\\n            va=\\\"center\\\",\\n            size=12,\\n            xytext=(0, 5),\\n            textcoords=\\\"offset points\\\",\\n        )  # annotate the percentage\\n\\n    plt.show()  # show the plot\";\n",
       "                var nbb_cells = Jupyter.notebook.get_cells();\n",
       "                for (var i = 0; i < nbb_cells.length; ++i) {\n",
       "                    if (nbb_cells[i].input_prompt_number == nbb_cell_id) {\n",
       "                        if (nbb_cells[i].get_text() == nbb_unformatted_code) {\n",
       "                             nbb_cells[i].set_text(nbb_formatted_code);\n",
       "                        }\n",
       "                        break;\n",
       "                    }\n",
       "                }\n",
       "            }, 500);\n",
       "            "
      ],
      "text/plain": [
       "<IPython.core.display.Javascript object>"
      ]
     },
     "metadata": {},
     "output_type": "display_data"
    }
   ],
   "source": [
    "# function to create labeled barplots\n",
    "\n",
    "\n",
    "def labeled_barplot(data, feature, perc=False, n=None):\n",
    "    \"\"\"\n",
    "    Barplot with percentage at the top\n",
    "\n",
    "    data: dataframe\n",
    "    feature: dataframe column\n",
    "    perc: whether to display percentages instead of count (default is False)\n",
    "    n: displays the top n category levels (default is None, i.e., display all levels)\n",
    "    \"\"\"\n",
    "\n",
    "    total = len(data[feature])  # length of the column\n",
    "    count = data[feature].nunique()\n",
    "    if n is None:\n",
    "        plt.figure(figsize=(count + 1, 5))\n",
    "    else:\n",
    "        plt.figure(figsize=(n + 1, 5))\n",
    "\n",
    "    plt.xticks(rotation=90, fontsize=15)\n",
    "    ax = sns.countplot(\n",
    "        data=data,\n",
    "        x=feature,\n",
    "        palette=\"Paired\",\n",
    "        order=data[feature].value_counts().index[:n].sort_values(),\n",
    "    )\n",
    "\n",
    "    for p in ax.patches:\n",
    "        if perc == True:\n",
    "            label = \"{:.1f}%\".format(\n",
    "                100 * p.get_height() / total\n",
    "            )  # percentage of each class of the category\n",
    "        else:\n",
    "            label = p.get_height()  # count of each level of the category\n",
    "\n",
    "        x = p.get_x() + p.get_width() / 2  # width of the plot\n",
    "        y = p.get_height()  # height of the plot\n",
    "\n",
    "        ax.annotate(\n",
    "            label,\n",
    "            (x, y),\n",
    "            ha=\"center\",\n",
    "            va=\"center\",\n",
    "            size=12,\n",
    "            xytext=(0, 5),\n",
    "            textcoords=\"offset points\",\n",
    "        )  # annotate the percentage\n",
    "\n",
    "    plt.show()  # show the plot"
   ]
  },
  {
   "cell_type": "markdown",
   "metadata": {},
   "source": [
    "### Q. How many laptops are available across the different companies manufacturing laptops?"
   ]
  },
  {
   "cell_type": "code",
   "execution_count": 9,
   "metadata": {},
   "outputs": [
    {
     "data": {
      "text/plain": [
       "Lenovo       297\n",
       "Dell         297\n",
       "HP           274\n",
       "Asus         158\n",
       "Acer         103\n",
       "MSI           54\n",
       "Toshiba       48\n",
       "Apple         21\n",
       "Samsung        9\n",
       "Mediacom       7\n",
       "Razer          7\n",
       "Microsoft      6\n",
       "Vero           4\n",
       "Xiaomi         4\n",
       "Chuwi          3\n",
       "LG             3\n",
       "Google         3\n",
       "Fujitsu        3\n",
       "Huawei         2\n",
       "Name: Company, dtype: int64"
      ]
     },
     "execution_count": 9,
     "metadata": {},
     "output_type": "execute_result"
    },
    {
     "data": {
      "application/javascript": [
       "\n",
       "            setTimeout(function() {\n",
       "                var nbb_cell_id = 9;\n",
       "                var nbb_unformatted_code = \"df.Company.value_counts()\";\n",
       "                var nbb_formatted_code = \"df.Company.value_counts()\";\n",
       "                var nbb_cells = Jupyter.notebook.get_cells();\n",
       "                for (var i = 0; i < nbb_cells.length; ++i) {\n",
       "                    if (nbb_cells[i].input_prompt_number == nbb_cell_id) {\n",
       "                        if (nbb_cells[i].get_text() == nbb_unformatted_code) {\n",
       "                             nbb_cells[i].set_text(nbb_formatted_code);\n",
       "                        }\n",
       "                        break;\n",
       "                    }\n",
       "                }\n",
       "            }, 500);\n",
       "            "
      ],
      "text/plain": [
       "<IPython.core.display.Javascript object>"
      ]
     },
     "metadata": {},
     "output_type": "display_data"
    }
   ],
   "source": [
    "df.Company.value_counts()"
   ]
  },
  {
   "cell_type": "code",
   "execution_count": 10,
   "metadata": {},
   "outputs": [
    {
     "data": {
      "image/png": "[encoded data removed]",
      "text/plain": [
       "<Figure size 1440x360 with 1 Axes>"
      ]
     },
     "metadata": {},
     "output_type": "display_data"
    },
    {
     "data": {
      "application/javascript": [
       "\n",
       "            setTimeout(function() {\n",
       "                var nbb_cell_id = 10;\n",
       "                var nbb_unformatted_code = \"labeled_barplot(df, \\\"Company\\\")\";\n",
       "                var nbb_formatted_code = \"labeled_barplot(df, \\\"Company\\\")\";\n",
       "                var nbb_cells = Jupyter.notebook.get_cells();\n",
       "                for (var i = 0; i < nbb_cells.length; ++i) {\n",
       "                    if (nbb_cells[i].input_prompt_number == nbb_cell_id) {\n",
       "                        if (nbb_cells[i].get_text() == nbb_unformatted_code) {\n",
       "                             nbb_cells[i].set_text(nbb_formatted_code);\n",
       "                        }\n",
       "                        break;\n",
       "                    }\n",
       "                }\n",
       "            }, 500);\n",
       "            "
      ],
      "text/plain": [
       "<IPython.core.display.Javascript object>"
      ]
     },
     "metadata": {},
     "output_type": "display_data"
    }
   ],
   "source": [
    "labeled_barplot(df, \"Company\")"
   ]
  },
  {
   "cell_type": "markdown",
   "metadata": {},
   "source": [
    "### HP, Dell, and Lenovo have the highest number of available laptops."
   ]
  },
  {
   "cell_type": "markdown",
   "metadata": {},
   "source": [
    "### Q. How does the price vary across the different companies manufacturing laptops?"
   ]
  },
  {
   "cell_type": "code",
   "execution_count": 11,
   "metadata": {},
   "outputs": [
    {
     "data": {
      "text/plain": [
       "Company\n",
       "Acer          626.775825\n",
       "Apple        1564.198571\n",
       "Asus         1104.169367\n",
       "Chuwi         314.296667\n",
       "Dell         1186.068990\n",
       "Fujitsu       729.000000\n",
       "Google       1677.666667\n",
       "HP           1067.774854\n",
       "Huawei       1424.000000\n",
       "LG           2099.000000\n",
       "Lenovo       1086.384444\n",
       "MSI          1728.908148\n",
       "Mediacom      295.000000\n",
       "Microsoft    1612.308333\n",
       "Razer        3346.142857\n",
       "Samsung      1413.444444\n",
       "Toshiba      1267.812500\n",
       "Vero          217.425000\n",
       "Xiaomi       1133.462500\n",
       "Name: Price_euros, dtype: float64"
      ]
     },
     "execution_count": 11,
     "metadata": {},
     "output_type": "execute_result"
    },
    {
     "data": {
      "application/javascript": [
       "\n",
       "            setTimeout(function() {\n",
       "                var nbb_cell_id = 11;\n",
       "                var nbb_unformatted_code = \"df.groupby(\\\"Company\\\")[\\\"Price_euros\\\"].mean()\";\n",
       "                var nbb_formatted_code = \"df.groupby(\\\"Company\\\")[\\\"Price_euros\\\"].mean()\";\n",
       "                var nbb_cells = Jupyter.notebook.get_cells();\n",
       "                for (var i = 0; i < nbb_cells.length; ++i) {\n",
       "                    if (nbb_cells[i].input_prompt_number == nbb_cell_id) {\n",
       "                        if (nbb_cells[i].get_text() == nbb_unformatted_code) {\n",
       "                             nbb_cells[i].set_text(nbb_formatted_code);\n",
       "                        }\n",
       "                        break;\n",
       "                    }\n",
       "                }\n",
       "            }, 500);\n",
       "            "
      ],
      "text/plain": [
       "<IPython.core.display.Javascript object>"
      ]
     },
     "metadata": {},
     "output_type": "display_data"
    }
   ],
   "source": [
    "df.groupby(\"Company\")[\"Price_euros\"].mean()"
   ]
  },
  {
   "cell_type": "code",
   "execution_count": 12,
   "metadata": {},
   "outputs": [
    {
     "data": {
      "image/png": "[encoded data removed]",
      "text/plain": [
       "<Figure size 1080x360 with 2 Axes>"
      ]
     },
     "metadata": {},
     "output_type": "display_data"
    },
    {
     "data": {
      "application/javascript": [
       "\n",
       "            setTimeout(function() {\n",
       "                var nbb_cell_id = 12;\n",
       "                var nbb_unformatted_code = \"plt.figure(figsize=(15, 5))\\n\\nplt.subplot(1, 2, 1)\\nsns.barplot(data=df, y=\\\"Price_euros\\\", x=\\\"Company\\\")\\nplt.xticks(rotation=90)\\n\\nplt.subplot(1, 2, 2)\\nsns.boxplot(data=df, y=\\\"Price_euros\\\", x=\\\"Company\\\")\\nplt.xticks(rotation=90)\\n\\nplt.show()\";\n",
       "                var nbb_formatted_code = \"plt.figure(figsize=(15, 5))\\n\\nplt.subplot(1, 2, 1)\\nsns.barplot(data=df, y=\\\"Price_euros\\\", x=\\\"Company\\\")\\nplt.xticks(rotation=90)\\n\\nplt.subplot(1, 2, 2)\\nsns.boxplot(data=df, y=\\\"Price_euros\\\", x=\\\"Company\\\")\\nplt.xticks(rotation=90)\\n\\nplt.show()\";\n",
       "                var nbb_cells = Jupyter.notebook.get_cells();\n",
       "                for (var i = 0; i < nbb_cells.length; ++i) {\n",
       "                    if (nbb_cells[i].input_prompt_number == nbb_cell_id) {\n",
       "                        if (nbb_cells[i].get_text() == nbb_unformatted_code) {\n",
       "                             nbb_cells[i].set_text(nbb_formatted_code);\n",
       "                        }\n",
       "                        break;\n",
       "                    }\n",
       "                }\n",
       "            }, 500);\n",
       "            "
      ],
      "text/plain": [
       "<IPython.core.display.Javascript object>"
      ]
     },
     "metadata": {},
     "output_type": "display_data"
    }
   ],
   "source": [
    "plt.figure(figsize=(15, 5))\n",
    "\n",
    "plt.subplot(1, 2, 1)\n",
    "sns.barplot(data=df, y=\"Price_euros\", x=\"Company\")\n",
    "plt.xticks(rotation=90)\n",
    "\n",
    "plt.subplot(1, 2, 2)\n",
    "sns.boxplot(data=df, y=\"Price_euros\", x=\"Company\")\n",
    "plt.xticks(rotation=90)\n",
    "\n",
    "plt.show()"
   ]
  },
  {
   "cell_type": "markdown",
   "metadata": {},
   "source": [
    "### Asus, Dell, Lenovo, and HP offer laptops at competitive prices. Apple and MSI laptops are slightly higher priced, while Acer laptops are cheaper. Laptops manufactured by Razer are the most expensive in general."
   ]
  },
  {
   "cell_type": "markdown",
   "metadata": {},
   "source": [
    "### Q. How does the price vary across the different types of laptops?"
   ]
  },
  {
   "cell_type": "code",
   "execution_count": 13,
   "metadata": {},
   "outputs": [
    {
     "data": {
      "text/plain": [
       "TypeName\n",
       "2 in 1 Convertible    1282.401653\n",
       "Gaming                1731.380634\n",
       "Netbook                636.232000\n",
       "Notebook               782.078624\n",
       "Ultrabook             1548.230357\n",
       "Workstation           2280.358966\n",
       "Name: Price_euros, dtype: float64"
      ]
     },
     "execution_count": 13,
     "metadata": {},
     "output_type": "execute_result"
    },
    {
     "data": {
      "application/javascript": [
       "\n",
       "            setTimeout(function() {\n",
       "                var nbb_cell_id = 13;\n",
       "                var nbb_unformatted_code = \"df.groupby(\\\"TypeName\\\")[\\\"Price_euros\\\"].mean()\";\n",
       "                var nbb_formatted_code = \"df.groupby(\\\"TypeName\\\")[\\\"Price_euros\\\"].mean()\";\n",
       "                var nbb_cells = Jupyter.notebook.get_cells();\n",
       "                for (var i = 0; i < nbb_cells.length; ++i) {\n",
       "                    if (nbb_cells[i].input_prompt_number == nbb_cell_id) {\n",
       "                        if (nbb_cells[i].get_text() == nbb_unformatted_code) {\n",
       "                             nbb_cells[i].set_text(nbb_formatted_code);\n",
       "                        }\n",
       "                        break;\n",
       "                    }\n",
       "                }\n",
       "            }, 500);\n",
       "            "
      ],
      "text/plain": [
       "<IPython.core.display.Javascript object>"
      ]
     },
     "metadata": {},
     "output_type": "display_data"
    }
   ],
   "source": [
    "df.groupby(\"TypeName\")[\"Price_euros\"].mean()"
   ]
  },
  {
   "cell_type": "code",
   "execution_count": 14,
   "metadata": {},
   "outputs": [
    {
     "data": {
      "image/png": "[encoded data removed]",
      "text/plain": [
       "<Figure size 1080x360 with 2 Axes>"
      ]
     },
     "metadata": {},
     "output_type": "display_data"
    },
    {
     "data": {
      "application/javascript": [
       "\n",
       "            setTimeout(function() {\n",
       "                var nbb_cell_id = 14;\n",
       "                var nbb_unformatted_code = \"plt.figure(figsize=(15, 5))\\n\\nplt.subplot(1, 2, 1)\\nsns.barplot(data=df, y=\\\"Price_euros\\\", x=\\\"TypeName\\\")\\nplt.xticks(rotation=45)\\n\\nplt.subplot(1, 2, 2)\\nsns.boxplot(data=df, y=\\\"Price_euros\\\", x=\\\"TypeName\\\")\\nplt.xticks(rotation=45)\\n\\nplt.show()\";\n",
       "                var nbb_formatted_code = \"plt.figure(figsize=(15, 5))\\n\\nplt.subplot(1, 2, 1)\\nsns.barplot(data=df, y=\\\"Price_euros\\\", x=\\\"TypeName\\\")\\nplt.xticks(rotation=45)\\n\\nplt.subplot(1, 2, 2)\\nsns.boxplot(data=df, y=\\\"Price_euros\\\", x=\\\"TypeName\\\")\\nplt.xticks(rotation=45)\\n\\nplt.show()\";\n",
       "                var nbb_cells = Jupyter.notebook.get_cells();\n",
       "                for (var i = 0; i < nbb_cells.length; ++i) {\n",
       "                    if (nbb_cells[i].input_prompt_number == nbb_cell_id) {\n",
       "                        if (nbb_cells[i].get_text() == nbb_unformatted_code) {\n",
       "                             nbb_cells[i].set_text(nbb_formatted_code);\n",
       "                        }\n",
       "                        break;\n",
       "                    }\n",
       "                }\n",
       "            }, 500);\n",
       "            "
      ],
      "text/plain": [
       "<IPython.core.display.Javascript object>"
      ]
     },
     "metadata": {},
     "output_type": "display_data"
    }
   ],
   "source": [
    "plt.figure(figsize=(15, 5))\n",
    "\n",
    "plt.subplot(1, 2, 1)\n",
    "sns.barplot(data=df, y=\"Price_euros\", x=\"TypeName\")\n",
    "plt.xticks(rotation=45)\n",
    "\n",
    "plt.subplot(1, 2, 2)\n",
    "sns.boxplot(data=df, y=\"Price_euros\", x=\"TypeName\")\n",
    "plt.xticks(rotation=45)\n",
    "\n",
    "plt.show()"
   ]
  },
  {
   "cell_type": "markdown",
   "metadata": {},
   "source": [
    "### Gamings laptops and workstations are the most expensive types of laptops on average, while Notebooks and Netbooks are the cheapest."
   ]
  },
  {
   "cell_type": "code",
   "execution_count": 15,
   "metadata": {},
   "outputs": [
    {
     "data": {
      "application/javascript": [
       "\n",
       "            setTimeout(function() {\n",
       "                var nbb_cell_id = 15;\n",
       "                var nbb_unformatted_code = \"# let's create a copy of our data\\ndf1 = df.copy()\";\n",
       "                var nbb_formatted_code = \"# let's create a copy of our data\\ndf1 = df.copy()\";\n",
       "                var nbb_cells = Jupyter.notebook.get_cells();\n",
       "                for (var i = 0; i < nbb_cells.length; ++i) {\n",
       "                    if (nbb_cells[i].input_prompt_number == nbb_cell_id) {\n",
       "                        if (nbb_cells[i].get_text() == nbb_unformatted_code) {\n",
       "                             nbb_cells[i].set_text(nbb_formatted_code);\n",
       "                        }\n",
       "                        break;\n",
       "                    }\n",
       "                }\n",
       "            }, 500);\n",
       "            "
      ],
      "text/plain": [
       "<IPython.core.display.Javascript object>"
      ]
     },
     "metadata": {},
     "output_type": "display_data"
    }
   ],
   "source": [
    "# let's create a copy of our data\n",
    "df1 = df.copy()"
   ]
  },
  {
   "cell_type": "markdown",
   "metadata": {},
   "source": [
    "### Q. The amount of RAM available is a key factor in gaming performance. How does the amount of RAM vary by the company for Gaming laptops?"
   ]
  },
  {
   "cell_type": "code",
   "execution_count": 16,
   "metadata": {},
   "outputs": [
    {
     "data": {
      "text/html": [
       "<div>\n",
       "<style scoped>\n",
       "    .dataframe tbody tr th:only-of-type {\n",
       "        vertical-align: middle;\n",
       "    }\n",
       "\n",
       "    .dataframe tbody tr th {\n",
       "        vertical-align: top;\n",
       "    }\n",
       "\n",
       "    .dataframe thead th {\n",
       "        text-align: right;\n",
       "    }\n",
       "</style>\n",
       "<table border=\"1\" class=\"dataframe\">\n",
       "  <thead>\n",
       "    <tr style=\"text-align: right;\">\n",
       "      <th></th>\n",
       "      <th>laptop_ID</th>\n",
       "      <th>Company</th>\n",
       "      <th>Product</th>\n",
       "      <th>TypeName</th>\n",
       "      <th>Inches</th>\n",
       "      <th>ScreenResolution</th>\n",
       "      <th>Cpu</th>\n",
       "      <th>Ram</th>\n",
       "      <th>Memory</th>\n",
       "      <th>Gpu</th>\n",
       "      <th>OpSys</th>\n",
       "      <th>Weight</th>\n",
       "      <th>Price_euros</th>\n",
       "    </tr>\n",
       "  </thead>\n",
       "  <tbody>\n",
       "    <tr>\n",
       "      <th>0</th>\n",
       "      <td>1</td>\n",
       "      <td>Apple</td>\n",
       "      <td>MacBook Pro</td>\n",
       "      <td>Ultrabook</td>\n",
       "      <td>13.3</td>\n",
       "      <td>IPS Panel Retina Display 2560x1600</td>\n",
       "      <td>Intel Core i5 2.3GHz</td>\n",
       "      <td>8GB</td>\n",
       "      <td>128GB SSD</td>\n",
       "      <td>Intel Iris Plus Graphics 640</td>\n",
       "      <td>macOS</td>\n",
       "      <td>1.37kg</td>\n",
       "      <td>1339.69</td>\n",
       "    </tr>\n",
       "    <tr>\n",
       "      <th>1</th>\n",
       "      <td>2</td>\n",
       "      <td>Apple</td>\n",
       "      <td>Macbook Air</td>\n",
       "      <td>Ultrabook</td>\n",
       "      <td>13.3</td>\n",
       "      <td>1440x900</td>\n",
       "      <td>Intel Core i5 1.8GHz</td>\n",
       "      <td>8GB</td>\n",
       "      <td>128GB Flash Storage</td>\n",
       "      <td>Intel HD Graphics 6000</td>\n",
       "      <td>macOS</td>\n",
       "      <td>1.34kg</td>\n",
       "      <td>898.94</td>\n",
       "    </tr>\n",
       "    <tr>\n",
       "      <th>2</th>\n",
       "      <td>3</td>\n",
       "      <td>HP</td>\n",
       "      <td>250 G6</td>\n",
       "      <td>Notebook</td>\n",
       "      <td>15.6</td>\n",
       "      <td>Full HD 1920x1080</td>\n",
       "      <td>Intel Core i5 7200U 2.5GHz</td>\n",
       "      <td>8GB</td>\n",
       "      <td>256GB SSD</td>\n",
       "      <td>Intel HD Graphics 620</td>\n",
       "      <td>No OS</td>\n",
       "      <td>1.86kg</td>\n",
       "      <td>575.00</td>\n",
       "    </tr>\n",
       "    <tr>\n",
       "      <th>3</th>\n",
       "      <td>4</td>\n",
       "      <td>Apple</td>\n",
       "      <td>MacBook Pro</td>\n",
       "      <td>Ultrabook</td>\n",
       "      <td>15.4</td>\n",
       "      <td>IPS Panel Retina Display 2880x1800</td>\n",
       "      <td>Intel Core i7 2.7GHz</td>\n",
       "      <td>16GB</td>\n",
       "      <td>512GB SSD</td>\n",
       "      <td>AMD Radeon Pro 455</td>\n",
       "      <td>macOS</td>\n",
       "      <td>1.83kg</td>\n",
       "      <td>2537.45</td>\n",
       "    </tr>\n",
       "    <tr>\n",
       "      <th>4</th>\n",
       "      <td>5</td>\n",
       "      <td>Apple</td>\n",
       "      <td>MacBook Pro</td>\n",
       "      <td>Ultrabook</td>\n",
       "      <td>13.3</td>\n",
       "      <td>IPS Panel Retina Display 2560x1600</td>\n",
       "      <td>Intel Core i5 3.1GHz</td>\n",
       "      <td>8GB</td>\n",
       "      <td>256GB SSD</td>\n",
       "      <td>Intel Iris Plus Graphics 650</td>\n",
       "      <td>macOS</td>\n",
       "      <td>1.37kg</td>\n",
       "      <td>1803.60</td>\n",
       "    </tr>\n",
       "  </tbody>\n",
       "</table>\n",
       "</div>"
      ],
      "text/plain": [
       "   laptop_ID Company      Product   TypeName  Inches  \\\n",
       "0          1   Apple  MacBook Pro  Ultrabook    13.3   \n",
       "1          2   Apple  Macbook Air  Ultrabook    13.3   \n",
       "2          3      HP       250 G6   Notebook    15.6   \n",
       "3          4   Apple  MacBook Pro  Ultrabook    15.4   \n",
       "4          5   Apple  MacBook Pro  Ultrabook    13.3   \n",
       "\n",
       "                     ScreenResolution                         Cpu   Ram  \\\n",
       "0  IPS Panel Retina Display 2560x1600        Intel Core i5 2.3GHz   8GB   \n",
       "1                            1440x900        Intel Core i5 1.8GHz   8GB   \n",
       "2                   Full HD 1920x1080  Intel Core i5 7200U 2.5GHz   8GB   \n",
       "3  IPS Panel Retina Display 2880x1800        Intel Core i7 2.7GHz  16GB   \n",
       "4  IPS Panel Retina Display 2560x1600        Intel Core i5 3.1GHz   8GB   \n",
       "\n",
       "                Memory                           Gpu  OpSys  Weight  \\\n",
       "0            128GB SSD  Intel Iris Plus Graphics 640  macOS  1.37kg   \n",
       "1  128GB Flash Storage        Intel HD Graphics 6000  macOS  1.34kg   \n",
       "2            256GB SSD         Intel HD Graphics 620  No OS  1.86kg   \n",
       "3            512GB SSD            AMD Radeon Pro 455  macOS  1.83kg   \n",
       "4            256GB SSD  Intel Iris Plus Graphics 650  macOS  1.37kg   \n",
       "\n",
       "   Price_euros  \n",
       "0      1339.69  \n",
       "1       898.94  \n",
       "2       575.00  \n",
       "3      2537.45  \n",
       "4      1803.60  "
      ]
     },
     "execution_count": 16,
     "metadata": {},
     "output_type": "execute_result"
    },
    {
     "data": {
      "application/javascript": [
       "\n",
       "            setTimeout(function() {\n",
       "                var nbb_cell_id = 16;\n",
       "                var nbb_unformatted_code = \"df1.head()\";\n",
       "                var nbb_formatted_code = \"df1.head()\";\n",
       "                var nbb_cells = Jupyter.notebook.get_cells();\n",
       "                for (var i = 0; i < nbb_cells.length; ++i) {\n",
       "                    if (nbb_cells[i].input_prompt_number == nbb_cell_id) {\n",
       "                        if (nbb_cells[i].get_text() == nbb_unformatted_code) {\n",
       "                             nbb_cells[i].set_text(nbb_formatted_code);\n",
       "                        }\n",
       "                        break;\n",
       "                    }\n",
       "                }\n",
       "            }, 500);\n",
       "            "
      ],
      "text/plain": [
       "<IPython.core.display.Javascript object>"
      ]
     },
     "metadata": {},
     "output_type": "display_data"
    }
   ],
   "source": [
    "df1.head()"
   ]
  },
  {
   "cell_type": "code",
   "execution_count": 17,
   "metadata": {},
   "outputs": [
    {
     "data": {
      "application/javascript": [
       "\n",
       "            setTimeout(function() {\n",
       "                var nbb_cell_id = 17;\n",
       "                var nbb_unformatted_code = \"# defining a function to extract the amount of RAM\\n\\n\\ndef ram_to_num(ram_val):\\n    \\\"\\\"\\\"\\n    This function takes in a string representing the amount of RAM\\n    and converts it to a number. For example, '8GB' becomes 8.\\n    If the input is already numeric, which probably means it's NaN,\\n    this function just returns np.nan.\\n    \\\"\\\"\\\"\\n    if isinstance(ram_val, str):  # checks if 'ram_val' is a string\\n        if ram_val.endswith(\\\"GB\\\"):\\n            return float(ram_val.replace(\\\"GB\\\", \\\"\\\"))\\n        elif ram_val.endswith(\\\"MB\\\"):\\n            return (\\n                float(ram_val.replace(\\\"MB\\\", \\\"\\\")) / 1024\\n            )  # converting MB to GB by dividing by 1024\\n    else:  # this happens when the current ram is np.nan\\n        return np.nan\";\n",
       "                var nbb_formatted_code = \"# defining a function to extract the amount of RAM\\n\\n\\ndef ram_to_num(ram_val):\\n    \\\"\\\"\\\"\\n    This function takes in a string representing the amount of RAM\\n    and converts it to a number. For example, '8GB' becomes 8.\\n    If the input is already numeric, which probably means it's NaN,\\n    this function just returns np.nan.\\n    \\\"\\\"\\\"\\n    if isinstance(ram_val, str):  # checks if 'ram_val' is a string\\n        if ram_val.endswith(\\\"GB\\\"):\\n            return float(ram_val.replace(\\\"GB\\\", \\\"\\\"))\\n        elif ram_val.endswith(\\\"MB\\\"):\\n            return (\\n                float(ram_val.replace(\\\"MB\\\", \\\"\\\")) / 1024\\n            )  # converting MB to GB by dividing by 1024\\n    else:  # this happens when the current ram is np.nan\\n        return np.nan\";\n",
       "                var nbb_cells = Jupyter.notebook.get_cells();\n",
       "                for (var i = 0; i < nbb_cells.length; ++i) {\n",
       "                    if (nbb_cells[i].input_prompt_number == nbb_cell_id) {\n",
       "                        if (nbb_cells[i].get_text() == nbb_unformatted_code) {\n",
       "                             nbb_cells[i].set_text(nbb_formatted_code);\n",
       "                        }\n",
       "                        break;\n",
       "                    }\n",
       "                }\n",
       "            }, 500);\n",
       "            "
      ],
      "text/plain": [
       "<IPython.core.display.Javascript object>"
      ]
     },
     "metadata": {},
     "output_type": "display_data"
    }
   ],
   "source": [
    "# defining a function to extract the amount of RAM\n",
    "\n",
    "\n",
    "def ram_to_num(ram_val):\n",
    "    \"\"\"\n",
    "    This function takes in a string representing the amount of RAM\n",
    "    and converts it to a number. For example, '8GB' becomes 8.\n",
    "    If the input is already numeric, which probably means it's NaN,\n",
    "    this function just returns np.nan.\n",
    "    \"\"\"\n",
    "    if isinstance(ram_val, str):  # checks if 'ram_val' is a string\n",
    "        if ram_val.endswith(\"GB\"):\n",
    "            return float(ram_val.replace(\"GB\", \"\"))\n",
    "        elif ram_val.endswith(\"MB\"):\n",
    "            return (\n",
    "                float(ram_val.replace(\"MB\", \"\")) / 1024\n",
    "            )  # converting MB to GB by dividing by 1024\n",
    "    else:  # this happens when the current ram is np.nan\n",
    "        return np.nan"
   ]
  },
  {
   "cell_type": "code",
   "execution_count": 18,
   "metadata": {},
   "outputs": [
    {
     "data": {
      "text/html": [
       "<div>\n",
       "<style scoped>\n",
       "    .dataframe tbody tr th:only-of-type {\n",
       "        vertical-align: middle;\n",
       "    }\n",
       "\n",
       "    .dataframe tbody tr th {\n",
       "        vertical-align: top;\n",
       "    }\n",
       "\n",
       "    .dataframe thead th {\n",
       "        text-align: right;\n",
       "    }\n",
       "</style>\n",
       "<table border=\"1\" class=\"dataframe\">\n",
       "  <thead>\n",
       "    <tr style=\"text-align: right;\">\n",
       "      <th></th>\n",
       "      <th>RAM_GB</th>\n",
       "      <th>Ram</th>\n",
       "    </tr>\n",
       "  </thead>\n",
       "  <tbody>\n",
       "    <tr>\n",
       "      <th>0</th>\n",
       "      <td>8.0</td>\n",
       "      <td>8GB</td>\n",
       "    </tr>\n",
       "    <tr>\n",
       "      <th>1</th>\n",
       "      <td>8.0</td>\n",
       "      <td>8GB</td>\n",
       "    </tr>\n",
       "    <tr>\n",
       "      <th>2</th>\n",
       "      <td>8.0</td>\n",
       "      <td>8GB</td>\n",
       "    </tr>\n",
       "    <tr>\n",
       "      <th>3</th>\n",
       "      <td>16.0</td>\n",
       "      <td>16GB</td>\n",
       "    </tr>\n",
       "    <tr>\n",
       "      <th>4</th>\n",
       "      <td>8.0</td>\n",
       "      <td>8GB</td>\n",
       "    </tr>\n",
       "  </tbody>\n",
       "</table>\n",
       "</div>"
      ],
      "text/plain": [
       "   RAM_GB   Ram\n",
       "0     8.0   8GB\n",
       "1     8.0   8GB\n",
       "2     8.0   8GB\n",
       "3    16.0  16GB\n",
       "4     8.0   8GB"
      ]
     },
     "execution_count": 18,
     "metadata": {},
     "output_type": "execute_result"
    },
    {
     "data": {
      "application/javascript": [
       "\n",
       "            setTimeout(function() {\n",
       "                var nbb_cell_id = 18;\n",
       "                var nbb_unformatted_code = \"# extract the amount of RAM\\ndf1[\\\"RAM_GB\\\"] = df1[\\\"Ram\\\"].apply(ram_to_num)\\ndf1[[\\\"RAM_GB\\\", \\\"Ram\\\"]].head()\";\n",
       "                var nbb_formatted_code = \"# extract the amount of RAM\\ndf1[\\\"RAM_GB\\\"] = df1[\\\"Ram\\\"].apply(ram_to_num)\\ndf1[[\\\"RAM_GB\\\", \\\"Ram\\\"]].head()\";\n",
       "                var nbb_cells = Jupyter.notebook.get_cells();\n",
       "                for (var i = 0; i < nbb_cells.length; ++i) {\n",
       "                    if (nbb_cells[i].input_prompt_number == nbb_cell_id) {\n",
       "                        if (nbb_cells[i].get_text() == nbb_unformatted_code) {\n",
       "                             nbb_cells[i].set_text(nbb_formatted_code);\n",
       "                        }\n",
       "                        break;\n",
       "                    }\n",
       "                }\n",
       "            }, 500);\n",
       "            "
      ],
      "text/plain": [
       "<IPython.core.display.Javascript object>"
      ]
     },
     "metadata": {},
     "output_type": "display_data"
    }
   ],
   "source": [
    "# extract the amount of RAM\n",
    "df1[\"RAM_GB\"] = df1[\"Ram\"].apply(ram_to_num)\n",
    "df1[[\"RAM_GB\", \"Ram\"]].head()"
   ]
  },
  {
   "cell_type": "code",
   "execution_count": 19,
   "metadata": {},
   "outputs": [
    {
     "data": {
      "text/plain": [
       "count    1303.000000\n",
       "mean        8.382195\n",
       "std         5.084665\n",
       "min         2.000000\n",
       "25%         4.000000\n",
       "50%         8.000000\n",
       "75%         8.000000\n",
       "max        64.000000\n",
       "Name: RAM_GB, dtype: float64"
      ]
     },
     "execution_count": 19,
     "metadata": {},
     "output_type": "execute_result"
    },
    {
     "data": {
      "application/javascript": [
       "\n",
       "            setTimeout(function() {\n",
       "                var nbb_cell_id = 19;\n",
       "                var nbb_unformatted_code = \"df1.drop(\\\"Ram\\\", axis=1, inplace=True)\\ndf1[\\\"RAM_GB\\\"].describe()\";\n",
       "                var nbb_formatted_code = \"df1.drop(\\\"Ram\\\", axis=1, inplace=True)\\ndf1[\\\"RAM_GB\\\"].describe()\";\n",
       "                var nbb_cells = Jupyter.notebook.get_cells();\n",
       "                for (var i = 0; i < nbb_cells.length; ++i) {\n",
       "                    if (nbb_cells[i].input_prompt_number == nbb_cell_id) {\n",
       "                        if (nbb_cells[i].get_text() == nbb_unformatted_code) {\n",
       "                             nbb_cells[i].set_text(nbb_formatted_code);\n",
       "                        }\n",
       "                        break;\n",
       "                    }\n",
       "                }\n",
       "            }, 500);\n",
       "            "
      ],
      "text/plain": [
       "<IPython.core.display.Javascript object>"
      ]
     },
     "metadata": {},
     "output_type": "display_data"
    }
   ],
   "source": [
    "df1.drop(\"Ram\", axis=1, inplace=True)\n",
    "df1[\"RAM_GB\"].describe()"
   ]
  },
  {
   "cell_type": "code",
   "execution_count": 20,
   "metadata": {},
   "outputs": [
    {
     "data": {
      "text/plain": [
       "Company\n",
       "Acer      12.000000\n",
       "Asus      14.962963\n",
       "Dell      15.800000\n",
       "HP        11.000000\n",
       "Lenovo    12.375000\n",
       "MSI       13.037037\n",
       "Razer     22.400000\n",
       "Name: RAM_GB, dtype: float64"
      ]
     },
     "execution_count": 20,
     "metadata": {},
     "output_type": "execute_result"
    },
    {
     "data": {
      "application/javascript": [
       "\n",
       "            setTimeout(function() {\n",
       "                var nbb_cell_id = 20;\n",
       "                var nbb_unformatted_code = \"df_gaming = df1[df1.TypeName == \\\"Gaming\\\"]\\ndf_gaming.groupby(\\\"Company\\\")[\\\"RAM_GB\\\"].mean()\";\n",
       "                var nbb_formatted_code = \"df_gaming = df1[df1.TypeName == \\\"Gaming\\\"]\\ndf_gaming.groupby(\\\"Company\\\")[\\\"RAM_GB\\\"].mean()\";\n",
       "                var nbb_cells = Jupyter.notebook.get_cells();\n",
       "                for (var i = 0; i < nbb_cells.length; ++i) {\n",
       "                    if (nbb_cells[i].input_prompt_number == nbb_cell_id) {\n",
       "                        if (nbb_cells[i].get_text() == nbb_unformatted_code) {\n",
       "                             nbb_cells[i].set_text(nbb_formatted_code);\n",
       "                        }\n",
       "                        break;\n",
       "                    }\n",
       "                }\n",
       "            }, 500);\n",
       "            "
      ],
      "text/plain": [
       "<IPython.core.display.Javascript object>"
      ]
     },
     "metadata": {},
     "output_type": "display_data"
    }
   ],
   "source": [
    "df_gaming = df1[df1.TypeName == \"Gaming\"]\n",
    "df_gaming.groupby(\"Company\")[\"RAM_GB\"].mean()"
   ]
  },
  {
   "cell_type": "code",
   "execution_count": 21,
   "metadata": {},
   "outputs": [
    {
     "data": {
      "image/png": "[encoded data removed]",
      "text/plain": [
       "<Figure size 1080x360 with 2 Axes>"
      ]
     },
     "metadata": {},
     "output_type": "display_data"
    },
    {
     "data": {
      "application/javascript": [
       "\n",
       "            setTimeout(function() {\n",
       "                var nbb_cell_id = 21;\n",
       "                var nbb_unformatted_code = \"plt.figure(figsize=(15, 5))\\n\\nplt.subplot(1, 2, 1)\\nsns.barplot(data=df_gaming, y=\\\"RAM_GB\\\", x=\\\"Company\\\")\\nplt.xticks(rotation=45)\\n\\nplt.subplot(1, 2, 2)\\nsns.boxplot(data=df_gaming, y=\\\"RAM_GB\\\", x=\\\"Company\\\")\\nplt.xticks(rotation=45)\\n\\nplt.show()\";\n",
       "                var nbb_formatted_code = \"plt.figure(figsize=(15, 5))\\n\\nplt.subplot(1, 2, 1)\\nsns.barplot(data=df_gaming, y=\\\"RAM_GB\\\", x=\\\"Company\\\")\\nplt.xticks(rotation=45)\\n\\nplt.subplot(1, 2, 2)\\nsns.boxplot(data=df_gaming, y=\\\"RAM_GB\\\", x=\\\"Company\\\")\\nplt.xticks(rotation=45)\\n\\nplt.show()\";\n",
       "                var nbb_cells = Jupyter.notebook.get_cells();\n",
       "                for (var i = 0; i < nbb_cells.length; ++i) {\n",
       "                    if (nbb_cells[i].input_prompt_number == nbb_cell_id) {\n",
       "                        if (nbb_cells[i].get_text() == nbb_unformatted_code) {\n",
       "                             nbb_cells[i].set_text(nbb_formatted_code);\n",
       "                        }\n",
       "                        break;\n",
       "                    }\n",
       "                }\n",
       "            }, 500);\n",
       "            "
      ],
      "text/plain": [
       "<IPython.core.display.Javascript object>"
      ]
     },
     "metadata": {},
     "output_type": "display_data"
    }
   ],
   "source": [
    "plt.figure(figsize=(15, 5))\n",
    "\n",
    "plt.subplot(1, 2, 1)\n",
    "sns.barplot(data=df_gaming, y=\"RAM_GB\", x=\"Company\")\n",
    "plt.xticks(rotation=45)\n",
    "\n",
    "plt.subplot(1, 2, 2)\n",
    "sns.boxplot(data=df_gaming, y=\"RAM_GB\", x=\"Company\")\n",
    "plt.xticks(rotation=45)\n",
    "\n",
    "plt.show()"
   ]
  },
  {
   "cell_type": "markdown",
   "metadata": {},
   "source": [
    "### Razer provides the highest amount of RAM on an average for Gaming laptops."
   ]
  },
  {
   "cell_type": "markdown",
   "metadata": {},
   "source": [
    "### Q. GPUs are a key component for users interested in gaming, and Nvidia is one of the leading manufacturers of GPUs. How does the price vary by the company for Gaming laptops with an Nvidia GeForce GTX GPU?"
   ]
  },
  {
   "cell_type": "code",
   "execution_count": 22,
   "metadata": {},
   "outputs": [
    {
     "data": {
      "text/plain": [
       "0    1065\n",
       "1     238\n",
       "Name: GPU_Nvidia_GTX, dtype: int64"
      ]
     },
     "execution_count": 22,
     "metadata": {},
     "output_type": "execute_result"
    },
    {
     "data": {
      "application/javascript": [
       "\n",
       "            setTimeout(function() {\n",
       "                var nbb_cell_id = 22;\n",
       "                var nbb_unformatted_code = \"# we create a new column to indicate if a laptop has the NVIDIA Geforce GTX GPU\\ndf1[\\\"GPU_Nvidia_GTX\\\"] = [\\n    1 if \\\"Nvidia GeForce GTX\\\" in item else 0 for item in df1[\\\"Gpu\\\"].values\\n]\\ndf1[\\\"GPU_Nvidia_GTX\\\"].value_counts()\";\n",
       "                var nbb_formatted_code = \"# we create a new column to indicate if a laptop has the NVIDIA Geforce GTX GPU\\ndf1[\\\"GPU_Nvidia_GTX\\\"] = [\\n    1 if \\\"Nvidia GeForce GTX\\\" in item else 0 for item in df1[\\\"Gpu\\\"].values\\n]\\ndf1[\\\"GPU_Nvidia_GTX\\\"].value_counts()\";\n",
       "                var nbb_cells = Jupyter.notebook.get_cells();\n",
       "                for (var i = 0; i < nbb_cells.length; ++i) {\n",
       "                    if (nbb_cells[i].input_prompt_number == nbb_cell_id) {\n",
       "                        if (nbb_cells[i].get_text() == nbb_unformatted_code) {\n",
       "                             nbb_cells[i].set_text(nbb_formatted_code);\n",
       "                        }\n",
       "                        break;\n",
       "                    }\n",
       "                }\n",
       "            }, 500);\n",
       "            "
      ],
      "text/plain": [
       "<IPython.core.display.Javascript object>"
      ]
     },
     "metadata": {},
     "output_type": "display_data"
    }
   ],
   "source": [
    "# we create a new column to indicate if a laptop has the NVIDIA Geforce GTX GPU\n",
    "df1[\"GPU_Nvidia_GTX\"] = [\n",
    "    1 if \"Nvidia GeForce GTX\" in item else 0 for item in df1[\"Gpu\"].values\n",
    "]\n",
    "df1[\"GPU_Nvidia_GTX\"].value_counts()"
   ]
  },
  {
   "cell_type": "code",
   "execution_count": 23,
   "metadata": {},
   "outputs": [
    {
     "data": {
      "text/plain": [
       "Company\n",
       "Acer      1468.125000\n",
       "Asus      1743.658980\n",
       "Dell      1918.393000\n",
       "HP        1394.545455\n",
       "Lenovo    1339.612258\n",
       "MSI       1708.717736\n",
       "Razer     4119.000000\n",
       "Name: Price_euros, dtype: float64"
      ]
     },
     "execution_count": 23,
     "metadata": {},
     "output_type": "execute_result"
    },
    {
     "data": {
      "application/javascript": [
       "\n",
       "            setTimeout(function() {\n",
       "                var nbb_cell_id = 23;\n",
       "                var nbb_unformatted_code = \"df_gaming_nvidia = df1[(df1.TypeName == \\\"Gaming\\\") & (df1.GPU_Nvidia_GTX == 1)]\\ndf_gaming_nvidia.groupby(\\\"Company\\\")[\\\"Price_euros\\\"].mean()\";\n",
       "                var nbb_formatted_code = \"df_gaming_nvidia = df1[(df1.TypeName == \\\"Gaming\\\") & (df1.GPU_Nvidia_GTX == 1)]\\ndf_gaming_nvidia.groupby(\\\"Company\\\")[\\\"Price_euros\\\"].mean()\";\n",
       "                var nbb_cells = Jupyter.notebook.get_cells();\n",
       "                for (var i = 0; i < nbb_cells.length; ++i) {\n",
       "                    if (nbb_cells[i].input_prompt_number == nbb_cell_id) {\n",
       "                        if (nbb_cells[i].get_text() == nbb_unformatted_code) {\n",
       "                             nbb_cells[i].set_text(nbb_formatted_code);\n",
       "                        }\n",
       "                        break;\n",
       "                    }\n",
       "                }\n",
       "            }, 500);\n",
       "            "
      ],
      "text/plain": [
       "<IPython.core.display.Javascript object>"
      ]
     },
     "metadata": {},
     "output_type": "display_data"
    }
   ],
   "source": [
    "df_gaming_nvidia = df1[(df1.TypeName == \"Gaming\") & (df1.GPU_Nvidia_GTX == 1)]\n",
    "df_gaming_nvidia.groupby(\"Company\")[\"Price_euros\"].mean()"
   ]
  },
  {
   "cell_type": "code",
   "execution_count": 24,
   "metadata": {},
   "outputs": [
    {
     "data": {
      "image/png": "[encoded data removed]",
      "text/plain": [
       "<Figure size 1080x360 with 2 Axes>"
      ]
     },
     "metadata": {},
     "output_type": "display_data"
    },
    {
     "data": {
      "application/javascript": [
       "\n",
       "            setTimeout(function() {\n",
       "                var nbb_cell_id = 24;\n",
       "                var nbb_unformatted_code = \"plt.figure(figsize=(15, 5))\\n\\nplt.subplot(1, 2, 1)\\nsns.barplot(data=df_gaming_nvidia, y=\\\"Price_euros\\\", x=\\\"Company\\\")\\nplt.xticks(rotation=45)\\n\\nplt.subplot(1, 2, 2)\\nsns.boxplot(data=df_gaming_nvidia, y=\\\"Price_euros\\\", x=\\\"Company\\\")\\nplt.xticks(rotation=45)\\n\\nplt.show()\";\n",
       "                var nbb_formatted_code = \"plt.figure(figsize=(15, 5))\\n\\nplt.subplot(1, 2, 1)\\nsns.barplot(data=df_gaming_nvidia, y=\\\"Price_euros\\\", x=\\\"Company\\\")\\nplt.xticks(rotation=45)\\n\\nplt.subplot(1, 2, 2)\\nsns.boxplot(data=df_gaming_nvidia, y=\\\"Price_euros\\\", x=\\\"Company\\\")\\nplt.xticks(rotation=45)\\n\\nplt.show()\";\n",
       "                var nbb_cells = Jupyter.notebook.get_cells();\n",
       "                for (var i = 0; i < nbb_cells.length; ++i) {\n",
       "                    if (nbb_cells[i].input_prompt_number == nbb_cell_id) {\n",
       "                        if (nbb_cells[i].get_text() == nbb_unformatted_code) {\n",
       "                             nbb_cells[i].set_text(nbb_formatted_code);\n",
       "                        }\n",
       "                        break;\n",
       "                    }\n",
       "                }\n",
       "            }, 500);\n",
       "            "
      ],
      "text/plain": [
       "<IPython.core.display.Javascript object>"
      ]
     },
     "metadata": {},
     "output_type": "display_data"
    }
   ],
   "source": [
    "plt.figure(figsize=(15, 5))\n",
    "\n",
    "plt.subplot(1, 2, 1)\n",
    "sns.barplot(data=df_gaming_nvidia, y=\"Price_euros\", x=\"Company\")\n",
    "plt.xticks(rotation=45)\n",
    "\n",
    "plt.subplot(1, 2, 2)\n",
    "sns.boxplot(data=df_gaming_nvidia, y=\"Price_euros\", x=\"Company\")\n",
    "plt.xticks(rotation=45)\n",
    "\n",
    "plt.show()"
   ]
  },
  {
   "cell_type": "markdown",
   "metadata": {},
   "source": [
    "### Lenovo and Acer provide gaming laptops with an Nvidia GeForce GTX GPU at comparatively cheaper prices."
   ]
  },
  {
   "cell_type": "markdown",
   "metadata": {},
   "source": [
    "### Q. It has been found from sales history that executives prefer fast and lightweight laptops, and Ultrabooks are one of the best choices for them. How does the weight of laptops of type Ultrabook differ by the company?"
   ]
  },
  {
   "cell_type": "code",
   "execution_count": 25,
   "metadata": {},
   "outputs": [
    {
     "data": {
      "text/plain": [
       "['kg']"
      ]
     },
     "execution_count": 25,
     "metadata": {},
     "output_type": "execute_result"
    },
    {
     "data": {
      "application/javascript": [
       "\n",
       "            setTimeout(function() {\n",
       "                var nbb_cell_id = 25;\n",
       "                var nbb_unformatted_code = \"# checking the units of weight\\nweight_units = list(set([item[-2:] for item in df1.Weight]))\\nweight_units\";\n",
       "                var nbb_formatted_code = \"# checking the units of weight\\nweight_units = list(set([item[-2:] for item in df1.Weight]))\\nweight_units\";\n",
       "                var nbb_cells = Jupyter.notebook.get_cells();\n",
       "                for (var i = 0; i < nbb_cells.length; ++i) {\n",
       "                    if (nbb_cells[i].input_prompt_number == nbb_cell_id) {\n",
       "                        if (nbb_cells[i].get_text() == nbb_unformatted_code) {\n",
       "                             nbb_cells[i].set_text(nbb_formatted_code);\n",
       "                        }\n",
       "                        break;\n",
       "                    }\n",
       "                }\n",
       "            }, 500);\n",
       "            "
      ],
      "text/plain": [
       "<IPython.core.display.Javascript object>"
      ]
     },
     "metadata": {},
     "output_type": "display_data"
    }
   ],
   "source": [
    "# checking the units of weight\n",
    "weight_units = list(set([item[-2:] for item in df1.Weight]))\n",
    "weight_units"
   ]
  },
  {
   "cell_type": "markdown",
   "metadata": {},
   "source": [
    "All laptops in the data have weight in kilograms."
   ]
  },
  {
   "cell_type": "code",
   "execution_count": 26,
   "metadata": {},
   "outputs": [
    {
     "data": {
      "text/plain": [
       "count    1303.000000\n",
       "mean        2.038734\n",
       "std         0.665475\n",
       "min         0.690000\n",
       "25%         1.500000\n",
       "50%         2.040000\n",
       "75%         2.300000\n",
       "max         4.700000\n",
       "Name: Weight_kg, dtype: float64"
      ]
     },
     "execution_count": 26,
     "metadata": {},
     "output_type": "execute_result"
    },
    {
     "data": {
      "application/javascript": [
       "\n",
       "            setTimeout(function() {\n",
       "                var nbb_cell_id = 26;\n",
       "                var nbb_unformatted_code = \"# removing the units and converting to float\\ndf1[\\\"Weight_kg\\\"] = df1[\\\"Weight\\\"].str.replace(\\\"kg\\\", \\\"\\\").astype(float)\\ndf1.drop(\\\"Weight\\\", axis=1, inplace=True)\\ndf1[\\\"Weight_kg\\\"].describe()\";\n",
       "                var nbb_formatted_code = \"# removing the units and converting to float\\ndf1[\\\"Weight_kg\\\"] = df1[\\\"Weight\\\"].str.replace(\\\"kg\\\", \\\"\\\").astype(float)\\ndf1.drop(\\\"Weight\\\", axis=1, inplace=True)\\ndf1[\\\"Weight_kg\\\"].describe()\";\n",
       "                var nbb_cells = Jupyter.notebook.get_cells();\n",
       "                for (var i = 0; i < nbb_cells.length; ++i) {\n",
       "                    if (nbb_cells[i].input_prompt_number == nbb_cell_id) {\n",
       "                        if (nbb_cells[i].get_text() == nbb_unformatted_code) {\n",
       "                             nbb_cells[i].set_text(nbb_formatted_code);\n",
       "                        }\n",
       "                        break;\n",
       "                    }\n",
       "                }\n",
       "            }, 500);\n",
       "            "
      ],
      "text/plain": [
       "<IPython.core.display.Javascript object>"
      ]
     },
     "metadata": {},
     "output_type": "display_data"
    }
   ],
   "source": [
    "# removing the units and converting to float\n",
    "df1[\"Weight_kg\"] = df1[\"Weight\"].str.replace(\"kg\", \"\").astype(float)\n",
    "df1.drop(\"Weight\", axis=1, inplace=True)\n",
    "df1[\"Weight_kg\"].describe()"
   ]
  },
  {
   "cell_type": "code",
   "execution_count": 27,
   "metadata": {},
   "outputs": [
    {
     "data": {
      "text/plain": [
       "Company\n",
       "Acer         1.530000\n",
       "Apple        1.320476\n",
       "Asus         1.322000\n",
       "Dell         1.381837\n",
       "Google       1.100000\n",
       "HP           1.424722\n",
       "Huawei       1.050000\n",
       "LG           1.050000\n",
       "Lenovo       1.376774\n",
       "Microsoft    1.251333\n",
       "Razer        1.270000\n",
       "Samsung      1.066000\n",
       "Toshiba      1.232500\n",
       "Xiaomi       1.290000\n",
       "Name: Weight_kg, dtype: float64"
      ]
     },
     "execution_count": 27,
     "metadata": {},
     "output_type": "execute_result"
    },
    {
     "data": {
      "application/javascript": [
       "\n",
       "            setTimeout(function() {\n",
       "                var nbb_cell_id = 27;\n",
       "                var nbb_unformatted_code = \"df_ultrabook = df1[df1.TypeName == \\\"Ultrabook\\\"]\\ndf_ultrabook.groupby(\\\"Company\\\")[\\\"Weight_kg\\\"].mean()\";\n",
       "                var nbb_formatted_code = \"df_ultrabook = df1[df1.TypeName == \\\"Ultrabook\\\"]\\ndf_ultrabook.groupby(\\\"Company\\\")[\\\"Weight_kg\\\"].mean()\";\n",
       "                var nbb_cells = Jupyter.notebook.get_cells();\n",
       "                for (var i = 0; i < nbb_cells.length; ++i) {\n",
       "                    if (nbb_cells[i].input_prompt_number == nbb_cell_id) {\n",
       "                        if (nbb_cells[i].get_text() == nbb_unformatted_code) {\n",
       "                             nbb_cells[i].set_text(nbb_formatted_code);\n",
       "                        }\n",
       "                        break;\n",
       "                    }\n",
       "                }\n",
       "            }, 500);\n",
       "            "
      ],
      "text/plain": [
       "<IPython.core.display.Javascript object>"
      ]
     },
     "metadata": {},
     "output_type": "display_data"
    }
   ],
   "source": [
    "df_ultrabook = df1[df1.TypeName == \"Ultrabook\"]\n",
    "df_ultrabook.groupby(\"Company\")[\"Weight_kg\"].mean()"
   ]
  },
  {
   "cell_type": "code",
   "execution_count": 28,
   "metadata": {},
   "outputs": [
    {
     "data": {
      "image/png": "[encoded data removed]",
      "text/plain": [
       "<Figure size 1080x360 with 2 Axes>"
      ]
     },
     "metadata": {},
     "output_type": "display_data"
    },
    {
     "data": {
      "application/javascript": [
       "\n",
       "            setTimeout(function() {\n",
       "                var nbb_cell_id = 28;\n",
       "                var nbb_unformatted_code = \"plt.figure(figsize=(15, 5))\\n\\nplt.subplot(1, 2, 1)\\nsns.barplot(data=df_ultrabook, y=\\\"Weight_kg\\\", x=\\\"Company\\\")\\nplt.xticks(rotation=90)\\n\\nplt.subplot(1, 2, 2)\\nsns.boxplot(data=df_ultrabook, y=\\\"Weight_kg\\\", x=\\\"Company\\\")\\nplt.xticks(rotation=90)\\n\\nplt.show()\";\n",
       "                var nbb_formatted_code = \"plt.figure(figsize=(15, 5))\\n\\nplt.subplot(1, 2, 1)\\nsns.barplot(data=df_ultrabook, y=\\\"Weight_kg\\\", x=\\\"Company\\\")\\nplt.xticks(rotation=90)\\n\\nplt.subplot(1, 2, 2)\\nsns.boxplot(data=df_ultrabook, y=\\\"Weight_kg\\\", x=\\\"Company\\\")\\nplt.xticks(rotation=90)\\n\\nplt.show()\";\n",
       "                var nbb_cells = Jupyter.notebook.get_cells();\n",
       "                for (var i = 0; i < nbb_cells.length; ++i) {\n",
       "                    if (nbb_cells[i].input_prompt_number == nbb_cell_id) {\n",
       "                        if (nbb_cells[i].get_text() == nbb_unformatted_code) {\n",
       "                             nbb_cells[i].set_text(nbb_formatted_code);\n",
       "                        }\n",
       "                        break;\n",
       "                    }\n",
       "                }\n",
       "            }, 500);\n",
       "            "
      ],
      "text/plain": [
       "<IPython.core.display.Javascript object>"
      ]
     },
     "metadata": {},
     "output_type": "display_data"
    }
   ],
   "source": [
    "plt.figure(figsize=(15, 5))\n",
    "\n",
    "plt.subplot(1, 2, 1)\n",
    "sns.barplot(data=df_ultrabook, y=\"Weight_kg\", x=\"Company\")\n",
    "plt.xticks(rotation=90)\n",
    "\n",
    "plt.subplot(1, 2, 2)\n",
    "sns.boxplot(data=df_ultrabook, y=\"Weight_kg\", x=\"Company\")\n",
    "plt.xticks(rotation=90)\n",
    "\n",
    "plt.show()"
   ]
  },
  {
   "cell_type": "markdown",
   "metadata": {},
   "source": [
    "### Apple, Samsung, Huawei, and LG provide the lightest Ultrabooks. A few Samsung and Apple laptops weigh less than a kilogram."
   ]
  },
  {
   "cell_type": "markdown",
   "metadata": {},
   "source": [
    "### Q. The sales history also shows that executives have a preference for small laptops running on Windows OS for ease of use. How many laptops running on Windows OS have a screen size not greater than 14 inches are available across different companies?"
   ]
  },
  {
   "cell_type": "code",
   "execution_count": 29,
   "metadata": {},
   "outputs": [
    {
     "data": {
      "text/plain": [
       "Windows 10      1072\n",
       "No OS             66\n",
       "Linux             62\n",
       "Windows 7         45\n",
       "Chrome OS         27\n",
       "macOS             13\n",
       "Mac OS X           8\n",
       "Windows 10 S       8\n",
       "Android            2\n",
       "Name: OpSys, dtype: int64"
      ]
     },
     "execution_count": 29,
     "metadata": {},
     "output_type": "execute_result"
    },
    {
     "data": {
      "application/javascript": [
       "\n",
       "            setTimeout(function() {\n",
       "                var nbb_cell_id = 29;\n",
       "                var nbb_unformatted_code = \"df1.OpSys.value_counts()\";\n",
       "                var nbb_formatted_code = \"df1.OpSys.value_counts()\";\n",
       "                var nbb_cells = Jupyter.notebook.get_cells();\n",
       "                for (var i = 0; i < nbb_cells.length; ++i) {\n",
       "                    if (nbb_cells[i].input_prompt_number == nbb_cell_id) {\n",
       "                        if (nbb_cells[i].get_text() == nbb_unformatted_code) {\n",
       "                             nbb_cells[i].set_text(nbb_formatted_code);\n",
       "                        }\n",
       "                        break;\n",
       "                    }\n",
       "                }\n",
       "            }, 500);\n",
       "            "
      ],
      "text/plain": [
       "<IPython.core.display.Javascript object>"
      ]
     },
     "metadata": {},
     "output_type": "display_data"
    }
   ],
   "source": [
    "df1.OpSys.value_counts()"
   ]
  },
  {
   "cell_type": "code",
   "execution_count": 30,
   "metadata": {},
   "outputs": [
    {
     "data": {
      "text/plain": [
       "Windows    1125\n",
       "No           66\n",
       "Linux        62\n",
       "Chrome       27\n",
       "macOS        13\n",
       "Mac           8\n",
       "Android       2\n",
       "Name: OS, dtype: int64"
      ]
     },
     "execution_count": 30,
     "metadata": {},
     "output_type": "execute_result"
    },
    {
     "data": {
      "application/javascript": [
       "\n",
       "            setTimeout(function() {\n",
       "                var nbb_cell_id = 30;\n",
       "                var nbb_unformatted_code = \"df1[\\\"OS\\\"] = df1[\\\"OpSys\\\"].str.split(\\\" \\\").str[0]\\ndf1[\\\"OS\\\"].value_counts()\";\n",
       "                var nbb_formatted_code = \"df1[\\\"OS\\\"] = df1[\\\"OpSys\\\"].str.split(\\\" \\\").str[0]\\ndf1[\\\"OS\\\"].value_counts()\";\n",
       "                var nbb_cells = Jupyter.notebook.get_cells();\n",
       "                for (var i = 0; i < nbb_cells.length; ++i) {\n",
       "                    if (nbb_cells[i].input_prompt_number == nbb_cell_id) {\n",
       "                        if (nbb_cells[i].get_text() == nbb_unformatted_code) {\n",
       "                             nbb_cells[i].set_text(nbb_formatted_code);\n",
       "                        }\n",
       "                        break;\n",
       "                    }\n",
       "                }\n",
       "            }, 500);\n",
       "            "
      ],
      "text/plain": [
       "<IPython.core.display.Javascript object>"
      ]
     },
     "metadata": {},
     "output_type": "display_data"
    }
   ],
   "source": [
    "df1[\"OS\"] = df1[\"OpSys\"].str.split(\" \").str[0]\n",
    "df1[\"OS\"].value_counts()"
   ]
  },
  {
   "cell_type": "code",
   "execution_count": 31,
   "metadata": {},
   "outputs": [
    {
     "data": {
      "text/plain": [
       "Windows    1125\n",
       "NA           66\n",
       "Linux        62\n",
       "Chrome       27\n",
       "MacOS        21\n",
       "Android       2\n",
       "Name: OS, dtype: int64"
      ]
     },
     "execution_count": 31,
     "metadata": {},
     "output_type": "execute_result"
    },
    {
     "data": {
      "application/javascript": [
       "\n",
       "            setTimeout(function() {\n",
       "                var nbb_cell_id = 31;\n",
       "                var nbb_unformatted_code = \"df1[\\\"OS\\\"] = [\\n    \\\"NA\\\" if item == \\\"No\\\" else \\\"MacOS\\\" if item.lower().startswith(\\\"mac\\\") else item\\n    for item in df1.OS.values\\n]\\ndf1[\\\"OS\\\"].value_counts()\";\n",
       "                var nbb_formatted_code = \"df1[\\\"OS\\\"] = [\\n    \\\"NA\\\" if item == \\\"No\\\" else \\\"MacOS\\\" if item.lower().startswith(\\\"mac\\\") else item\\n    for item in df1.OS.values\\n]\\ndf1[\\\"OS\\\"].value_counts()\";\n",
       "                var nbb_cells = Jupyter.notebook.get_cells();\n",
       "                for (var i = 0; i < nbb_cells.length; ++i) {\n",
       "                    if (nbb_cells[i].input_prompt_number == nbb_cell_id) {\n",
       "                        if (nbb_cells[i].get_text() == nbb_unformatted_code) {\n",
       "                             nbb_cells[i].set_text(nbb_formatted_code);\n",
       "                        }\n",
       "                        break;\n",
       "                    }\n",
       "                }\n",
       "            }, 500);\n",
       "            "
      ],
      "text/plain": [
       "<IPython.core.display.Javascript object>"
      ]
     },
     "metadata": {},
     "output_type": "display_data"
    }
   ],
   "source": [
    "df1[\"OS\"] = [\n",
    "    \"NA\" if item == \"No\" else \"MacOS\" if item.lower().startswith(\"mac\") else item\n",
    "    for item in df1.OS.values\n",
    "]\n",
    "df1[\"OS\"].value_counts()"
   ]
  },
  {
   "cell_type": "code",
   "execution_count": 32,
   "metadata": {},
   "outputs": [
    {
     "data": {
      "text/plain": [
       "Lenovo       114\n",
       "HP           104\n",
       "Dell          77\n",
       "Asus          38\n",
       "Toshiba       29\n",
       "Acer          20\n",
       "Mediacom       7\n",
       "Microsoft      6\n",
       "Razer          5\n",
       "Vero           4\n",
       "Samsung        3\n",
       "Huawei         2\n",
       "MSI            2\n",
       "Chuwi          1\n",
       "Xiaomi         1\n",
       "LG             1\n",
       "Name: Company, dtype: int64"
      ]
     },
     "execution_count": 32,
     "metadata": {},
     "output_type": "execute_result"
    },
    {
     "data": {
      "application/javascript": [
       "\n",
       "            setTimeout(function() {\n",
       "                var nbb_cell_id = 32;\n",
       "                var nbb_unformatted_code = \"df_win_small = df1[(df1.OS == \\\"Windows\\\") & (df1.Inches <= 14)]\\ndf_win_small.Company.value_counts()\";\n",
       "                var nbb_formatted_code = \"df_win_small = df1[(df1.OS == \\\"Windows\\\") & (df1.Inches <= 14)]\\ndf_win_small.Company.value_counts()\";\n",
       "                var nbb_cells = Jupyter.notebook.get_cells();\n",
       "                for (var i = 0; i < nbb_cells.length; ++i) {\n",
       "                    if (nbb_cells[i].input_prompt_number == nbb_cell_id) {\n",
       "                        if (nbb_cells[i].get_text() == nbb_unformatted_code) {\n",
       "                             nbb_cells[i].set_text(nbb_formatted_code);\n",
       "                        }\n",
       "                        break;\n",
       "                    }\n",
       "                }\n",
       "            }, 500);\n",
       "            "
      ],
      "text/plain": [
       "<IPython.core.display.Javascript object>"
      ]
     },
     "metadata": {},
     "output_type": "display_data"
    }
   ],
   "source": [
    "df_win_small = df1[(df1.OS == \"Windows\") & (df1.Inches <= 14)]\n",
    "df_win_small.Company.value_counts()"
   ]
  },
  {
   "cell_type": "code",
   "execution_count": 33,
   "metadata": {},
   "outputs": [
    {
     "data": {
      "image/png": "[encoded data removed]",
      "text/plain": [
       "<Figure size 1224x360 with 1 Axes>"
      ]
     },
     "metadata": {},
     "output_type": "display_data"
    },
    {
     "data": {
      "application/javascript": [
       "\n",
       "            setTimeout(function() {\n",
       "                var nbb_cell_id = 33;\n",
       "                var nbb_unformatted_code = \"labeled_barplot(df_win_small, \\\"Company\\\", perc=True)\";\n",
       "                var nbb_formatted_code = \"labeled_barplot(df_win_small, \\\"Company\\\", perc=True)\";\n",
       "                var nbb_cells = Jupyter.notebook.get_cells();\n",
       "                for (var i = 0; i < nbb_cells.length; ++i) {\n",
       "                    if (nbb_cells[i].input_prompt_number == nbb_cell_id) {\n",
       "                        if (nbb_cells[i].get_text() == nbb_unformatted_code) {\n",
       "                             nbb_cells[i].set_text(nbb_formatted_code);\n",
       "                        }\n",
       "                        break;\n",
       "                    }\n",
       "                }\n",
       "            }, 500);\n",
       "            "
      ],
      "text/plain": [
       "<IPython.core.display.Javascript object>"
      ]
     },
     "metadata": {},
     "output_type": "display_data"
    }
   ],
   "source": [
    "labeled_barplot(df_win_small, \"Company\", perc=True)"
   ]
  },
  {
   "cell_type": "markdown",
   "metadata": {},
   "source": [
    "### Lenovo and HP manufacturer around 52% of the laptops running on Windows OS with a screen size less than 15 inches."
   ]
  },
  {
   "cell_type": "markdown",
   "metadata": {},
   "source": [
    "### Q. Operating systems like Linux and ChromeOS are not so common, and the sales history shows that the number of customers buying laptops running on these operating systems is limited. How many laptops across different companies run on a Linux or Chrome operating system?"
   ]
  },
  {
   "cell_type": "code",
   "execution_count": 34,
   "metadata": {},
   "outputs": [
    {
     "data": {
      "text/plain": [
       "89"
      ]
     },
     "execution_count": 34,
     "metadata": {},
     "output_type": "execute_result"
    },
    {
     "data": {
      "application/javascript": [
       "\n",
       "            setTimeout(function() {\n",
       "                var nbb_cell_id = 34;\n",
       "                var nbb_unformatted_code = \"df_linux_chrome = df1[(df1.OS == \\\"Linux\\\") | (df1.OS == \\\"Chrome\\\")]\\ndf_linux_chrome.shape[0]\";\n",
       "                var nbb_formatted_code = \"df_linux_chrome = df1[(df1.OS == \\\"Linux\\\") | (df1.OS == \\\"Chrome\\\")]\\ndf_linux_chrome.shape[0]\";\n",
       "                var nbb_cells = Jupyter.notebook.get_cells();\n",
       "                for (var i = 0; i < nbb_cells.length; ++i) {\n",
       "                    if (nbb_cells[i].input_prompt_number == nbb_cell_id) {\n",
       "                        if (nbb_cells[i].get_text() == nbb_unformatted_code) {\n",
       "                             nbb_cells[i].set_text(nbb_formatted_code);\n",
       "                        }\n",
       "                        break;\n",
       "                    }\n",
       "                }\n",
       "            }, 500);\n",
       "            "
      ],
      "text/plain": [
       "<IPython.core.display.Javascript object>"
      ]
     },
     "metadata": {},
     "output_type": "display_data"
    }
   ],
   "source": [
    "df_linux_chrome = df1[(df1.OS == \"Linux\") | (df1.OS == \"Chrome\")]\n",
    "df_linux_chrome.shape[0]"
   ]
  },
  {
   "cell_type": "code",
   "execution_count": 35,
   "metadata": {},
   "outputs": [
    {
     "data": {
      "text/plain": [
       "OS      Company\n",
       "Chrome  Acer       11\n",
       "        Asus        3\n",
       "        Dell        1\n",
       "        Google      3\n",
       "        HP          4\n",
       "        Lenovo      3\n",
       "        Samsung     2\n",
       "Linux   Acer       16\n",
       "        Asus       10\n",
       "        Dell       36\n",
       "Name: Product, dtype: int64"
      ]
     },
     "execution_count": 35,
     "metadata": {},
     "output_type": "execute_result"
    },
    {
     "data": {
      "application/javascript": [
       "\n",
       "            setTimeout(function() {\n",
       "                var nbb_cell_id = 35;\n",
       "                var nbb_unformatted_code = \"df_linux_chrome.groupby([\\\"OS\\\", \\\"Company\\\"]).Product.count()\";\n",
       "                var nbb_formatted_code = \"df_linux_chrome.groupby([\\\"OS\\\", \\\"Company\\\"]).Product.count()\";\n",
       "                var nbb_cells = Jupyter.notebook.get_cells();\n",
       "                for (var i = 0; i < nbb_cells.length; ++i) {\n",
       "                    if (nbb_cells[i].input_prompt_number == nbb_cell_id) {\n",
       "                        if (nbb_cells[i].get_text() == nbb_unformatted_code) {\n",
       "                             nbb_cells[i].set_text(nbb_formatted_code);\n",
       "                        }\n",
       "                        break;\n",
       "                    }\n",
       "                }\n",
       "            }, 500);\n",
       "            "
      ],
      "text/plain": [
       "<IPython.core.display.Javascript object>"
      ]
     },
     "metadata": {},
     "output_type": "display_data"
    }
   ],
   "source": [
    "df_linux_chrome.groupby([\"OS\", \"Company\"]).Product.count()"
   ]
  },
  {
   "cell_type": "code",
   "execution_count": 36,
   "metadata": {},
   "outputs": [
    {
     "data": {
      "text/plain": [
       "(array([0, 1]), [Text(0, 0, 'Linux'), Text(1, 0, 'Chrome')])"
      ]
     },
     "execution_count": 36,
     "metadata": {},
     "output_type": "execute_result"
    },
    {
     "data": {
      "image/png": "[encoded data removed]",
      "text/plain": [
       "<Figure size 864x432 with 1 Axes>"
      ]
     },
     "metadata": {},
     "output_type": "display_data"
    },
    {
     "data": {
      "application/javascript": [
       "\n",
       "            setTimeout(function() {\n",
       "                var nbb_cell_id = 36;\n",
       "                var nbb_unformatted_code = \"plt.figure(figsize=(12, 6))\\nsns.countplot(data=df_linux_chrome, x=\\\"OS\\\", hue=\\\"Company\\\")\\nplt.xticks(rotation=45)\";\n",
       "                var nbb_formatted_code = \"plt.figure(figsize=(12, 6))\\nsns.countplot(data=df_linux_chrome, x=\\\"OS\\\", hue=\\\"Company\\\")\\nplt.xticks(rotation=45)\";\n",
       "                var nbb_cells = Jupyter.notebook.get_cells();\n",
       "                for (var i = 0; i < nbb_cells.length; ++i) {\n",
       "                    if (nbb_cells[i].input_prompt_number == nbb_cell_id) {\n",
       "                        if (nbb_cells[i].get_text() == nbb_unformatted_code) {\n",
       "                             nbb_cells[i].set_text(nbb_formatted_code);\n",
       "                        }\n",
       "                        break;\n",
       "                    }\n",
       "                }\n",
       "            }, 500);\n",
       "            "
      ],
      "text/plain": [
       "<IPython.core.display.Javascript object>"
      ]
     },
     "metadata": {},
     "output_type": "display_data"
    }
   ],
   "source": [
    "plt.figure(figsize=(12, 6))\n",
    "sns.countplot(data=df_linux_chrome, x=\"OS\", hue=\"Company\")\n",
    "plt.xticks(rotation=45)"
   ]
  },
  {
   "cell_type": "markdown",
   "metadata": {},
   "source": [
    "### Dell has the highest number of laptops running on Linux, while Acer has the highest number of laptops running on ChromeOS."
   ]
  },
  {
   "cell_type": "markdown",
   "metadata": {},
   "source": [
    "### Q. High-resolution screens are good to have in laptops for entertainment purposes. How many laptops are available for different companies with screen resolutions better than 1600x900?"
   ]
  },
  {
   "cell_type": "code",
   "execution_count": 37,
   "metadata": {},
   "outputs": [
    {
     "data": {
      "text/html": [
       "<div>\n",
       "<style scoped>\n",
       "    .dataframe tbody tr th:only-of-type {\n",
       "        vertical-align: middle;\n",
       "    }\n",
       "\n",
       "    .dataframe tbody tr th {\n",
       "        vertical-align: top;\n",
       "    }\n",
       "\n",
       "    .dataframe thead th {\n",
       "        text-align: right;\n",
       "    }\n",
       "</style>\n",
       "<table border=\"1\" class=\"dataframe\">\n",
       "  <thead>\n",
       "    <tr style=\"text-align: right;\">\n",
       "      <th></th>\n",
       "      <th>ScrRes</th>\n",
       "      <th>ScreenResolution</th>\n",
       "    </tr>\n",
       "  </thead>\n",
       "  <tbody>\n",
       "    <tr>\n",
       "      <th>0</th>\n",
       "      <td>2560x1600</td>\n",
       "      <td>IPS Panel Retina Display 2560x1600</td>\n",
       "    </tr>\n",
       "    <tr>\n",
       "      <th>1</th>\n",
       "      <td>1440x900</td>\n",
       "      <td>1440x900</td>\n",
       "    </tr>\n",
       "    <tr>\n",
       "      <th>2</th>\n",
       "      <td>1920x1080</td>\n",
       "      <td>Full HD 1920x1080</td>\n",
       "    </tr>\n",
       "    <tr>\n",
       "      <th>3</th>\n",
       "      <td>2880x1800</td>\n",
       "      <td>IPS Panel Retina Display 2880x1800</td>\n",
       "    </tr>\n",
       "    <tr>\n",
       "      <th>4</th>\n",
       "      <td>2560x1600</td>\n",
       "      <td>IPS Panel Retina Display 2560x1600</td>\n",
       "    </tr>\n",
       "  </tbody>\n",
       "</table>\n",
       "</div>"
      ],
      "text/plain": [
       "      ScrRes                    ScreenResolution\n",
       "0  2560x1600  IPS Panel Retina Display 2560x1600\n",
       "1   1440x900                            1440x900\n",
       "2  1920x1080                   Full HD 1920x1080\n",
       "3  2880x1800  IPS Panel Retina Display 2880x1800\n",
       "4  2560x1600  IPS Panel Retina Display 2560x1600"
      ]
     },
     "execution_count": 37,
     "metadata": {},
     "output_type": "execute_result"
    },
    {
     "data": {
      "application/javascript": [
       "\n",
       "            setTimeout(function() {\n",
       "                var nbb_cell_id = 37;\n",
       "                var nbb_unformatted_code = \"# extract the screen resolution\\ndf1[\\\"ScrRes\\\"] = df1[\\\"ScreenResolution\\\"].str.split(\\\" \\\").str[-1]\\ndf1[[\\\"ScrRes\\\", \\\"ScreenResolution\\\"]].head()\";\n",
       "                var nbb_formatted_code = \"# extract the screen resolution\\ndf1[\\\"ScrRes\\\"] = df1[\\\"ScreenResolution\\\"].str.split(\\\" \\\").str[-1]\\ndf1[[\\\"ScrRes\\\", \\\"ScreenResolution\\\"]].head()\";\n",
       "                var nbb_cells = Jupyter.notebook.get_cells();\n",
       "                for (var i = 0; i < nbb_cells.length; ++i) {\n",
       "                    if (nbb_cells[i].input_prompt_number == nbb_cell_id) {\n",
       "                        if (nbb_cells[i].get_text() == nbb_unformatted_code) {\n",
       "                             nbb_cells[i].set_text(nbb_formatted_code);\n",
       "                        }\n",
       "                        break;\n",
       "                    }\n",
       "                }\n",
       "            }, 500);\n",
       "            "
      ],
      "text/plain": [
       "<IPython.core.display.Javascript object>"
      ]
     },
     "metadata": {},
     "output_type": "display_data"
    }
   ],
   "source": [
    "# extract the screen resolution\n",
    "df1[\"ScrRes\"] = df1[\"ScreenResolution\"].str.split(\" \").str[-1]\n",
    "df1[[\"ScrRes\", \"ScreenResolution\"]].head()"
   ]
  },
  {
   "cell_type": "code",
   "execution_count": 38,
   "metadata": {},
   "outputs": [
    {
     "data": {
      "text/plain": [
       "1920x1080    841\n",
       "1366x768     308\n",
       "3840x2160     43\n",
       "3200x1800     27\n",
       "2560x1440     23\n",
       "1600x900      23\n",
       "2560x1600      6\n",
       "2256x1504      6\n",
       "2304x1440      6\n",
       "1920x1200      5\n",
       "1440x900       4\n",
       "2400x1600      4\n",
       "2880x1800      4\n",
       "2160x1440      2\n",
       "2736x1824      1\n",
       "Name: ScrRes, dtype: int64"
      ]
     },
     "execution_count": 38,
     "metadata": {},
     "output_type": "execute_result"
    },
    {
     "data": {
      "application/javascript": [
       "\n",
       "            setTimeout(function() {\n",
       "                var nbb_cell_id = 38;\n",
       "                var nbb_unformatted_code = \"df1.drop(\\\"ScreenResolution\\\", axis=1, inplace=True)\\ndf1.ScrRes.value_counts()\";\n",
       "                var nbb_formatted_code = \"df1.drop(\\\"ScreenResolution\\\", axis=1, inplace=True)\\ndf1.ScrRes.value_counts()\";\n",
       "                var nbb_cells = Jupyter.notebook.get_cells();\n",
       "                for (var i = 0; i < nbb_cells.length; ++i) {\n",
       "                    if (nbb_cells[i].input_prompt_number == nbb_cell_id) {\n",
       "                        if (nbb_cells[i].get_text() == nbb_unformatted_code) {\n",
       "                             nbb_cells[i].set_text(nbb_formatted_code);\n",
       "                        }\n",
       "                        break;\n",
       "                    }\n",
       "                }\n",
       "            }, 500);\n",
       "            "
      ],
      "text/plain": [
       "<IPython.core.display.Javascript object>"
      ]
     },
     "metadata": {},
     "output_type": "display_data"
    }
   ],
   "source": [
    "df1.drop(\"ScreenResolution\", axis=1, inplace=True)\n",
    "df1.ScrRes.value_counts()"
   ]
  },
  {
   "cell_type": "code",
   "execution_count": 39,
   "metadata": {},
   "outputs": [
    {
     "data": {
      "text/plain": [
       "count    1303.000000\n",
       "mean     1894.784344\n",
       "std       494.641028\n",
       "min      1366.000000\n",
       "25%      1600.000000\n",
       "50%      1920.000000\n",
       "75%      1920.000000\n",
       "max      3840.000000\n",
       "Name: ScrRes_C1, dtype: float64"
      ]
     },
     "execution_count": 39,
     "metadata": {},
     "output_type": "execute_result"
    },
    {
     "data": {
      "application/javascript": [
       "\n",
       "            setTimeout(function() {\n",
       "                var nbb_cell_id = 39;\n",
       "                var nbb_unformatted_code = \"df1[\\\"ScrRes_C1\\\"] = df1.ScrRes.str[:4].astype(float)\\ndf1[\\\"ScrRes_C1\\\"].describe()\";\n",
       "                var nbb_formatted_code = \"df1[\\\"ScrRes_C1\\\"] = df1.ScrRes.str[:4].astype(float)\\ndf1[\\\"ScrRes_C1\\\"].describe()\";\n",
       "                var nbb_cells = Jupyter.notebook.get_cells();\n",
       "                for (var i = 0; i < nbb_cells.length; ++i) {\n",
       "                    if (nbb_cells[i].input_prompt_number == nbb_cell_id) {\n",
       "                        if (nbb_cells[i].get_text() == nbb_unformatted_code) {\n",
       "                             nbb_cells[i].set_text(nbb_formatted_code);\n",
       "                        }\n",
       "                        break;\n",
       "                    }\n",
       "                }\n",
       "            }, 500);\n",
       "            "
      ],
      "text/plain": [
       "<IPython.core.display.Javascript object>"
      ]
     },
     "metadata": {},
     "output_type": "display_data"
    }
   ],
   "source": [
    "df1[\"ScrRes_C1\"] = df1.ScrRes.str[:4].astype(float)\n",
    "df1[\"ScrRes_C1\"].describe()"
   ]
  },
  {
   "cell_type": "code",
   "execution_count": 40,
   "metadata": {},
   "outputs": [
    {
     "data": {
      "text/plain": [
       "Lenovo       231\n",
       "Dell         226\n",
       "HP           195\n",
       "Asus         116\n",
       "MSI           54\n",
       "Acer          51\n",
       "Toshiba       33\n",
       "Apple         16\n",
       "Samsung        8\n",
       "Razer          7\n",
       "Mediacom       7\n",
       "Microsoft      6\n",
       "Xiaomi         4\n",
       "Google         3\n",
       "Vero           3\n",
       "LG             3\n",
       "Chuwi          3\n",
       "Huawei         2\n",
       "Name: Company, dtype: int64"
      ]
     },
     "execution_count": 40,
     "metadata": {},
     "output_type": "execute_result"
    },
    {
     "data": {
      "application/javascript": [
       "\n",
       "            setTimeout(function() {\n",
       "                var nbb_cell_id = 40;\n",
       "                var nbb_unformatted_code = \"df_highres = df1[df1.ScrRes_C1 > 1600]\\ndf_highres.Company.value_counts()\";\n",
       "                var nbb_formatted_code = \"df_highres = df1[df1.ScrRes_C1 > 1600]\\ndf_highres.Company.value_counts()\";\n",
       "                var nbb_cells = Jupyter.notebook.get_cells();\n",
       "                for (var i = 0; i < nbb_cells.length; ++i) {\n",
       "                    if (nbb_cells[i].input_prompt_number == nbb_cell_id) {\n",
       "                        if (nbb_cells[i].get_text() == nbb_unformatted_code) {\n",
       "                             nbb_cells[i].set_text(nbb_formatted_code);\n",
       "                        }\n",
       "                        break;\n",
       "                    }\n",
       "                }\n",
       "            }, 500);\n",
       "            "
      ],
      "text/plain": [
       "<IPython.core.display.Javascript object>"
      ]
     },
     "metadata": {},
     "output_type": "display_data"
    }
   ],
   "source": [
    "df_highres = df1[df1.ScrRes_C1 > 1600]\n",
    "df_highres.Company.value_counts()"
   ]
  },
  {
   "cell_type": "code",
   "execution_count": 41,
   "metadata": {},
   "outputs": [
    {
     "data": {
      "image/png": "[encoded data removed]",
      "text/plain": [
       "<Figure size 1368x360 with 1 Axes>"
      ]
     },
     "metadata": {},
     "output_type": "display_data"
    },
    {
     "data": {
      "application/javascript": [
       "\n",
       "            setTimeout(function() {\n",
       "                var nbb_cell_id = 41;\n",
       "                var nbb_unformatted_code = \"labeled_barplot(df_highres, \\\"Company\\\")\";\n",
       "                var nbb_formatted_code = \"labeled_barplot(df_highres, \\\"Company\\\")\";\n",
       "                var nbb_cells = Jupyter.notebook.get_cells();\n",
       "                for (var i = 0; i < nbb_cells.length; ++i) {\n",
       "                    if (nbb_cells[i].input_prompt_number == nbb_cell_id) {\n",
       "                        if (nbb_cells[i].get_text() == nbb_unformatted_code) {\n",
       "                             nbb_cells[i].set_text(nbb_formatted_code);\n",
       "                        }\n",
       "                        break;\n",
       "                    }\n",
       "                }\n",
       "            }, 500);\n",
       "            "
      ],
      "text/plain": [
       "<IPython.core.display.Javascript object>"
      ]
     },
     "metadata": {},
     "output_type": "display_data"
    }
   ],
   "source": [
    "labeled_barplot(df_highres, \"Company\")"
   ]
  },
  {
   "cell_type": "markdown",
   "metadata": {},
   "source": [
    "### HP, Dell, and Lenovo provide more options in terms of laptops having higher screen resolutions."
   ]
  },
  {
   "cell_type": "markdown",
   "metadata": {},
   "source": [
    "### Q. What percentage of laptops in each company have high-resolution screens?"
   ]
  },
  {
   "cell_type": "code",
   "execution_count": 42,
   "metadata": {},
   "outputs": [
    {
     "data": {
      "text/plain": [
       "array(['Apple', 'HP', 'Asus', 'Acer', 'Dell', 'Lenovo', 'Chuwi', 'MSI',\n",
       "       'Microsoft', 'Huawei', 'Xiaomi', 'Vero', 'Razer', 'Toshiba',\n",
       "       'Mediacom', 'Google', 'Samsung', 'LG'], dtype=object)"
      ]
     },
     "execution_count": 42,
     "metadata": {},
     "output_type": "execute_result"
    },
    {
     "data": {
      "application/javascript": [
       "\n",
       "            setTimeout(function() {\n",
       "                var nbb_cell_id = 42;\n",
       "                var nbb_unformatted_code = \"df_highres.Company.unique()\";\n",
       "                var nbb_formatted_code = \"df_highres.Company.unique()\";\n",
       "                var nbb_cells = Jupyter.notebook.get_cells();\n",
       "                for (var i = 0; i < nbb_cells.length; ++i) {\n",
       "                    if (nbb_cells[i].input_prompt_number == nbb_cell_id) {\n",
       "                        if (nbb_cells[i].get_text() == nbb_unformatted_code) {\n",
       "                             nbb_cells[i].set_text(nbb_formatted_code);\n",
       "                        }\n",
       "                        break;\n",
       "                    }\n",
       "                }\n",
       "            }, 500);\n",
       "            "
      ],
      "text/plain": [
       "<IPython.core.display.Javascript object>"
      ]
     },
     "metadata": {},
     "output_type": "display_data"
    }
   ],
   "source": [
    "df_highres.Company.unique()"
   ]
  },
  {
   "cell_type": "code",
   "execution_count": 43,
   "metadata": {},
   "outputs": [
    {
     "data": {
      "text/plain": [
       "array(['Apple', 'HP', 'Acer', 'Asus', 'Dell', 'Lenovo', 'Chuwi', 'MSI',\n",
       "       'Microsoft', 'Toshiba', 'Huawei', 'Xiaomi', 'Vero', 'Razer',\n",
       "       'Mediacom', 'Samsung', 'Google', 'Fujitsu', 'LG'], dtype=object)"
      ]
     },
     "execution_count": 43,
     "metadata": {},
     "output_type": "execute_result"
    },
    {
     "data": {
      "application/javascript": [
       "\n",
       "            setTimeout(function() {\n",
       "                var nbb_cell_id = 43;\n",
       "                var nbb_unformatted_code = \"df.Company.unique()\";\n",
       "                var nbb_formatted_code = \"df.Company.unique()\";\n",
       "                var nbb_cells = Jupyter.notebook.get_cells();\n",
       "                for (var i = 0; i < nbb_cells.length; ++i) {\n",
       "                    if (nbb_cells[i].input_prompt_number == nbb_cell_id) {\n",
       "                        if (nbb_cells[i].get_text() == nbb_unformatted_code) {\n",
       "                             nbb_cells[i].set_text(nbb_formatted_code);\n",
       "                        }\n",
       "                        break;\n",
       "                    }\n",
       "                }\n",
       "            }, 500);\n",
       "            "
      ],
      "text/plain": [
       "<IPython.core.display.Javascript object>"
      ]
     },
     "metadata": {},
     "output_type": "display_data"
    }
   ],
   "source": [
    "df.Company.unique()"
   ]
  },
  {
   "cell_type": "code",
   "execution_count": 44,
   "metadata": {},
   "outputs": [
    {
     "data": {
      "text/plain": [
       "Acer         0.495146\n",
       "Apple        0.761905\n",
       "Asus         0.734177\n",
       "Chuwi        1.000000\n",
       "Dell         0.760943\n",
       "Google       1.000000\n",
       "HP           0.711679\n",
       "Huawei       1.000000\n",
       "LG           1.000000\n",
       "Lenovo       0.777778\n",
       "MSI          1.000000\n",
       "Mediacom     1.000000\n",
       "Microsoft    1.000000\n",
       "Razer        1.000000\n",
       "Samsung      0.888889\n",
       "Toshiba      0.687500\n",
       "Vero         0.750000\n",
       "Xiaomi       1.000000\n",
       "Name: Company, dtype: float64"
      ]
     },
     "execution_count": 44,
     "metadata": {},
     "output_type": "execute_result"
    },
    {
     "data": {
      "application/javascript": [
       "\n",
       "            setTimeout(function() {\n",
       "                var nbb_cell_id = 44;\n",
       "                var nbb_unformatted_code = \"# let us compute the percentage of laptops in each company having high resolution screens\\ndf_highres.Company.value_counts() / df[df.Company != \\\"Fujitsu\\\"].Company.value_counts()\";\n",
       "                var nbb_formatted_code = \"# let us compute the percentage of laptops in each company having high resolution screens\\ndf_highres.Company.value_counts() / df[df.Company != \\\"Fujitsu\\\"].Company.value_counts()\";\n",
       "                var nbb_cells = Jupyter.notebook.get_cells();\n",
       "                for (var i = 0; i < nbb_cells.length; ++i) {\n",
       "                    if (nbb_cells[i].input_prompt_number == nbb_cell_id) {\n",
       "                        if (nbb_cells[i].get_text() == nbb_unformatted_code) {\n",
       "                             nbb_cells[i].set_text(nbb_formatted_code);\n",
       "                        }\n",
       "                        break;\n",
       "                    }\n",
       "                }\n",
       "            }, 500);\n",
       "            "
      ],
      "text/plain": [
       "<IPython.core.display.Javascript object>"
      ]
     },
     "metadata": {},
     "output_type": "display_data"
    }
   ],
   "source": [
    "# let us compute the percentage of laptops in each company having high resolution screens\n",
    "df_highres.Company.value_counts() / df[df.Company != \"Fujitsu\"].Company.value_counts()"
   ]
  },
  {
   "cell_type": "markdown",
   "metadata": {},
   "source": [
    "### Many companies manufacture laptops with high-resolution screens only. Fujitsu does not manufacture laptops with high-resolution screens."
   ]
  },
  {
   "cell_type": "markdown",
   "metadata": {},
   "source": [
    "### Q. Intel and AMD are primary manufacturers of processors. How does the speed of processing vary between these two processor manufacturers for laptops of type Notebook?"
   ]
  },
  {
   "cell_type": "code",
   "execution_count": 45,
   "metadata": {},
   "outputs": [
    {
     "data": {
      "text/html": [
       "<div>\n",
       "<style scoped>\n",
       "    .dataframe tbody tr th:only-of-type {\n",
       "        vertical-align: middle;\n",
       "    }\n",
       "\n",
       "    .dataframe tbody tr th {\n",
       "        vertical-align: top;\n",
       "    }\n",
       "\n",
       "    .dataframe thead th {\n",
       "        text-align: right;\n",
       "    }\n",
       "</style>\n",
       "<table border=\"1\" class=\"dataframe\">\n",
       "  <thead>\n",
       "    <tr style=\"text-align: right;\">\n",
       "      <th></th>\n",
       "      <th>laptop_ID</th>\n",
       "      <th>Company</th>\n",
       "      <th>Product</th>\n",
       "      <th>TypeName</th>\n",
       "      <th>Inches</th>\n",
       "      <th>Cpu</th>\n",
       "      <th>Memory</th>\n",
       "      <th>Gpu</th>\n",
       "      <th>OpSys</th>\n",
       "      <th>Price_euros</th>\n",
       "      <th>RAM_GB</th>\n",
       "      <th>GPU_Nvidia_GTX</th>\n",
       "      <th>Weight_kg</th>\n",
       "      <th>OS</th>\n",
       "      <th>ScrRes</th>\n",
       "      <th>ScrRes_C1</th>\n",
       "    </tr>\n",
       "  </thead>\n",
       "  <tbody>\n",
       "    <tr>\n",
       "      <th>0</th>\n",
       "      <td>1</td>\n",
       "      <td>Apple</td>\n",
       "      <td>MacBook Pro</td>\n",
       "      <td>Ultrabook</td>\n",
       "      <td>13.3</td>\n",
       "      <td>Intel Core i5 2.3GHz</td>\n",
       "      <td>128GB SSD</td>\n",
       "      <td>Intel Iris Plus Graphics 640</td>\n",
       "      <td>macOS</td>\n",
       "      <td>1339.69</td>\n",
       "      <td>8.0</td>\n",
       "      <td>0</td>\n",
       "      <td>1.37</td>\n",
       "      <td>MacOS</td>\n",
       "      <td>2560x1600</td>\n",
       "      <td>2560.0</td>\n",
       "    </tr>\n",
       "    <tr>\n",
       "      <th>1</th>\n",
       "      <td>2</td>\n",
       "      <td>Apple</td>\n",
       "      <td>Macbook Air</td>\n",
       "      <td>Ultrabook</td>\n",
       "      <td>13.3</td>\n",
       "      <td>Intel Core i5 1.8GHz</td>\n",
       "      <td>128GB Flash Storage</td>\n",
       "      <td>Intel HD Graphics 6000</td>\n",
       "      <td>macOS</td>\n",
       "      <td>898.94</td>\n",
       "      <td>8.0</td>\n",
       "      <td>0</td>\n",
       "      <td>1.34</td>\n",
       "      <td>MacOS</td>\n",
       "      <td>1440x900</td>\n",
       "      <td>1440.0</td>\n",
       "    </tr>\n",
       "    <tr>\n",
       "      <th>2</th>\n",
       "      <td>3</td>\n",
       "      <td>HP</td>\n",
       "      <td>250 G6</td>\n",
       "      <td>Notebook</td>\n",
       "      <td>15.6</td>\n",
       "      <td>Intel Core i5 7200U 2.5GHz</td>\n",
       "      <td>256GB SSD</td>\n",
       "      <td>Intel HD Graphics 620</td>\n",
       "      <td>No OS</td>\n",
       "      <td>575.00</td>\n",
       "      <td>8.0</td>\n",
       "      <td>0</td>\n",
       "      <td>1.86</td>\n",
       "      <td>NA</td>\n",
       "      <td>1920x1080</td>\n",
       "      <td>1920.0</td>\n",
       "    </tr>\n",
       "    <tr>\n",
       "      <th>3</th>\n",
       "      <td>4</td>\n",
       "      <td>Apple</td>\n",
       "      <td>MacBook Pro</td>\n",
       "      <td>Ultrabook</td>\n",
       "      <td>15.4</td>\n",
       "      <td>Intel Core i7 2.7GHz</td>\n",
       "      <td>512GB SSD</td>\n",
       "      <td>AMD Radeon Pro 455</td>\n",
       "      <td>macOS</td>\n",
       "      <td>2537.45</td>\n",
       "      <td>16.0</td>\n",
       "      <td>0</td>\n",
       "      <td>1.83</td>\n",
       "      <td>MacOS</td>\n",
       "      <td>2880x1800</td>\n",
       "      <td>2880.0</td>\n",
       "    </tr>\n",
       "    <tr>\n",
       "      <th>4</th>\n",
       "      <td>5</td>\n",
       "      <td>Apple</td>\n",
       "      <td>MacBook Pro</td>\n",
       "      <td>Ultrabook</td>\n",
       "      <td>13.3</td>\n",
       "      <td>Intel Core i5 3.1GHz</td>\n",
       "      <td>256GB SSD</td>\n",
       "      <td>Intel Iris Plus Graphics 650</td>\n",
       "      <td>macOS</td>\n",
       "      <td>1803.60</td>\n",
       "      <td>8.0</td>\n",
       "      <td>0</td>\n",
       "      <td>1.37</td>\n",
       "      <td>MacOS</td>\n",
       "      <td>2560x1600</td>\n",
       "      <td>2560.0</td>\n",
       "    </tr>\n",
       "  </tbody>\n",
       "</table>\n",
       "</div>"
      ],
      "text/plain": [
       "   laptop_ID Company      Product   TypeName  Inches  \\\n",
       "0          1   Apple  MacBook Pro  Ultrabook    13.3   \n",
       "1          2   Apple  Macbook Air  Ultrabook    13.3   \n",
       "2          3      HP       250 G6   Notebook    15.6   \n",
       "3          4   Apple  MacBook Pro  Ultrabook    15.4   \n",
       "4          5   Apple  MacBook Pro  Ultrabook    13.3   \n",
       "\n",
       "                          Cpu               Memory  \\\n",
       "0        Intel Core i5 2.3GHz            128GB SSD   \n",
       "1        Intel Core i5 1.8GHz  128GB Flash Storage   \n",
       "2  Intel Core i5 7200U 2.5GHz            256GB SSD   \n",
       "3        Intel Core i7 2.7GHz            512GB SSD   \n",
       "4        Intel Core i5 3.1GHz            256GB SSD   \n",
       "\n",
       "                            Gpu  OpSys  Price_euros  RAM_GB  GPU_Nvidia_GTX  \\\n",
       "0  Intel Iris Plus Graphics 640  macOS      1339.69     8.0               0   \n",
       "1        Intel HD Graphics 6000  macOS       898.94     8.0               0   \n",
       "2         Intel HD Graphics 620  No OS       575.00     8.0               0   \n",
       "3            AMD Radeon Pro 455  macOS      2537.45    16.0               0   \n",
       "4  Intel Iris Plus Graphics 650  macOS      1803.60     8.0               0   \n",
       "\n",
       "   Weight_kg     OS     ScrRes  ScrRes_C1  \n",
       "0       1.37  MacOS  2560x1600     2560.0  \n",
       "1       1.34  MacOS   1440x900     1440.0  \n",
       "2       1.86     NA  1920x1080     1920.0  \n",
       "3       1.83  MacOS  2880x1800     2880.0  \n",
       "4       1.37  MacOS  2560x1600     2560.0  "
      ]
     },
     "execution_count": 45,
     "metadata": {},
     "output_type": "execute_result"
    },
    {
     "data": {
      "application/javascript": [
       "\n",
       "            setTimeout(function() {\n",
       "                var nbb_cell_id = 45;\n",
       "                var nbb_unformatted_code = \"df1.head()\";\n",
       "                var nbb_formatted_code = \"df1.head()\";\n",
       "                var nbb_cells = Jupyter.notebook.get_cells();\n",
       "                for (var i = 0; i < nbb_cells.length; ++i) {\n",
       "                    if (nbb_cells[i].input_prompt_number == nbb_cell_id) {\n",
       "                        if (nbb_cells[i].get_text() == nbb_unformatted_code) {\n",
       "                             nbb_cells[i].set_text(nbb_formatted_code);\n",
       "                        }\n",
       "                        break;\n",
       "                    }\n",
       "                }\n",
       "            }, 500);\n",
       "            "
      ],
      "text/plain": [
       "<IPython.core.display.Javascript object>"
      ]
     },
     "metadata": {},
     "output_type": "display_data"
    }
   ],
   "source": [
    "df1.head()"
   ]
  },
  {
   "cell_type": "code",
   "execution_count": 46,
   "metadata": {},
   "outputs": [
    {
     "data": {
      "application/javascript": [
       "\n",
       "            setTimeout(function() {\n",
       "                var nbb_cell_id = 46;\n",
       "                var nbb_unformatted_code = \"df1[\\\"CPU_mnfc\\\"] = df1.Cpu.str.split().str[0]\\ndf1[\\\"CPU_speed\\\"] = df1.Cpu.str.split().str[-1]\";\n",
       "                var nbb_formatted_code = \"df1[\\\"CPU_mnfc\\\"] = df1.Cpu.str.split().str[0]\\ndf1[\\\"CPU_speed\\\"] = df1.Cpu.str.split().str[-1]\";\n",
       "                var nbb_cells = Jupyter.notebook.get_cells();\n",
       "                for (var i = 0; i < nbb_cells.length; ++i) {\n",
       "                    if (nbb_cells[i].input_prompt_number == nbb_cell_id) {\n",
       "                        if (nbb_cells[i].get_text() == nbb_unformatted_code) {\n",
       "                             nbb_cells[i].set_text(nbb_formatted_code);\n",
       "                        }\n",
       "                        break;\n",
       "                    }\n",
       "                }\n",
       "            }, 500);\n",
       "            "
      ],
      "text/plain": [
       "<IPython.core.display.Javascript object>"
      ]
     },
     "metadata": {},
     "output_type": "display_data"
    }
   ],
   "source": [
    "df1[\"CPU_mnfc\"] = df1.Cpu.str.split().str[0]\n",
    "df1[\"CPU_speed\"] = df1.Cpu.str.split().str[-1]"
   ]
  },
  {
   "cell_type": "code",
   "execution_count": 47,
   "metadata": {},
   "outputs": [
    {
     "data": {
      "text/plain": [
       "Intel      1240\n",
       "AMD          62\n",
       "Samsung       1\n",
       "Name: CPU_mnfc, dtype: int64"
      ]
     },
     "execution_count": 47,
     "metadata": {},
     "output_type": "execute_result"
    },
    {
     "data": {
      "application/javascript": [
       "\n",
       "            setTimeout(function() {\n",
       "                var nbb_cell_id = 47;\n",
       "                var nbb_unformatted_code = \"df1.CPU_mnfc.value_counts()\";\n",
       "                var nbb_formatted_code = \"df1.CPU_mnfc.value_counts()\";\n",
       "                var nbb_cells = Jupyter.notebook.get_cells();\n",
       "                for (var i = 0; i < nbb_cells.length; ++i) {\n",
       "                    if (nbb_cells[i].input_prompt_number == nbb_cell_id) {\n",
       "                        if (nbb_cells[i].get_text() == nbb_unformatted_code) {\n",
       "                             nbb_cells[i].set_text(nbb_formatted_code);\n",
       "                        }\n",
       "                        break;\n",
       "                    }\n",
       "                }\n",
       "            }, 500);\n",
       "            "
      ],
      "text/plain": [
       "<IPython.core.display.Javascript object>"
      ]
     },
     "metadata": {},
     "output_type": "display_data"
    }
   ],
   "source": [
    "df1.CPU_mnfc.value_counts()"
   ]
  },
  {
   "cell_type": "code",
   "execution_count": 48,
   "metadata": {},
   "outputs": [
    {
     "data": {
      "text/plain": [
       "['GHz']"
      ]
     },
     "execution_count": 48,
     "metadata": {},
     "output_type": "execute_result"
    },
    {
     "data": {
      "application/javascript": [
       "\n",
       "            setTimeout(function() {\n",
       "                var nbb_cell_id = 48;\n",
       "                var nbb_unformatted_code = \"# checking the units of CPU speed\\ncpu_units = list(set([item[-3:] for item in df1.CPU_speed]))\\ncpu_units\";\n",
       "                var nbb_formatted_code = \"# checking the units of CPU speed\\ncpu_units = list(set([item[-3:] for item in df1.CPU_speed]))\\ncpu_units\";\n",
       "                var nbb_cells = Jupyter.notebook.get_cells();\n",
       "                for (var i = 0; i < nbb_cells.length; ++i) {\n",
       "                    if (nbb_cells[i].input_prompt_number == nbb_cell_id) {\n",
       "                        if (nbb_cells[i].get_text() == nbb_unformatted_code) {\n",
       "                             nbb_cells[i].set_text(nbb_formatted_code);\n",
       "                        }\n",
       "                        break;\n",
       "                    }\n",
       "                }\n",
       "            }, 500);\n",
       "            "
      ],
      "text/plain": [
       "<IPython.core.display.Javascript object>"
      ]
     },
     "metadata": {},
     "output_type": "display_data"
    }
   ],
   "source": [
    "# checking the units of CPU speed\n",
    "cpu_units = list(set([item[-3:] for item in df1.CPU_speed]))\n",
    "cpu_units"
   ]
  },
  {
   "cell_type": "code",
   "execution_count": 49,
   "metadata": {},
   "outputs": [
    {
     "data": {
      "text/html": [
       "<div>\n",
       "<style scoped>\n",
       "    .dataframe tbody tr th:only-of-type {\n",
       "        vertical-align: middle;\n",
       "    }\n",
       "\n",
       "    .dataframe tbody tr th {\n",
       "        vertical-align: top;\n",
       "    }\n",
       "\n",
       "    .dataframe thead th {\n",
       "        text-align: right;\n",
       "    }\n",
       "</style>\n",
       "<table border=\"1\" class=\"dataframe\">\n",
       "  <thead>\n",
       "    <tr style=\"text-align: right;\">\n",
       "      <th></th>\n",
       "      <th>CPU_speed</th>\n",
       "      <th>Cpu</th>\n",
       "    </tr>\n",
       "  </thead>\n",
       "  <tbody>\n",
       "    <tr>\n",
       "      <th>0</th>\n",
       "      <td>2.3</td>\n",
       "      <td>Intel Core i5 2.3GHz</td>\n",
       "    </tr>\n",
       "    <tr>\n",
       "      <th>1</th>\n",
       "      <td>1.8</td>\n",
       "      <td>Intel Core i5 1.8GHz</td>\n",
       "    </tr>\n",
       "    <tr>\n",
       "      <th>2</th>\n",
       "      <td>2.5</td>\n",
       "      <td>Intel Core i5 7200U 2.5GHz</td>\n",
       "    </tr>\n",
       "    <tr>\n",
       "      <th>3</th>\n",
       "      <td>2.7</td>\n",
       "      <td>Intel Core i7 2.7GHz</td>\n",
       "    </tr>\n",
       "    <tr>\n",
       "      <th>4</th>\n",
       "      <td>3.1</td>\n",
       "      <td>Intel Core i5 3.1GHz</td>\n",
       "    </tr>\n",
       "  </tbody>\n",
       "</table>\n",
       "</div>"
      ],
      "text/plain": [
       "   CPU_speed                         Cpu\n",
       "0        2.3        Intel Core i5 2.3GHz\n",
       "1        1.8        Intel Core i5 1.8GHz\n",
       "2        2.5  Intel Core i5 7200U 2.5GHz\n",
       "3        2.7        Intel Core i7 2.7GHz\n",
       "4        3.1        Intel Core i5 3.1GHz"
      ]
     },
     "execution_count": 49,
     "metadata": {},
     "output_type": "execute_result"
    },
    {
     "data": {
      "application/javascript": [
       "\n",
       "            setTimeout(function() {\n",
       "                var nbb_cell_id = 49;\n",
       "                var nbb_unformatted_code = \"# extract the amount of RAM\\ndf1[\\\"CPU_speed\\\"] = df1[\\\"CPU_speed\\\"].str.replace(\\\"GHz\\\", \\\"\\\").astype(float)\\ndf1[[\\\"CPU_speed\\\", \\\"Cpu\\\"]].head()\";\n",
       "                var nbb_formatted_code = \"# extract the amount of RAM\\ndf1[\\\"CPU_speed\\\"] = df1[\\\"CPU_speed\\\"].str.replace(\\\"GHz\\\", \\\"\\\").astype(float)\\ndf1[[\\\"CPU_speed\\\", \\\"Cpu\\\"]].head()\";\n",
       "                var nbb_cells = Jupyter.notebook.get_cells();\n",
       "                for (var i = 0; i < nbb_cells.length; ++i) {\n",
       "                    if (nbb_cells[i].input_prompt_number == nbb_cell_id) {\n",
       "                        if (nbb_cells[i].get_text() == nbb_unformatted_code) {\n",
       "                             nbb_cells[i].set_text(nbb_formatted_code);\n",
       "                        }\n",
       "                        break;\n",
       "                    }\n",
       "                }\n",
       "            }, 500);\n",
       "            "
      ],
      "text/plain": [
       "<IPython.core.display.Javascript object>"
      ]
     },
     "metadata": {},
     "output_type": "display_data"
    }
   ],
   "source": [
    "# extract the amount of RAM\n",
    "df1[\"CPU_speed\"] = df1[\"CPU_speed\"].str.replace(\"GHz\", \"\").astype(float)\n",
    "df1[[\"CPU_speed\", \"Cpu\"]].head()"
   ]
  },
  {
   "cell_type": "code",
   "execution_count": 50,
   "metadata": {},
   "outputs": [
    {
     "data": {
      "text/plain": [
       "CPU_mnfc\n",
       "AMD      2.585455\n",
       "Intel    2.184077\n",
       "Name: CPU_speed, dtype: float64"
      ]
     },
     "execution_count": 50,
     "metadata": {},
     "output_type": "execute_result"
    },
    {
     "data": {
      "application/javascript": [
       "\n",
       "            setTimeout(function() {\n",
       "                var nbb_cell_id = 50;\n",
       "                var nbb_unformatted_code = \"df_notebook = df1[df1.TypeName == \\\"Notebook\\\"]\\ndf_notebook.groupby(\\\"CPU_mnfc\\\")[\\\"CPU_speed\\\"].mean()\";\n",
       "                var nbb_formatted_code = \"df_notebook = df1[df1.TypeName == \\\"Notebook\\\"]\\ndf_notebook.groupby(\\\"CPU_mnfc\\\")[\\\"CPU_speed\\\"].mean()\";\n",
       "                var nbb_cells = Jupyter.notebook.get_cells();\n",
       "                for (var i = 0; i < nbb_cells.length; ++i) {\n",
       "                    if (nbb_cells[i].input_prompt_number == nbb_cell_id) {\n",
       "                        if (nbb_cells[i].get_text() == nbb_unformatted_code) {\n",
       "                             nbb_cells[i].set_text(nbb_formatted_code);\n",
       "                        }\n",
       "                        break;\n",
       "                    }\n",
       "                }\n",
       "            }, 500);\n",
       "            "
      ],
      "text/plain": [
       "<IPython.core.display.Javascript object>"
      ]
     },
     "metadata": {},
     "output_type": "display_data"
    }
   ],
   "source": [
    "df_notebook = df1[df1.TypeName == \"Notebook\"]\n",
    "df_notebook.groupby(\"CPU_mnfc\")[\"CPU_speed\"].mean()"
   ]
  },
  {
   "cell_type": "code",
   "execution_count": 51,
   "metadata": {},
   "outputs": [
    {
     "data": {
      "image/png": "[encoded data removed]",
      "text/plain": [
       "<Figure size 1080x360 with 2 Axes>"
      ]
     },
     "metadata": {},
     "output_type": "display_data"
    },
    {
     "data": {
      "application/javascript": [
       "\n",
       "            setTimeout(function() {\n",
       "                var nbb_cell_id = 51;\n",
       "                var nbb_unformatted_code = \"plt.figure(figsize=(15, 5))\\n\\nplt.subplot(1, 2, 1)\\nsns.barplot(data=df_notebook, y=\\\"CPU_speed\\\", x=\\\"CPU_mnfc\\\")\\nplt.xticks(rotation=45)\\n\\nplt.subplot(1, 2, 2)\\nsns.boxplot(data=df_notebook, y=\\\"CPU_speed\\\", x=\\\"CPU_mnfc\\\")\\nplt.xticks(rotation=45)\\n\\nplt.show()\";\n",
       "                var nbb_formatted_code = \"plt.figure(figsize=(15, 5))\\n\\nplt.subplot(1, 2, 1)\\nsns.barplot(data=df_notebook, y=\\\"CPU_speed\\\", x=\\\"CPU_mnfc\\\")\\nplt.xticks(rotation=45)\\n\\nplt.subplot(1, 2, 2)\\nsns.boxplot(data=df_notebook, y=\\\"CPU_speed\\\", x=\\\"CPU_mnfc\\\")\\nplt.xticks(rotation=45)\\n\\nplt.show()\";\n",
       "                var nbb_cells = Jupyter.notebook.get_cells();\n",
       "                for (var i = 0; i < nbb_cells.length; ++i) {\n",
       "                    if (nbb_cells[i].input_prompt_number == nbb_cell_id) {\n",
       "                        if (nbb_cells[i].get_text() == nbb_unformatted_code) {\n",
       "                             nbb_cells[i].set_text(nbb_formatted_code);\n",
       "                        }\n",
       "                        break;\n",
       "                    }\n",
       "                }\n",
       "            }, 500);\n",
       "            "
      ],
      "text/plain": [
       "<IPython.core.display.Javascript object>"
      ]
     },
     "metadata": {},
     "output_type": "display_data"
    }
   ],
   "source": [
    "plt.figure(figsize=(15, 5))\n",
    "\n",
    "plt.subplot(1, 2, 1)\n",
    "sns.barplot(data=df_notebook, y=\"CPU_speed\", x=\"CPU_mnfc\")\n",
    "plt.xticks(rotation=45)\n",
    "\n",
    "plt.subplot(1, 2, 2)\n",
    "sns.boxplot(data=df_notebook, y=\"CPU_speed\", x=\"CPU_mnfc\")\n",
    "plt.xticks(rotation=45)\n",
    "\n",
    "plt.show()"
   ]
  },
  {
   "cell_type": "markdown",
   "metadata": {},
   "source": [
    "### AMD processors tend to offer more processing speed than Intel processors."
   ]
  },
  {
   "cell_type": "markdown",
   "metadata": {},
   "source": [
    "### Q. Many recent laptops have started to provide multiple storage options (like an SSD with an HDD). What are the different kinds of storage available for laptops manufactured by Apple? (Refer to the '*Memory*' column)"
   ]
  },
  {
   "cell_type": "code",
   "execution_count": 52,
   "metadata": {},
   "outputs": [
    {
     "data": {
      "text/html": [
       "<div>\n",
       "<style scoped>\n",
       "    .dataframe tbody tr th:only-of-type {\n",
       "        vertical-align: middle;\n",
       "    }\n",
       "\n",
       "    .dataframe tbody tr th {\n",
       "        vertical-align: top;\n",
       "    }\n",
       "\n",
       "    .dataframe thead th {\n",
       "        text-align: right;\n",
       "    }\n",
       "</style>\n",
       "<table border=\"1\" class=\"dataframe\">\n",
       "  <thead>\n",
       "    <tr style=\"text-align: right;\">\n",
       "      <th></th>\n",
       "      <th>laptop_ID</th>\n",
       "      <th>Company</th>\n",
       "      <th>Product</th>\n",
       "      <th>TypeName</th>\n",
       "      <th>Inches</th>\n",
       "      <th>Cpu</th>\n",
       "      <th>Memory</th>\n",
       "      <th>Gpu</th>\n",
       "      <th>OpSys</th>\n",
       "      <th>Price_euros</th>\n",
       "      <th>RAM_GB</th>\n",
       "      <th>GPU_Nvidia_GTX</th>\n",
       "      <th>Weight_kg</th>\n",
       "      <th>OS</th>\n",
       "      <th>ScrRes</th>\n",
       "      <th>ScrRes_C1</th>\n",
       "      <th>CPU_mnfc</th>\n",
       "      <th>CPU_speed</th>\n",
       "    </tr>\n",
       "  </thead>\n",
       "  <tbody>\n",
       "    <tr>\n",
       "      <th>248</th>\n",
       "      <td>253</td>\n",
       "      <td>HP</td>\n",
       "      <td>ProBook 430</td>\n",
       "      <td>Notebook</td>\n",
       "      <td>13.3</td>\n",
       "      <td>Intel Core i5 8250U 1.6GHz</td>\n",
       "      <td>500GB HDD</td>\n",
       "      <td>Intel UHD Graphics 620</td>\n",
       "      <td>Windows 10</td>\n",
       "      <td>675.0</td>\n",
       "      <td>4.0</td>\n",
       "      <td>0</td>\n",
       "      <td>1.49</td>\n",
       "      <td>Windows</td>\n",
       "      <td>1920x1080</td>\n",
       "      <td>1920.0</td>\n",
       "      <td>Intel</td>\n",
       "      <td>1.60</td>\n",
       "    </tr>\n",
       "    <tr>\n",
       "      <th>556</th>\n",
       "      <td>563</td>\n",
       "      <td>Mediacom</td>\n",
       "      <td>SmartBook 130</td>\n",
       "      <td>Notebook</td>\n",
       "      <td>13.3</td>\n",
       "      <td>Intel Atom x5-Z8350 1.44GHz</td>\n",
       "      <td>32GB Flash Storage</td>\n",
       "      <td>Intel HD Graphics</td>\n",
       "      <td>Windows 10</td>\n",
       "      <td>255.0</td>\n",
       "      <td>4.0</td>\n",
       "      <td>0</td>\n",
       "      <td>1.35</td>\n",
       "      <td>Windows</td>\n",
       "      <td>1920x1080</td>\n",
       "      <td>1920.0</td>\n",
       "      <td>Intel</td>\n",
       "      <td>1.44</td>\n",
       "    </tr>\n",
       "    <tr>\n",
       "      <th>693</th>\n",
       "      <td>701</td>\n",
       "      <td>Lenovo</td>\n",
       "      <td>ThinkPad X1</td>\n",
       "      <td>2 in 1 Convertible</td>\n",
       "      <td>14.0</td>\n",
       "      <td>Intel Core i7 7500U 2.7GHz</td>\n",
       "      <td>256GB SSD</td>\n",
       "      <td>Intel HD Graphics 620</td>\n",
       "      <td>Windows 10</td>\n",
       "      <td>2590.0</td>\n",
       "      <td>8.0</td>\n",
       "      <td>0</td>\n",
       "      <td>1.42</td>\n",
       "      <td>Windows</td>\n",
       "      <td>2560x1440</td>\n",
       "      <td>2560.0</td>\n",
       "      <td>Intel</td>\n",
       "      <td>2.70</td>\n",
       "    </tr>\n",
       "    <tr>\n",
       "      <th>387</th>\n",
       "      <td>393</td>\n",
       "      <td>Dell</td>\n",
       "      <td>Precision 3510</td>\n",
       "      <td>Workstation</td>\n",
       "      <td>15.6</td>\n",
       "      <td>Intel Core i5 6440HQ 2.6GHz</td>\n",
       "      <td>500GB HDD</td>\n",
       "      <td>AMD FirePro W5130M</td>\n",
       "      <td>Windows 10</td>\n",
       "      <td>1369.0</td>\n",
       "      <td>8.0</td>\n",
       "      <td>0</td>\n",
       "      <td>2.23</td>\n",
       "      <td>Windows</td>\n",
       "      <td>1920x1080</td>\n",
       "      <td>1920.0</td>\n",
       "      <td>Intel</td>\n",
       "      <td>2.60</td>\n",
       "    </tr>\n",
       "    <tr>\n",
       "      <th>781</th>\n",
       "      <td>790</td>\n",
       "      <td>Asus</td>\n",
       "      <td>Rog G752VS-BA171T</td>\n",
       "      <td>Gaming</td>\n",
       "      <td>17.3</td>\n",
       "      <td>Intel Core i7 6700HQ 2.6GHz</td>\n",
       "      <td>256GB SSD +  1TB HDD</td>\n",
       "      <td>Nvidia GeForce GTX 1070</td>\n",
       "      <td>Windows 10</td>\n",
       "      <td>2350.0</td>\n",
       "      <td>16.0</td>\n",
       "      <td>1</td>\n",
       "      <td>4.30</td>\n",
       "      <td>Windows</td>\n",
       "      <td>1920x1080</td>\n",
       "      <td>1920.0</td>\n",
       "      <td>Intel</td>\n",
       "      <td>2.60</td>\n",
       "    </tr>\n",
       "    <tr>\n",
       "      <th>379</th>\n",
       "      <td>385</td>\n",
       "      <td>Acer</td>\n",
       "      <td>Aspire 7</td>\n",
       "      <td>Notebook</td>\n",
       "      <td>15.6</td>\n",
       "      <td>Intel Core i7 7700HQ 2.8GHz</td>\n",
       "      <td>1TB HDD</td>\n",
       "      <td>Nvidia GeForce GTX 1050</td>\n",
       "      <td>Linux</td>\n",
       "      <td>846.0</td>\n",
       "      <td>8.0</td>\n",
       "      <td>1</td>\n",
       "      <td>2.40</td>\n",
       "      <td>Linux</td>\n",
       "      <td>1920x1080</td>\n",
       "      <td>1920.0</td>\n",
       "      <td>Intel</td>\n",
       "      <td>2.80</td>\n",
       "    </tr>\n",
       "    <tr>\n",
       "      <th>716</th>\n",
       "      <td>724</td>\n",
       "      <td>Dell</td>\n",
       "      <td>Latitude 5580</td>\n",
       "      <td>Notebook</td>\n",
       "      <td>15.6</td>\n",
       "      <td>Intel Core i5 7300U 2.6GHz</td>\n",
       "      <td>256GB SSD</td>\n",
       "      <td>Intel HD Graphics 620</td>\n",
       "      <td>Windows 10</td>\n",
       "      <td>1179.0</td>\n",
       "      <td>8.0</td>\n",
       "      <td>0</td>\n",
       "      <td>1.90</td>\n",
       "      <td>Windows</td>\n",
       "      <td>1920x1080</td>\n",
       "      <td>1920.0</td>\n",
       "      <td>Intel</td>\n",
       "      <td>2.60</td>\n",
       "    </tr>\n",
       "    <tr>\n",
       "      <th>880</th>\n",
       "      <td>891</td>\n",
       "      <td>HP</td>\n",
       "      <td>EliteBook x360</td>\n",
       "      <td>2 in 1 Convertible</td>\n",
       "      <td>13.3</td>\n",
       "      <td>Intel Core i5 7200U 2.5GHz</td>\n",
       "      <td>256GB SSD</td>\n",
       "      <td>Intel HD Graphics 620</td>\n",
       "      <td>Windows 10</td>\n",
       "      <td>1700.0</td>\n",
       "      <td>4.0</td>\n",
       "      <td>0</td>\n",
       "      <td>1.28</td>\n",
       "      <td>Windows</td>\n",
       "      <td>1920x1080</td>\n",
       "      <td>1920.0</td>\n",
       "      <td>Intel</td>\n",
       "      <td>2.50</td>\n",
       "    </tr>\n",
       "    <tr>\n",
       "      <th>654</th>\n",
       "      <td>662</td>\n",
       "      <td>HP</td>\n",
       "      <td>250 G6</td>\n",
       "      <td>Notebook</td>\n",
       "      <td>15.6</td>\n",
       "      <td>Intel Core i3 6006U 2GHz</td>\n",
       "      <td>500GB HDD</td>\n",
       "      <td>Intel HD Graphics 520</td>\n",
       "      <td>No OS</td>\n",
       "      <td>364.9</td>\n",
       "      <td>4.0</td>\n",
       "      <td>0</td>\n",
       "      <td>1.86</td>\n",
       "      <td>NA</td>\n",
       "      <td>1366x768</td>\n",
       "      <td>1366.0</td>\n",
       "      <td>Intel</td>\n",
       "      <td>2.00</td>\n",
       "    </tr>\n",
       "    <tr>\n",
       "      <th>994</th>\n",
       "      <td>1008</td>\n",
       "      <td>Dell</td>\n",
       "      <td>Inspiron 5378</td>\n",
       "      <td>2 in 1 Convertible</td>\n",
       "      <td>13.3</td>\n",
       "      <td>Intel Core i5 7200U 2.5GHz</td>\n",
       "      <td>256GB SSD</td>\n",
       "      <td>Intel HD Graphics 620</td>\n",
       "      <td>Windows 10</td>\n",
       "      <td>889.0</td>\n",
       "      <td>8.0</td>\n",
       "      <td>0</td>\n",
       "      <td>1.68</td>\n",
       "      <td>Windows</td>\n",
       "      <td>1920x1080</td>\n",
       "      <td>1920.0</td>\n",
       "      <td>Intel</td>\n",
       "      <td>2.50</td>\n",
       "    </tr>\n",
       "  </tbody>\n",
       "</table>\n",
       "</div>"
      ],
      "text/plain": [
       "     laptop_ID   Company            Product            TypeName  Inches  \\\n",
       "248        253        HP        ProBook 430            Notebook    13.3   \n",
       "556        563  Mediacom      SmartBook 130            Notebook    13.3   \n",
       "693        701    Lenovo        ThinkPad X1  2 in 1 Convertible    14.0   \n",
       "387        393      Dell     Precision 3510         Workstation    15.6   \n",
       "781        790      Asus  Rog G752VS-BA171T              Gaming    17.3   \n",
       "379        385      Acer           Aspire 7            Notebook    15.6   \n",
       "716        724      Dell      Latitude 5580            Notebook    15.6   \n",
       "880        891        HP     EliteBook x360  2 in 1 Convertible    13.3   \n",
       "654        662        HP             250 G6            Notebook    15.6   \n",
       "994       1008      Dell      Inspiron 5378  2 in 1 Convertible    13.3   \n",
       "\n",
       "                             Cpu                Memory  \\\n",
       "248   Intel Core i5 8250U 1.6GHz             500GB HDD   \n",
       "556  Intel Atom x5-Z8350 1.44GHz    32GB Flash Storage   \n",
       "693   Intel Core i7 7500U 2.7GHz             256GB SSD   \n",
       "387  Intel Core i5 6440HQ 2.6GHz             500GB HDD   \n",
       "781  Intel Core i7 6700HQ 2.6GHz  256GB SSD +  1TB HDD   \n",
       "379  Intel Core i7 7700HQ 2.8GHz               1TB HDD   \n",
       "716   Intel Core i5 7300U 2.6GHz             256GB SSD   \n",
       "880   Intel Core i5 7200U 2.5GHz             256GB SSD   \n",
       "654     Intel Core i3 6006U 2GHz             500GB HDD   \n",
       "994   Intel Core i5 7200U 2.5GHz             256GB SSD   \n",
       "\n",
       "                         Gpu       OpSys  Price_euros  RAM_GB  GPU_Nvidia_GTX  \\\n",
       "248   Intel UHD Graphics 620  Windows 10        675.0     4.0               0   \n",
       "556        Intel HD Graphics  Windows 10        255.0     4.0               0   \n",
       "693    Intel HD Graphics 620  Windows 10       2590.0     8.0               0   \n",
       "387       AMD FirePro W5130M  Windows 10       1369.0     8.0               0   \n",
       "781  Nvidia GeForce GTX 1070  Windows 10       2350.0    16.0               1   \n",
       "379  Nvidia GeForce GTX 1050       Linux        846.0     8.0               1   \n",
       "716    Intel HD Graphics 620  Windows 10       1179.0     8.0               0   \n",
       "880    Intel HD Graphics 620  Windows 10       1700.0     4.0               0   \n",
       "654    Intel HD Graphics 520       No OS        364.9     4.0               0   \n",
       "994    Intel HD Graphics 620  Windows 10        889.0     8.0               0   \n",
       "\n",
       "     Weight_kg       OS     ScrRes  ScrRes_C1 CPU_mnfc  CPU_speed  \n",
       "248       1.49  Windows  1920x1080     1920.0    Intel       1.60  \n",
       "556       1.35  Windows  1920x1080     1920.0    Intel       1.44  \n",
       "693       1.42  Windows  2560x1440     2560.0    Intel       2.70  \n",
       "387       2.23  Windows  1920x1080     1920.0    Intel       2.60  \n",
       "781       4.30  Windows  1920x1080     1920.0    Intel       2.60  \n",
       "379       2.40    Linux  1920x1080     1920.0    Intel       2.80  \n",
       "716       1.90  Windows  1920x1080     1920.0    Intel       2.60  \n",
       "880       1.28  Windows  1920x1080     1920.0    Intel       2.50  \n",
       "654       1.86       NA   1366x768     1366.0    Intel       2.00  \n",
       "994       1.68  Windows  1920x1080     1920.0    Intel       2.50  "
      ]
     },
     "execution_count": 52,
     "metadata": {},
     "output_type": "execute_result"
    },
    {
     "data": {
      "application/javascript": [
       "\n",
       "            setTimeout(function() {\n",
       "                var nbb_cell_id = 52;\n",
       "                var nbb_unformatted_code = \"np.random.seed(2)\\ndf1.sample(10)\";\n",
       "                var nbb_formatted_code = \"np.random.seed(2)\\ndf1.sample(10)\";\n",
       "                var nbb_cells = Jupyter.notebook.get_cells();\n",
       "                for (var i = 0; i < nbb_cells.length; ++i) {\n",
       "                    if (nbb_cells[i].input_prompt_number == nbb_cell_id) {\n",
       "                        if (nbb_cells[i].get_text() == nbb_unformatted_code) {\n",
       "                             nbb_cells[i].set_text(nbb_formatted_code);\n",
       "                        }\n",
       "                        break;\n",
       "                    }\n",
       "                }\n",
       "            }, 500);\n",
       "            "
      ],
      "text/plain": [
       "<IPython.core.display.Javascript object>"
      ]
     },
     "metadata": {},
     "output_type": "display_data"
    }
   ],
   "source": [
    "np.random.seed(2)\n",
    "df1.sample(10)"
   ]
  },
  {
   "cell_type": "code",
   "execution_count": 53,
   "metadata": {},
   "outputs": [
    {
     "data": {
      "text/html": [
       "<div>\n",
       "<style scoped>\n",
       "    .dataframe tbody tr th:only-of-type {\n",
       "        vertical-align: middle;\n",
       "    }\n",
       "\n",
       "    .dataframe tbody tr th {\n",
       "        vertical-align: top;\n",
       "    }\n",
       "\n",
       "    .dataframe thead th {\n",
       "        text-align: right;\n",
       "    }\n",
       "</style>\n",
       "<table border=\"1\" class=\"dataframe\">\n",
       "  <thead>\n",
       "    <tr style=\"text-align: right;\">\n",
       "      <th></th>\n",
       "      <th>laptop_ID</th>\n",
       "      <th>Company</th>\n",
       "      <th>Product</th>\n",
       "      <th>TypeName</th>\n",
       "      <th>Inches</th>\n",
       "      <th>Cpu</th>\n",
       "      <th>Memory</th>\n",
       "      <th>Gpu</th>\n",
       "      <th>OpSys</th>\n",
       "      <th>Price_euros</th>\n",
       "      <th>RAM_GB</th>\n",
       "      <th>GPU_Nvidia_GTX</th>\n",
       "      <th>Weight_kg</th>\n",
       "      <th>OS</th>\n",
       "      <th>ScrRes</th>\n",
       "      <th>ScrRes_C1</th>\n",
       "      <th>CPU_mnfc</th>\n",
       "      <th>CPU_speed</th>\n",
       "    </tr>\n",
       "  </thead>\n",
       "  <tbody>\n",
       "    <tr>\n",
       "      <th>0</th>\n",
       "      <td>1</td>\n",
       "      <td>Apple</td>\n",
       "      <td>MacBook Pro</td>\n",
       "      <td>Ultrabook</td>\n",
       "      <td>13.3</td>\n",
       "      <td>Intel Core i5 2.3GHz</td>\n",
       "      <td>128GB SSD + NaN</td>\n",
       "      <td>Intel Iris Plus Graphics 640</td>\n",
       "      <td>macOS</td>\n",
       "      <td>1339.69</td>\n",
       "      <td>8.0</td>\n",
       "      <td>0</td>\n",
       "      <td>1.37</td>\n",
       "      <td>MacOS</td>\n",
       "      <td>2560x1600</td>\n",
       "      <td>2560.0</td>\n",
       "      <td>Intel</td>\n",
       "      <td>2.3</td>\n",
       "    </tr>\n",
       "    <tr>\n",
       "      <th>1</th>\n",
       "      <td>2</td>\n",
       "      <td>Apple</td>\n",
       "      <td>Macbook Air</td>\n",
       "      <td>Ultrabook</td>\n",
       "      <td>13.3</td>\n",
       "      <td>Intel Core i5 1.8GHz</td>\n",
       "      <td>128GB Flash Storage + NaN</td>\n",
       "      <td>Intel HD Graphics 6000</td>\n",
       "      <td>macOS</td>\n",
       "      <td>898.94</td>\n",
       "      <td>8.0</td>\n",
       "      <td>0</td>\n",
       "      <td>1.34</td>\n",
       "      <td>MacOS</td>\n",
       "      <td>1440x900</td>\n",
       "      <td>1440.0</td>\n",
       "      <td>Intel</td>\n",
       "      <td>1.8</td>\n",
       "    </tr>\n",
       "    <tr>\n",
       "      <th>2</th>\n",
       "      <td>3</td>\n",
       "      <td>HP</td>\n",
       "      <td>250 G6</td>\n",
       "      <td>Notebook</td>\n",
       "      <td>15.6</td>\n",
       "      <td>Intel Core i5 7200U 2.5GHz</td>\n",
       "      <td>256GB SSD + NaN</td>\n",
       "      <td>Intel HD Graphics 620</td>\n",
       "      <td>No OS</td>\n",
       "      <td>575.00</td>\n",
       "      <td>8.0</td>\n",
       "      <td>0</td>\n",
       "      <td>1.86</td>\n",
       "      <td>NA</td>\n",
       "      <td>1920x1080</td>\n",
       "      <td>1920.0</td>\n",
       "      <td>Intel</td>\n",
       "      <td>2.5</td>\n",
       "    </tr>\n",
       "    <tr>\n",
       "      <th>3</th>\n",
       "      <td>4</td>\n",
       "      <td>Apple</td>\n",
       "      <td>MacBook Pro</td>\n",
       "      <td>Ultrabook</td>\n",
       "      <td>15.4</td>\n",
       "      <td>Intel Core i7 2.7GHz</td>\n",
       "      <td>512GB SSD + NaN</td>\n",
       "      <td>AMD Radeon Pro 455</td>\n",
       "      <td>macOS</td>\n",
       "      <td>2537.45</td>\n",
       "      <td>16.0</td>\n",
       "      <td>0</td>\n",
       "      <td>1.83</td>\n",
       "      <td>MacOS</td>\n",
       "      <td>2880x1800</td>\n",
       "      <td>2880.0</td>\n",
       "      <td>Intel</td>\n",
       "      <td>2.7</td>\n",
       "    </tr>\n",
       "    <tr>\n",
       "      <th>4</th>\n",
       "      <td>5</td>\n",
       "      <td>Apple</td>\n",
       "      <td>MacBook Pro</td>\n",
       "      <td>Ultrabook</td>\n",
       "      <td>13.3</td>\n",
       "      <td>Intel Core i5 3.1GHz</td>\n",
       "      <td>256GB SSD + NaN</td>\n",
       "      <td>Intel Iris Plus Graphics 650</td>\n",
       "      <td>macOS</td>\n",
       "      <td>1803.60</td>\n",
       "      <td>8.0</td>\n",
       "      <td>0</td>\n",
       "      <td>1.37</td>\n",
       "      <td>MacOS</td>\n",
       "      <td>2560x1600</td>\n",
       "      <td>2560.0</td>\n",
       "      <td>Intel</td>\n",
       "      <td>3.1</td>\n",
       "    </tr>\n",
       "  </tbody>\n",
       "</table>\n",
       "</div>"
      ],
      "text/plain": [
       "   laptop_ID Company      Product   TypeName  Inches  \\\n",
       "0          1   Apple  MacBook Pro  Ultrabook    13.3   \n",
       "1          2   Apple  Macbook Air  Ultrabook    13.3   \n",
       "2          3      HP       250 G6   Notebook    15.6   \n",
       "3          4   Apple  MacBook Pro  Ultrabook    15.4   \n",
       "4          5   Apple  MacBook Pro  Ultrabook    13.3   \n",
       "\n",
       "                          Cpu                     Memory  \\\n",
       "0        Intel Core i5 2.3GHz            128GB SSD + NaN   \n",
       "1        Intel Core i5 1.8GHz  128GB Flash Storage + NaN   \n",
       "2  Intel Core i5 7200U 2.5GHz            256GB SSD + NaN   \n",
       "3        Intel Core i7 2.7GHz            512GB SSD + NaN   \n",
       "4        Intel Core i5 3.1GHz            256GB SSD + NaN   \n",
       "\n",
       "                            Gpu  OpSys  Price_euros  RAM_GB  GPU_Nvidia_GTX  \\\n",
       "0  Intel Iris Plus Graphics 640  macOS      1339.69     8.0               0   \n",
       "1        Intel HD Graphics 6000  macOS       898.94     8.0               0   \n",
       "2         Intel HD Graphics 620  No OS       575.00     8.0               0   \n",
       "3            AMD Radeon Pro 455  macOS      2537.45    16.0               0   \n",
       "4  Intel Iris Plus Graphics 650  macOS      1803.60     8.0               0   \n",
       "\n",
       "   Weight_kg     OS     ScrRes  ScrRes_C1 CPU_mnfc  CPU_speed  \n",
       "0       1.37  MacOS  2560x1600     2560.0    Intel        2.3  \n",
       "1       1.34  MacOS   1440x900     1440.0    Intel        1.8  \n",
       "2       1.86     NA  1920x1080     1920.0    Intel        2.5  \n",
       "3       1.83  MacOS  2880x1800     2880.0    Intel        2.7  \n",
       "4       1.37  MacOS  2560x1600     2560.0    Intel        3.1  "
      ]
     },
     "execution_count": 53,
     "metadata": {},
     "output_type": "execute_result"
    },
    {
     "data": {
      "application/javascript": [
       "\n",
       "            setTimeout(function() {\n",
       "                var nbb_cell_id = 53;\n",
       "                var nbb_unformatted_code = \"df1[\\\"Memory\\\"] = [\\n    item + \\\" + NaN\\\" if \\\"+\\\" not in item else item for item in df1[\\\"Memory\\\"].values\\n]\\ndf1.head()\";\n",
       "                var nbb_formatted_code = \"df1[\\\"Memory\\\"] = [\\n    item + \\\" + NaN\\\" if \\\"+\\\" not in item else item for item in df1[\\\"Memory\\\"].values\\n]\\ndf1.head()\";\n",
       "                var nbb_cells = Jupyter.notebook.get_cells();\n",
       "                for (var i = 0; i < nbb_cells.length; ++i) {\n",
       "                    if (nbb_cells[i].input_prompt_number == nbb_cell_id) {\n",
       "                        if (nbb_cells[i].get_text() == nbb_unformatted_code) {\n",
       "                             nbb_cells[i].set_text(nbb_formatted_code);\n",
       "                        }\n",
       "                        break;\n",
       "                    }\n",
       "                }\n",
       "            }, 500);\n",
       "            "
      ],
      "text/plain": [
       "<IPython.core.display.Javascript object>"
      ]
     },
     "metadata": {},
     "output_type": "display_data"
    }
   ],
   "source": [
    "df1[\"Memory\"] = [\n",
    "    item + \" + NaN\" if \"+\" not in item else item for item in df1[\"Memory\"].values\n",
    "]\n",
    "df1.head()"
   ]
  },
  {
   "cell_type": "code",
   "execution_count": 54,
   "metadata": {},
   "outputs": [
    {
     "data": {
      "text/html": [
       "<div>\n",
       "<style scoped>\n",
       "    .dataframe tbody tr th:only-of-type {\n",
       "        vertical-align: middle;\n",
       "    }\n",
       "\n",
       "    .dataframe tbody tr th {\n",
       "        vertical-align: top;\n",
       "    }\n",
       "\n",
       "    .dataframe thead th {\n",
       "        text-align: right;\n",
       "    }\n",
       "</style>\n",
       "<table border=\"1\" class=\"dataframe\">\n",
       "  <thead>\n",
       "    <tr style=\"text-align: right;\">\n",
       "      <th></th>\n",
       "      <th>laptop_ID</th>\n",
       "      <th>Company</th>\n",
       "      <th>Product</th>\n",
       "      <th>TypeName</th>\n",
       "      <th>Inches</th>\n",
       "      <th>Cpu</th>\n",
       "      <th>Memory</th>\n",
       "      <th>Gpu</th>\n",
       "      <th>OpSys</th>\n",
       "      <th>Price_euros</th>\n",
       "      <th>RAM_GB</th>\n",
       "      <th>GPU_Nvidia_GTX</th>\n",
       "      <th>Weight_kg</th>\n",
       "      <th>OS</th>\n",
       "      <th>ScrRes</th>\n",
       "      <th>ScrRes_C1</th>\n",
       "      <th>CPU_mnfc</th>\n",
       "      <th>CPU_speed</th>\n",
       "      <th>Storage1</th>\n",
       "      <th>Storage2</th>\n",
       "    </tr>\n",
       "  </thead>\n",
       "  <tbody>\n",
       "    <tr>\n",
       "      <th>0</th>\n",
       "      <td>1</td>\n",
       "      <td>Apple</td>\n",
       "      <td>MacBook Pro</td>\n",
       "      <td>Ultrabook</td>\n",
       "      <td>13.3</td>\n",
       "      <td>Intel Core i5 2.3GHz</td>\n",
       "      <td>128GB SSD + NaN</td>\n",
       "      <td>Intel Iris Plus Graphics 640</td>\n",
       "      <td>macOS</td>\n",
       "      <td>1339.69</td>\n",
       "      <td>8.0</td>\n",
       "      <td>0</td>\n",
       "      <td>1.37</td>\n",
       "      <td>MacOS</td>\n",
       "      <td>2560x1600</td>\n",
       "      <td>2560.0</td>\n",
       "      <td>Intel</td>\n",
       "      <td>2.3</td>\n",
       "      <td>128GB SSD</td>\n",
       "      <td>NaN</td>\n",
       "    </tr>\n",
       "    <tr>\n",
       "      <th>1</th>\n",
       "      <td>2</td>\n",
       "      <td>Apple</td>\n",
       "      <td>Macbook Air</td>\n",
       "      <td>Ultrabook</td>\n",
       "      <td>13.3</td>\n",
       "      <td>Intel Core i5 1.8GHz</td>\n",
       "      <td>128GB Flash Storage + NaN</td>\n",
       "      <td>Intel HD Graphics 6000</td>\n",
       "      <td>macOS</td>\n",
       "      <td>898.94</td>\n",
       "      <td>8.0</td>\n",
       "      <td>0</td>\n",
       "      <td>1.34</td>\n",
       "      <td>MacOS</td>\n",
       "      <td>1440x900</td>\n",
       "      <td>1440.0</td>\n",
       "      <td>Intel</td>\n",
       "      <td>1.8</td>\n",
       "      <td>128GB Flash Storage</td>\n",
       "      <td>NaN</td>\n",
       "    </tr>\n",
       "    <tr>\n",
       "      <th>2</th>\n",
       "      <td>3</td>\n",
       "      <td>HP</td>\n",
       "      <td>250 G6</td>\n",
       "      <td>Notebook</td>\n",
       "      <td>15.6</td>\n",
       "      <td>Intel Core i5 7200U 2.5GHz</td>\n",
       "      <td>256GB SSD + NaN</td>\n",
       "      <td>Intel HD Graphics 620</td>\n",
       "      <td>No OS</td>\n",
       "      <td>575.00</td>\n",
       "      <td>8.0</td>\n",
       "      <td>0</td>\n",
       "      <td>1.86</td>\n",
       "      <td>NA</td>\n",
       "      <td>1920x1080</td>\n",
       "      <td>1920.0</td>\n",
       "      <td>Intel</td>\n",
       "      <td>2.5</td>\n",
       "      <td>256GB SSD</td>\n",
       "      <td>NaN</td>\n",
       "    </tr>\n",
       "    <tr>\n",
       "      <th>3</th>\n",
       "      <td>4</td>\n",
       "      <td>Apple</td>\n",
       "      <td>MacBook Pro</td>\n",
       "      <td>Ultrabook</td>\n",
       "      <td>15.4</td>\n",
       "      <td>Intel Core i7 2.7GHz</td>\n",
       "      <td>512GB SSD + NaN</td>\n",
       "      <td>AMD Radeon Pro 455</td>\n",
       "      <td>macOS</td>\n",
       "      <td>2537.45</td>\n",
       "      <td>16.0</td>\n",
       "      <td>0</td>\n",
       "      <td>1.83</td>\n",
       "      <td>MacOS</td>\n",
       "      <td>2880x1800</td>\n",
       "      <td>2880.0</td>\n",
       "      <td>Intel</td>\n",
       "      <td>2.7</td>\n",
       "      <td>512GB SSD</td>\n",
       "      <td>NaN</td>\n",
       "    </tr>\n",
       "    <tr>\n",
       "      <th>4</th>\n",
       "      <td>5</td>\n",
       "      <td>Apple</td>\n",
       "      <td>MacBook Pro</td>\n",
       "      <td>Ultrabook</td>\n",
       "      <td>13.3</td>\n",
       "      <td>Intel Core i5 3.1GHz</td>\n",
       "      <td>256GB SSD + NaN</td>\n",
       "      <td>Intel Iris Plus Graphics 650</td>\n",
       "      <td>macOS</td>\n",
       "      <td>1803.60</td>\n",
       "      <td>8.0</td>\n",
       "      <td>0</td>\n",
       "      <td>1.37</td>\n",
       "      <td>MacOS</td>\n",
       "      <td>2560x1600</td>\n",
       "      <td>2560.0</td>\n",
       "      <td>Intel</td>\n",
       "      <td>3.1</td>\n",
       "      <td>256GB SSD</td>\n",
       "      <td>NaN</td>\n",
       "    </tr>\n",
       "  </tbody>\n",
       "</table>\n",
       "</div>"
      ],
      "text/plain": [
       "   laptop_ID Company      Product   TypeName  Inches  \\\n",
       "0          1   Apple  MacBook Pro  Ultrabook    13.3   \n",
       "1          2   Apple  Macbook Air  Ultrabook    13.3   \n",
       "2          3      HP       250 G6   Notebook    15.6   \n",
       "3          4   Apple  MacBook Pro  Ultrabook    15.4   \n",
       "4          5   Apple  MacBook Pro  Ultrabook    13.3   \n",
       "\n",
       "                          Cpu                     Memory  \\\n",
       "0        Intel Core i5 2.3GHz            128GB SSD + NaN   \n",
       "1        Intel Core i5 1.8GHz  128GB Flash Storage + NaN   \n",
       "2  Intel Core i5 7200U 2.5GHz            256GB SSD + NaN   \n",
       "3        Intel Core i7 2.7GHz            512GB SSD + NaN   \n",
       "4        Intel Core i5 3.1GHz            256GB SSD + NaN   \n",
       "\n",
       "                            Gpu  OpSys  Price_euros  RAM_GB  GPU_Nvidia_GTX  \\\n",
       "0  Intel Iris Plus Graphics 640  macOS      1339.69     8.0               0   \n",
       "1        Intel HD Graphics 6000  macOS       898.94     8.0               0   \n",
       "2         Intel HD Graphics 620  No OS       575.00     8.0               0   \n",
       "3            AMD Radeon Pro 455  macOS      2537.45    16.0               0   \n",
       "4  Intel Iris Plus Graphics 650  macOS      1803.60     8.0               0   \n",
       "\n",
       "   Weight_kg     OS     ScrRes  ScrRes_C1 CPU_mnfc  CPU_speed  \\\n",
       "0       1.37  MacOS  2560x1600     2560.0    Intel        2.3   \n",
       "1       1.34  MacOS   1440x900     1440.0    Intel        1.8   \n",
       "2       1.86     NA  1920x1080     1920.0    Intel        2.5   \n",
       "3       1.83  MacOS  2880x1800     2880.0    Intel        2.7   \n",
       "4       1.37  MacOS  2560x1600     2560.0    Intel        3.1   \n",
       "\n",
       "              Storage1 Storage2  \n",
       "0            128GB SSD      NaN  \n",
       "1  128GB Flash Storage      NaN  \n",
       "2            256GB SSD      NaN  \n",
       "3            512GB SSD      NaN  \n",
       "4            256GB SSD      NaN  "
      ]
     },
     "execution_count": 54,
     "metadata": {},
     "output_type": "execute_result"
    },
    {
     "data": {
      "application/javascript": [
       "\n",
       "            setTimeout(function() {\n",
       "                var nbb_cell_id = 54;\n",
       "                var nbb_unformatted_code = \"df1[\\\"Storage1\\\"] = df1[\\\"Memory\\\"].str.split(\\\"+\\\").str[0].str.strip()\\ndf1[\\\"Storage2\\\"] = df1[\\\"Memory\\\"].str.split(\\\"+\\\").str[1].str.strip()\\ndf1.head()\";\n",
       "                var nbb_formatted_code = \"df1[\\\"Storage1\\\"] = df1[\\\"Memory\\\"].str.split(\\\"+\\\").str[0].str.strip()\\ndf1[\\\"Storage2\\\"] = df1[\\\"Memory\\\"].str.split(\\\"+\\\").str[1].str.strip()\\ndf1.head()\";\n",
       "                var nbb_cells = Jupyter.notebook.get_cells();\n",
       "                for (var i = 0; i < nbb_cells.length; ++i) {\n",
       "                    if (nbb_cells[i].input_prompt_number == nbb_cell_id) {\n",
       "                        if (nbb_cells[i].get_text() == nbb_unformatted_code) {\n",
       "                             nbb_cells[i].set_text(nbb_formatted_code);\n",
       "                        }\n",
       "                        break;\n",
       "                    }\n",
       "                }\n",
       "            }, 500);\n",
       "            "
      ],
      "text/plain": [
       "<IPython.core.display.Javascript object>"
      ]
     },
     "metadata": {},
     "output_type": "display_data"
    }
   ],
   "source": [
    "df1[\"Storage1\"] = df1[\"Memory\"].str.split(\"+\").str[0].str.strip()\n",
    "df1[\"Storage2\"] = df1[\"Memory\"].str.split(\"+\").str[1].str.strip()\n",
    "df1.head()"
   ]
  },
  {
   "cell_type": "code",
   "execution_count": 55,
   "metadata": {},
   "outputs": [
    {
     "data": {
      "text/html": [
       "<div>\n",
       "<style scoped>\n",
       "    .dataframe tbody tr th:only-of-type {\n",
       "        vertical-align: middle;\n",
       "    }\n",
       "\n",
       "    .dataframe tbody tr th {\n",
       "        vertical-align: top;\n",
       "    }\n",
       "\n",
       "    .dataframe thead th {\n",
       "        text-align: right;\n",
       "    }\n",
       "</style>\n",
       "<table border=\"1\" class=\"dataframe\">\n",
       "  <thead>\n",
       "    <tr style=\"text-align: right;\">\n",
       "      <th></th>\n",
       "      <th>laptop_ID</th>\n",
       "      <th>Company</th>\n",
       "      <th>Product</th>\n",
       "      <th>TypeName</th>\n",
       "      <th>Inches</th>\n",
       "      <th>Cpu</th>\n",
       "      <th>Memory</th>\n",
       "      <th>Gpu</th>\n",
       "      <th>OpSys</th>\n",
       "      <th>Price_euros</th>\n",
       "      <th>RAM_GB</th>\n",
       "      <th>GPU_Nvidia_GTX</th>\n",
       "      <th>Weight_kg</th>\n",
       "      <th>OS</th>\n",
       "      <th>ScrRes</th>\n",
       "      <th>ScrRes_C1</th>\n",
       "      <th>CPU_mnfc</th>\n",
       "      <th>CPU_speed</th>\n",
       "      <th>Storage1</th>\n",
       "      <th>Storage2</th>\n",
       "    </tr>\n",
       "  </thead>\n",
       "  <tbody>\n",
       "    <tr>\n",
       "      <th>248</th>\n",
       "      <td>253</td>\n",
       "      <td>HP</td>\n",
       "      <td>ProBook 430</td>\n",
       "      <td>Notebook</td>\n",
       "      <td>13.3</td>\n",
       "      <td>Intel Core i5 8250U 1.6GHz</td>\n",
       "      <td>500GB HDD + NaN</td>\n",
       "      <td>Intel UHD Graphics 620</td>\n",
       "      <td>Windows 10</td>\n",
       "      <td>675.0</td>\n",
       "      <td>4.0</td>\n",
       "      <td>0</td>\n",
       "      <td>1.49</td>\n",
       "      <td>Windows</td>\n",
       "      <td>1920x1080</td>\n",
       "      <td>1920.0</td>\n",
       "      <td>Intel</td>\n",
       "      <td>1.60</td>\n",
       "      <td>500GB HDD</td>\n",
       "      <td>NaN</td>\n",
       "    </tr>\n",
       "    <tr>\n",
       "      <th>556</th>\n",
       "      <td>563</td>\n",
       "      <td>Mediacom</td>\n",
       "      <td>SmartBook 130</td>\n",
       "      <td>Notebook</td>\n",
       "      <td>13.3</td>\n",
       "      <td>Intel Atom x5-Z8350 1.44GHz</td>\n",
       "      <td>32GB Flash Storage + NaN</td>\n",
       "      <td>Intel HD Graphics</td>\n",
       "      <td>Windows 10</td>\n",
       "      <td>255.0</td>\n",
       "      <td>4.0</td>\n",
       "      <td>0</td>\n",
       "      <td>1.35</td>\n",
       "      <td>Windows</td>\n",
       "      <td>1920x1080</td>\n",
       "      <td>1920.0</td>\n",
       "      <td>Intel</td>\n",
       "      <td>1.44</td>\n",
       "      <td>32GB Flash Storage</td>\n",
       "      <td>NaN</td>\n",
       "    </tr>\n",
       "    <tr>\n",
       "      <th>693</th>\n",
       "      <td>701</td>\n",
       "      <td>Lenovo</td>\n",
       "      <td>ThinkPad X1</td>\n",
       "      <td>2 in 1 Convertible</td>\n",
       "      <td>14.0</td>\n",
       "      <td>Intel Core i7 7500U 2.7GHz</td>\n",
       "      <td>256GB SSD + NaN</td>\n",
       "      <td>Intel HD Graphics 620</td>\n",
       "      <td>Windows 10</td>\n",
       "      <td>2590.0</td>\n",
       "      <td>8.0</td>\n",
       "      <td>0</td>\n",
       "      <td>1.42</td>\n",
       "      <td>Windows</td>\n",
       "      <td>2560x1440</td>\n",
       "      <td>2560.0</td>\n",
       "      <td>Intel</td>\n",
       "      <td>2.70</td>\n",
       "      <td>256GB SSD</td>\n",
       "      <td>NaN</td>\n",
       "    </tr>\n",
       "    <tr>\n",
       "      <th>387</th>\n",
       "      <td>393</td>\n",
       "      <td>Dell</td>\n",
       "      <td>Precision 3510</td>\n",
       "      <td>Workstation</td>\n",
       "      <td>15.6</td>\n",
       "      <td>Intel Core i5 6440HQ 2.6GHz</td>\n",
       "      <td>500GB HDD + NaN</td>\n",
       "      <td>AMD FirePro W5130M</td>\n",
       "      <td>Windows 10</td>\n",
       "      <td>1369.0</td>\n",
       "      <td>8.0</td>\n",
       "      <td>0</td>\n",
       "      <td>2.23</td>\n",
       "      <td>Windows</td>\n",
       "      <td>1920x1080</td>\n",
       "      <td>1920.0</td>\n",
       "      <td>Intel</td>\n",
       "      <td>2.60</td>\n",
       "      <td>500GB HDD</td>\n",
       "      <td>NaN</td>\n",
       "    </tr>\n",
       "    <tr>\n",
       "      <th>781</th>\n",
       "      <td>790</td>\n",
       "      <td>Asus</td>\n",
       "      <td>Rog G752VS-BA171T</td>\n",
       "      <td>Gaming</td>\n",
       "      <td>17.3</td>\n",
       "      <td>Intel Core i7 6700HQ 2.6GHz</td>\n",
       "      <td>256GB SSD +  1TB HDD</td>\n",
       "      <td>Nvidia GeForce GTX 1070</td>\n",
       "      <td>Windows 10</td>\n",
       "      <td>2350.0</td>\n",
       "      <td>16.0</td>\n",
       "      <td>1</td>\n",
       "      <td>4.30</td>\n",
       "      <td>Windows</td>\n",
       "      <td>1920x1080</td>\n",
       "      <td>1920.0</td>\n",
       "      <td>Intel</td>\n",
       "      <td>2.60</td>\n",
       "      <td>256GB SSD</td>\n",
       "      <td>1TB HDD</td>\n",
       "    </tr>\n",
       "    <tr>\n",
       "      <th>379</th>\n",
       "      <td>385</td>\n",
       "      <td>Acer</td>\n",
       "      <td>Aspire 7</td>\n",
       "      <td>Notebook</td>\n",
       "      <td>15.6</td>\n",
       "      <td>Intel Core i7 7700HQ 2.8GHz</td>\n",
       "      <td>1TB HDD + NaN</td>\n",
       "      <td>Nvidia GeForce GTX 1050</td>\n",
       "      <td>Linux</td>\n",
       "      <td>846.0</td>\n",
       "      <td>8.0</td>\n",
       "      <td>1</td>\n",
       "      <td>2.40</td>\n",
       "      <td>Linux</td>\n",
       "      <td>1920x1080</td>\n",
       "      <td>1920.0</td>\n",
       "      <td>Intel</td>\n",
       "      <td>2.80</td>\n",
       "      <td>1TB HDD</td>\n",
       "      <td>NaN</td>\n",
       "    </tr>\n",
       "    <tr>\n",
       "      <th>716</th>\n",
       "      <td>724</td>\n",
       "      <td>Dell</td>\n",
       "      <td>Latitude 5580</td>\n",
       "      <td>Notebook</td>\n",
       "      <td>15.6</td>\n",
       "      <td>Intel Core i5 7300U 2.6GHz</td>\n",
       "      <td>256GB SSD + NaN</td>\n",
       "      <td>Intel HD Graphics 620</td>\n",
       "      <td>Windows 10</td>\n",
       "      <td>1179.0</td>\n",
       "      <td>8.0</td>\n",
       "      <td>0</td>\n",
       "      <td>1.90</td>\n",
       "      <td>Windows</td>\n",
       "      <td>1920x1080</td>\n",
       "      <td>1920.0</td>\n",
       "      <td>Intel</td>\n",
       "      <td>2.60</td>\n",
       "      <td>256GB SSD</td>\n",
       "      <td>NaN</td>\n",
       "    </tr>\n",
       "    <tr>\n",
       "      <th>880</th>\n",
       "      <td>891</td>\n",
       "      <td>HP</td>\n",
       "      <td>EliteBook x360</td>\n",
       "      <td>2 in 1 Convertible</td>\n",
       "      <td>13.3</td>\n",
       "      <td>Intel Core i5 7200U 2.5GHz</td>\n",
       "      <td>256GB SSD + NaN</td>\n",
       "      <td>Intel HD Graphics 620</td>\n",
       "      <td>Windows 10</td>\n",
       "      <td>1700.0</td>\n",
       "      <td>4.0</td>\n",
       "      <td>0</td>\n",
       "      <td>1.28</td>\n",
       "      <td>Windows</td>\n",
       "      <td>1920x1080</td>\n",
       "      <td>1920.0</td>\n",
       "      <td>Intel</td>\n",
       "      <td>2.50</td>\n",
       "      <td>256GB SSD</td>\n",
       "      <td>NaN</td>\n",
       "    </tr>\n",
       "    <tr>\n",
       "      <th>654</th>\n",
       "      <td>662</td>\n",
       "      <td>HP</td>\n",
       "      <td>250 G6</td>\n",
       "      <td>Notebook</td>\n",
       "      <td>15.6</td>\n",
       "      <td>Intel Core i3 6006U 2GHz</td>\n",
       "      <td>500GB HDD + NaN</td>\n",
       "      <td>Intel HD Graphics 520</td>\n",
       "      <td>No OS</td>\n",
       "      <td>364.9</td>\n",
       "      <td>4.0</td>\n",
       "      <td>0</td>\n",
       "      <td>1.86</td>\n",
       "      <td>NA</td>\n",
       "      <td>1366x768</td>\n",
       "      <td>1366.0</td>\n",
       "      <td>Intel</td>\n",
       "      <td>2.00</td>\n",
       "      <td>500GB HDD</td>\n",
       "      <td>NaN</td>\n",
       "    </tr>\n",
       "    <tr>\n",
       "      <th>994</th>\n",
       "      <td>1008</td>\n",
       "      <td>Dell</td>\n",
       "      <td>Inspiron 5378</td>\n",
       "      <td>2 in 1 Convertible</td>\n",
       "      <td>13.3</td>\n",
       "      <td>Intel Core i5 7200U 2.5GHz</td>\n",
       "      <td>256GB SSD + NaN</td>\n",
       "      <td>Intel HD Graphics 620</td>\n",
       "      <td>Windows 10</td>\n",
       "      <td>889.0</td>\n",
       "      <td>8.0</td>\n",
       "      <td>0</td>\n",
       "      <td>1.68</td>\n",
       "      <td>Windows</td>\n",
       "      <td>1920x1080</td>\n",
       "      <td>1920.0</td>\n",
       "      <td>Intel</td>\n",
       "      <td>2.50</td>\n",
       "      <td>256GB SSD</td>\n",
       "      <td>NaN</td>\n",
       "    </tr>\n",
       "  </tbody>\n",
       "</table>\n",
       "</div>"
      ],
      "text/plain": [
       "     laptop_ID   Company            Product            TypeName  Inches  \\\n",
       "248        253        HP        ProBook 430            Notebook    13.3   \n",
       "556        563  Mediacom      SmartBook 130            Notebook    13.3   \n",
       "693        701    Lenovo        ThinkPad X1  2 in 1 Convertible    14.0   \n",
       "387        393      Dell     Precision 3510         Workstation    15.6   \n",
       "781        790      Asus  Rog G752VS-BA171T              Gaming    17.3   \n",
       "379        385      Acer           Aspire 7            Notebook    15.6   \n",
       "716        724      Dell      Latitude 5580            Notebook    15.6   \n",
       "880        891        HP     EliteBook x360  2 in 1 Convertible    13.3   \n",
       "654        662        HP             250 G6            Notebook    15.6   \n",
       "994       1008      Dell      Inspiron 5378  2 in 1 Convertible    13.3   \n",
       "\n",
       "                             Cpu                    Memory  \\\n",
       "248   Intel Core i5 8250U 1.6GHz           500GB HDD + NaN   \n",
       "556  Intel Atom x5-Z8350 1.44GHz  32GB Flash Storage + NaN   \n",
       "693   Intel Core i7 7500U 2.7GHz           256GB SSD + NaN   \n",
       "387  Intel Core i5 6440HQ 2.6GHz           500GB HDD + NaN   \n",
       "781  Intel Core i7 6700HQ 2.6GHz      256GB SSD +  1TB HDD   \n",
       "379  Intel Core i7 7700HQ 2.8GHz             1TB HDD + NaN   \n",
       "716   Intel Core i5 7300U 2.6GHz           256GB SSD + NaN   \n",
       "880   Intel Core i5 7200U 2.5GHz           256GB SSD + NaN   \n",
       "654     Intel Core i3 6006U 2GHz           500GB HDD + NaN   \n",
       "994   Intel Core i5 7200U 2.5GHz           256GB SSD + NaN   \n",
       "\n",
       "                         Gpu       OpSys  Price_euros  RAM_GB  GPU_Nvidia_GTX  \\\n",
       "248   Intel UHD Graphics 620  Windows 10        675.0     4.0               0   \n",
       "556        Intel HD Graphics  Windows 10        255.0     4.0               0   \n",
       "693    Intel HD Graphics 620  Windows 10       2590.0     8.0               0   \n",
       "387       AMD FirePro W5130M  Windows 10       1369.0     8.0               0   \n",
       "781  Nvidia GeForce GTX 1070  Windows 10       2350.0    16.0               1   \n",
       "379  Nvidia GeForce GTX 1050       Linux        846.0     8.0               1   \n",
       "716    Intel HD Graphics 620  Windows 10       1179.0     8.0               0   \n",
       "880    Intel HD Graphics 620  Windows 10       1700.0     4.0               0   \n",
       "654    Intel HD Graphics 520       No OS        364.9     4.0               0   \n",
       "994    Intel HD Graphics 620  Windows 10        889.0     8.0               0   \n",
       "\n",
       "     Weight_kg       OS     ScrRes  ScrRes_C1 CPU_mnfc  CPU_speed  \\\n",
       "248       1.49  Windows  1920x1080     1920.0    Intel       1.60   \n",
       "556       1.35  Windows  1920x1080     1920.0    Intel       1.44   \n",
       "693       1.42  Windows  2560x1440     2560.0    Intel       2.70   \n",
       "387       2.23  Windows  1920x1080     1920.0    Intel       2.60   \n",
       "781       4.30  Windows  1920x1080     1920.0    Intel       2.60   \n",
       "379       2.40    Linux  1920x1080     1920.0    Intel       2.80   \n",
       "716       1.90  Windows  1920x1080     1920.0    Intel       2.60   \n",
       "880       1.28  Windows  1920x1080     1920.0    Intel       2.50   \n",
       "654       1.86       NA   1366x768     1366.0    Intel       2.00   \n",
       "994       1.68  Windows  1920x1080     1920.0    Intel       2.50   \n",
       "\n",
       "               Storage1 Storage2  \n",
       "248           500GB HDD      NaN  \n",
       "556  32GB Flash Storage      NaN  \n",
       "693           256GB SSD      NaN  \n",
       "387           500GB HDD      NaN  \n",
       "781           256GB SSD  1TB HDD  \n",
       "379             1TB HDD      NaN  \n",
       "716           256GB SSD      NaN  \n",
       "880           256GB SSD      NaN  \n",
       "654           500GB HDD      NaN  \n",
       "994           256GB SSD      NaN  "
      ]
     },
     "execution_count": 55,
     "metadata": {},
     "output_type": "execute_result"
    },
    {
     "data": {
      "application/javascript": [
       "\n",
       "            setTimeout(function() {\n",
       "                var nbb_cell_id = 55;\n",
       "                var nbb_unformatted_code = \"np.random.seed(2)\\ndf1.sample(10)\";\n",
       "                var nbb_formatted_code = \"np.random.seed(2)\\ndf1.sample(10)\";\n",
       "                var nbb_cells = Jupyter.notebook.get_cells();\n",
       "                for (var i = 0; i < nbb_cells.length; ++i) {\n",
       "                    if (nbb_cells[i].input_prompt_number == nbb_cell_id) {\n",
       "                        if (nbb_cells[i].get_text() == nbb_unformatted_code) {\n",
       "                             nbb_cells[i].set_text(nbb_formatted_code);\n",
       "                        }\n",
       "                        break;\n",
       "                    }\n",
       "                }\n",
       "            }, 500);\n",
       "            "
      ],
      "text/plain": [
       "<IPython.core.display.Javascript object>"
      ]
     },
     "metadata": {},
     "output_type": "display_data"
    }
   ],
   "source": [
    "np.random.seed(2)\n",
    "df1.sample(10)"
   ]
  },
  {
   "cell_type": "code",
   "execution_count": 56,
   "metadata": {},
   "outputs": [
    {
     "data": {
      "text/html": [
       "<div>\n",
       "<style scoped>\n",
       "    .dataframe tbody tr th:only-of-type {\n",
       "        vertical-align: middle;\n",
       "    }\n",
       "\n",
       "    .dataframe tbody tr th {\n",
       "        vertical-align: top;\n",
       "    }\n",
       "\n",
       "    .dataframe thead th {\n",
       "        text-align: right;\n",
       "    }\n",
       "</style>\n",
       "<table border=\"1\" class=\"dataframe\">\n",
       "  <thead>\n",
       "    <tr style=\"text-align: right;\">\n",
       "      <th></th>\n",
       "      <th>laptop_ID</th>\n",
       "      <th>Company</th>\n",
       "      <th>Product</th>\n",
       "      <th>TypeName</th>\n",
       "      <th>Inches</th>\n",
       "      <th>Cpu</th>\n",
       "      <th>Memory</th>\n",
       "      <th>Gpu</th>\n",
       "      <th>OpSys</th>\n",
       "      <th>Price_euros</th>\n",
       "      <th>RAM_GB</th>\n",
       "      <th>GPU_Nvidia_GTX</th>\n",
       "      <th>Weight_kg</th>\n",
       "      <th>OS</th>\n",
       "      <th>ScrRes</th>\n",
       "      <th>ScrRes_C1</th>\n",
       "      <th>CPU_mnfc</th>\n",
       "      <th>CPU_speed</th>\n",
       "      <th>Storage1</th>\n",
       "      <th>Storage2</th>\n",
       "      <th>Storage1_Type</th>\n",
       "      <th>Storage1_Volume</th>\n",
       "      <th>Storage2_Type</th>\n",
       "      <th>Storage2_Volume</th>\n",
       "    </tr>\n",
       "  </thead>\n",
       "  <tbody>\n",
       "    <tr>\n",
       "      <th>0</th>\n",
       "      <td>1</td>\n",
       "      <td>Apple</td>\n",
       "      <td>MacBook Pro</td>\n",
       "      <td>Ultrabook</td>\n",
       "      <td>13.3</td>\n",
       "      <td>Intel Core i5 2.3GHz</td>\n",
       "      <td>128GB SSD + NaN</td>\n",
       "      <td>Intel Iris Plus Graphics 640</td>\n",
       "      <td>macOS</td>\n",
       "      <td>1339.69</td>\n",
       "      <td>8.0</td>\n",
       "      <td>0</td>\n",
       "      <td>1.37</td>\n",
       "      <td>MacOS</td>\n",
       "      <td>2560x1600</td>\n",
       "      <td>2560.0</td>\n",
       "      <td>Intel</td>\n",
       "      <td>2.3</td>\n",
       "      <td>128GB SSD</td>\n",
       "      <td>NaN</td>\n",
       "      <td>SSD</td>\n",
       "      <td>128GB</td>\n",
       "      <td>NaN</td>\n",
       "      <td>NaN</td>\n",
       "    </tr>\n",
       "    <tr>\n",
       "      <th>1</th>\n",
       "      <td>2</td>\n",
       "      <td>Apple</td>\n",
       "      <td>Macbook Air</td>\n",
       "      <td>Ultrabook</td>\n",
       "      <td>13.3</td>\n",
       "      <td>Intel Core i5 1.8GHz</td>\n",
       "      <td>128GB Flash Storage + NaN</td>\n",
       "      <td>Intel HD Graphics 6000</td>\n",
       "      <td>macOS</td>\n",
       "      <td>898.94</td>\n",
       "      <td>8.0</td>\n",
       "      <td>0</td>\n",
       "      <td>1.34</td>\n",
       "      <td>MacOS</td>\n",
       "      <td>1440x900</td>\n",
       "      <td>1440.0</td>\n",
       "      <td>Intel</td>\n",
       "      <td>1.8</td>\n",
       "      <td>128GB Flash Storage</td>\n",
       "      <td>NaN</td>\n",
       "      <td>Flash</td>\n",
       "      <td>128GB</td>\n",
       "      <td>NaN</td>\n",
       "      <td>NaN</td>\n",
       "    </tr>\n",
       "    <tr>\n",
       "      <th>2</th>\n",
       "      <td>3</td>\n",
       "      <td>HP</td>\n",
       "      <td>250 G6</td>\n",
       "      <td>Notebook</td>\n",
       "      <td>15.6</td>\n",
       "      <td>Intel Core i5 7200U 2.5GHz</td>\n",
       "      <td>256GB SSD + NaN</td>\n",
       "      <td>Intel HD Graphics 620</td>\n",
       "      <td>No OS</td>\n",
       "      <td>575.00</td>\n",
       "      <td>8.0</td>\n",
       "      <td>0</td>\n",
       "      <td>1.86</td>\n",
       "      <td>NA</td>\n",
       "      <td>1920x1080</td>\n",
       "      <td>1920.0</td>\n",
       "      <td>Intel</td>\n",
       "      <td>2.5</td>\n",
       "      <td>256GB SSD</td>\n",
       "      <td>NaN</td>\n",
       "      <td>SSD</td>\n",
       "      <td>256GB</td>\n",
       "      <td>NaN</td>\n",
       "      <td>NaN</td>\n",
       "    </tr>\n",
       "    <tr>\n",
       "      <th>3</th>\n",
       "      <td>4</td>\n",
       "      <td>Apple</td>\n",
       "      <td>MacBook Pro</td>\n",
       "      <td>Ultrabook</td>\n",
       "      <td>15.4</td>\n",
       "      <td>Intel Core i7 2.7GHz</td>\n",
       "      <td>512GB SSD + NaN</td>\n",
       "      <td>AMD Radeon Pro 455</td>\n",
       "      <td>macOS</td>\n",
       "      <td>2537.45</td>\n",
       "      <td>16.0</td>\n",
       "      <td>0</td>\n",
       "      <td>1.83</td>\n",
       "      <td>MacOS</td>\n",
       "      <td>2880x1800</td>\n",
       "      <td>2880.0</td>\n",
       "      <td>Intel</td>\n",
       "      <td>2.7</td>\n",
       "      <td>512GB SSD</td>\n",
       "      <td>NaN</td>\n",
       "      <td>SSD</td>\n",
       "      <td>512GB</td>\n",
       "      <td>NaN</td>\n",
       "      <td>NaN</td>\n",
       "    </tr>\n",
       "    <tr>\n",
       "      <th>4</th>\n",
       "      <td>5</td>\n",
       "      <td>Apple</td>\n",
       "      <td>MacBook Pro</td>\n",
       "      <td>Ultrabook</td>\n",
       "      <td>13.3</td>\n",
       "      <td>Intel Core i5 3.1GHz</td>\n",
       "      <td>256GB SSD + NaN</td>\n",
       "      <td>Intel Iris Plus Graphics 650</td>\n",
       "      <td>macOS</td>\n",
       "      <td>1803.60</td>\n",
       "      <td>8.0</td>\n",
       "      <td>0</td>\n",
       "      <td>1.37</td>\n",
       "      <td>MacOS</td>\n",
       "      <td>2560x1600</td>\n",
       "      <td>2560.0</td>\n",
       "      <td>Intel</td>\n",
       "      <td>3.1</td>\n",
       "      <td>256GB SSD</td>\n",
       "      <td>NaN</td>\n",
       "      <td>SSD</td>\n",
       "      <td>256GB</td>\n",
       "      <td>NaN</td>\n",
       "      <td>NaN</td>\n",
       "    </tr>\n",
       "  </tbody>\n",
       "</table>\n",
       "</div>"
      ],
      "text/plain": [
       "   laptop_ID Company      Product   TypeName  Inches  \\\n",
       "0          1   Apple  MacBook Pro  Ultrabook    13.3   \n",
       "1          2   Apple  Macbook Air  Ultrabook    13.3   \n",
       "2          3      HP       250 G6   Notebook    15.6   \n",
       "3          4   Apple  MacBook Pro  Ultrabook    15.4   \n",
       "4          5   Apple  MacBook Pro  Ultrabook    13.3   \n",
       "\n",
       "                          Cpu                     Memory  \\\n",
       "0        Intel Core i5 2.3GHz            128GB SSD + NaN   \n",
       "1        Intel Core i5 1.8GHz  128GB Flash Storage + NaN   \n",
       "2  Intel Core i5 7200U 2.5GHz            256GB SSD + NaN   \n",
       "3        Intel Core i7 2.7GHz            512GB SSD + NaN   \n",
       "4        Intel Core i5 3.1GHz            256GB SSD + NaN   \n",
       "\n",
       "                            Gpu  OpSys  Price_euros  RAM_GB  GPU_Nvidia_GTX  \\\n",
       "0  Intel Iris Plus Graphics 640  macOS      1339.69     8.0               0   \n",
       "1        Intel HD Graphics 6000  macOS       898.94     8.0               0   \n",
       "2         Intel HD Graphics 620  No OS       575.00     8.0               0   \n",
       "3            AMD Radeon Pro 455  macOS      2537.45    16.0               0   \n",
       "4  Intel Iris Plus Graphics 650  macOS      1803.60     8.0               0   \n",
       "\n",
       "   Weight_kg     OS     ScrRes  ScrRes_C1 CPU_mnfc  CPU_speed  \\\n",
       "0       1.37  MacOS  2560x1600     2560.0    Intel        2.3   \n",
       "1       1.34  MacOS   1440x900     1440.0    Intel        1.8   \n",
       "2       1.86     NA  1920x1080     1920.0    Intel        2.5   \n",
       "3       1.83  MacOS  2880x1800     2880.0    Intel        2.7   \n",
       "4       1.37  MacOS  2560x1600     2560.0    Intel        3.1   \n",
       "\n",
       "              Storage1 Storage2 Storage1_Type Storage1_Volume Storage2_Type  \\\n",
       "0            128GB SSD      NaN           SSD           128GB           NaN   \n",
       "1  128GB Flash Storage      NaN         Flash           128GB           NaN   \n",
       "2            256GB SSD      NaN           SSD           256GB           NaN   \n",
       "3            512GB SSD      NaN           SSD           512GB           NaN   \n",
       "4            256GB SSD      NaN           SSD           256GB           NaN   \n",
       "\n",
       "  Storage2_Volume  \n",
       "0             NaN  \n",
       "1             NaN  \n",
       "2             NaN  \n",
       "3             NaN  \n",
       "4             NaN  "
      ]
     },
     "execution_count": 56,
     "metadata": {},
     "output_type": "execute_result"
    },
    {
     "data": {
      "application/javascript": [
       "\n",
       "            setTimeout(function() {\n",
       "                var nbb_cell_id = 56;\n",
       "                var nbb_unformatted_code = \"df1[\\\"Storage1_Type\\\"] = df1[\\\"Storage1\\\"].str.split(\\\" \\\").str[1]\\ndf1[\\\"Storage1_Volume\\\"] = df1[\\\"Storage1\\\"].str.split(\\\" \\\").str[0]\\n\\ndf1[\\\"Storage2_Type\\\"] = df1[\\\"Storage2\\\"].str.split(\\\" \\\").str[1]\\ndf1[\\\"Storage2_Volume\\\"] = df1[\\\"Storage2\\\"].str.split(\\\" \\\").str[0]\\n\\ndf1.head()\";\n",
       "                var nbb_formatted_code = \"df1[\\\"Storage1_Type\\\"] = df1[\\\"Storage1\\\"].str.split(\\\" \\\").str[1]\\ndf1[\\\"Storage1_Volume\\\"] = df1[\\\"Storage1\\\"].str.split(\\\" \\\").str[0]\\n\\ndf1[\\\"Storage2_Type\\\"] = df1[\\\"Storage2\\\"].str.split(\\\" \\\").str[1]\\ndf1[\\\"Storage2_Volume\\\"] = df1[\\\"Storage2\\\"].str.split(\\\" \\\").str[0]\\n\\ndf1.head()\";\n",
       "                var nbb_cells = Jupyter.notebook.get_cells();\n",
       "                for (var i = 0; i < nbb_cells.length; ++i) {\n",
       "                    if (nbb_cells[i].input_prompt_number == nbb_cell_id) {\n",
       "                        if (nbb_cells[i].get_text() == nbb_unformatted_code) {\n",
       "                             nbb_cells[i].set_text(nbb_formatted_code);\n",
       "                        }\n",
       "                        break;\n",
       "                    }\n",
       "                }\n",
       "            }, 500);\n",
       "            "
      ],
      "text/plain": [
       "<IPython.core.display.Javascript object>"
      ]
     },
     "metadata": {},
     "output_type": "display_data"
    }
   ],
   "source": [
    "df1[\"Storage1_Type\"] = df1[\"Storage1\"].str.split(\" \").str[1]\n",
    "df1[\"Storage1_Volume\"] = df1[\"Storage1\"].str.split(\" \").str[0]\n",
    "\n",
    "df1[\"Storage2_Type\"] = df1[\"Storage2\"].str.split(\" \").str[1]\n",
    "df1[\"Storage2_Volume\"] = df1[\"Storage2\"].str.split(\" \").str[0]\n",
    "\n",
    "df1.head()"
   ]
  },
  {
   "cell_type": "code",
   "execution_count": 57,
   "metadata": {},
   "outputs": [
    {
     "data": {
      "text/html": [
       "<div>\n",
       "<style scoped>\n",
       "    .dataframe tbody tr th:only-of-type {\n",
       "        vertical-align: middle;\n",
       "    }\n",
       "\n",
       "    .dataframe tbody tr th {\n",
       "        vertical-align: top;\n",
       "    }\n",
       "\n",
       "    .dataframe thead th {\n",
       "        text-align: right;\n",
       "    }\n",
       "</style>\n",
       "<table border=\"1\" class=\"dataframe\">\n",
       "  <thead>\n",
       "    <tr style=\"text-align: right;\">\n",
       "      <th></th>\n",
       "      <th>laptop_ID</th>\n",
       "      <th>Company</th>\n",
       "      <th>Product</th>\n",
       "      <th>TypeName</th>\n",
       "      <th>Inches</th>\n",
       "      <th>Cpu</th>\n",
       "      <th>Memory</th>\n",
       "      <th>Gpu</th>\n",
       "      <th>OpSys</th>\n",
       "      <th>Price_euros</th>\n",
       "      <th>RAM_GB</th>\n",
       "      <th>GPU_Nvidia_GTX</th>\n",
       "      <th>Weight_kg</th>\n",
       "      <th>OS</th>\n",
       "      <th>ScrRes</th>\n",
       "      <th>ScrRes_C1</th>\n",
       "      <th>CPU_mnfc</th>\n",
       "      <th>CPU_speed</th>\n",
       "      <th>Storage1</th>\n",
       "      <th>Storage2</th>\n",
       "      <th>Storage1_Type</th>\n",
       "      <th>Storage1_Volume</th>\n",
       "      <th>Storage2_Type</th>\n",
       "      <th>Storage2_Volume</th>\n",
       "    </tr>\n",
       "  </thead>\n",
       "  <tbody>\n",
       "    <tr>\n",
       "      <th>248</th>\n",
       "      <td>253</td>\n",
       "      <td>HP</td>\n",
       "      <td>ProBook 430</td>\n",
       "      <td>Notebook</td>\n",
       "      <td>13.3</td>\n",
       "      <td>Intel Core i5 8250U 1.6GHz</td>\n",
       "      <td>500GB HDD + NaN</td>\n",
       "      <td>Intel UHD Graphics 620</td>\n",
       "      <td>Windows 10</td>\n",
       "      <td>675.0</td>\n",
       "      <td>4.0</td>\n",
       "      <td>0</td>\n",
       "      <td>1.49</td>\n",
       "      <td>Windows</td>\n",
       "      <td>1920x1080</td>\n",
       "      <td>1920.0</td>\n",
       "      <td>Intel</td>\n",
       "      <td>1.60</td>\n",
       "      <td>500GB HDD</td>\n",
       "      <td>NaN</td>\n",
       "      <td>HDD</td>\n",
       "      <td>500GB</td>\n",
       "      <td>NaN</td>\n",
       "      <td>NaN</td>\n",
       "    </tr>\n",
       "    <tr>\n",
       "      <th>556</th>\n",
       "      <td>563</td>\n",
       "      <td>Mediacom</td>\n",
       "      <td>SmartBook 130</td>\n",
       "      <td>Notebook</td>\n",
       "      <td>13.3</td>\n",
       "      <td>Intel Atom x5-Z8350 1.44GHz</td>\n",
       "      <td>32GB Flash Storage + NaN</td>\n",
       "      <td>Intel HD Graphics</td>\n",
       "      <td>Windows 10</td>\n",
       "      <td>255.0</td>\n",
       "      <td>4.0</td>\n",
       "      <td>0</td>\n",
       "      <td>1.35</td>\n",
       "      <td>Windows</td>\n",
       "      <td>1920x1080</td>\n",
       "      <td>1920.0</td>\n",
       "      <td>Intel</td>\n",
       "      <td>1.44</td>\n",
       "      <td>32GB Flash Storage</td>\n",
       "      <td>NaN</td>\n",
       "      <td>Flash</td>\n",
       "      <td>32GB</td>\n",
       "      <td>NaN</td>\n",
       "      <td>NaN</td>\n",
       "    </tr>\n",
       "    <tr>\n",
       "      <th>693</th>\n",
       "      <td>701</td>\n",
       "      <td>Lenovo</td>\n",
       "      <td>ThinkPad X1</td>\n",
       "      <td>2 in 1 Convertible</td>\n",
       "      <td>14.0</td>\n",
       "      <td>Intel Core i7 7500U 2.7GHz</td>\n",
       "      <td>256GB SSD + NaN</td>\n",
       "      <td>Intel HD Graphics 620</td>\n",
       "      <td>Windows 10</td>\n",
       "      <td>2590.0</td>\n",
       "      <td>8.0</td>\n",
       "      <td>0</td>\n",
       "      <td>1.42</td>\n",
       "      <td>Windows</td>\n",
       "      <td>2560x1440</td>\n",
       "      <td>2560.0</td>\n",
       "      <td>Intel</td>\n",
       "      <td>2.70</td>\n",
       "      <td>256GB SSD</td>\n",
       "      <td>NaN</td>\n",
       "      <td>SSD</td>\n",
       "      <td>256GB</td>\n",
       "      <td>NaN</td>\n",
       "      <td>NaN</td>\n",
       "    </tr>\n",
       "    <tr>\n",
       "      <th>387</th>\n",
       "      <td>393</td>\n",
       "      <td>Dell</td>\n",
       "      <td>Precision 3510</td>\n",
       "      <td>Workstation</td>\n",
       "      <td>15.6</td>\n",
       "      <td>Intel Core i5 6440HQ 2.6GHz</td>\n",
       "      <td>500GB HDD + NaN</td>\n",
       "      <td>AMD FirePro W5130M</td>\n",
       "      <td>Windows 10</td>\n",
       "      <td>1369.0</td>\n",
       "      <td>8.0</td>\n",
       "      <td>0</td>\n",
       "      <td>2.23</td>\n",
       "      <td>Windows</td>\n",
       "      <td>1920x1080</td>\n",
       "      <td>1920.0</td>\n",
       "      <td>Intel</td>\n",
       "      <td>2.60</td>\n",
       "      <td>500GB HDD</td>\n",
       "      <td>NaN</td>\n",
       "      <td>HDD</td>\n",
       "      <td>500GB</td>\n",
       "      <td>NaN</td>\n",
       "      <td>NaN</td>\n",
       "    </tr>\n",
       "    <tr>\n",
       "      <th>781</th>\n",
       "      <td>790</td>\n",
       "      <td>Asus</td>\n",
       "      <td>Rog G752VS-BA171T</td>\n",
       "      <td>Gaming</td>\n",
       "      <td>17.3</td>\n",
       "      <td>Intel Core i7 6700HQ 2.6GHz</td>\n",
       "      <td>256GB SSD +  1TB HDD</td>\n",
       "      <td>Nvidia GeForce GTX 1070</td>\n",
       "      <td>Windows 10</td>\n",
       "      <td>2350.0</td>\n",
       "      <td>16.0</td>\n",
       "      <td>1</td>\n",
       "      <td>4.30</td>\n",
       "      <td>Windows</td>\n",
       "      <td>1920x1080</td>\n",
       "      <td>1920.0</td>\n",
       "      <td>Intel</td>\n",
       "      <td>2.60</td>\n",
       "      <td>256GB SSD</td>\n",
       "      <td>1TB HDD</td>\n",
       "      <td>SSD</td>\n",
       "      <td>256GB</td>\n",
       "      <td>HDD</td>\n",
       "      <td>1TB</td>\n",
       "    </tr>\n",
       "    <tr>\n",
       "      <th>379</th>\n",
       "      <td>385</td>\n",
       "      <td>Acer</td>\n",
       "      <td>Aspire 7</td>\n",
       "      <td>Notebook</td>\n",
       "      <td>15.6</td>\n",
       "      <td>Intel Core i7 7700HQ 2.8GHz</td>\n",
       "      <td>1TB HDD + NaN</td>\n",
       "      <td>Nvidia GeForce GTX 1050</td>\n",
       "      <td>Linux</td>\n",
       "      <td>846.0</td>\n",
       "      <td>8.0</td>\n",
       "      <td>1</td>\n",
       "      <td>2.40</td>\n",
       "      <td>Linux</td>\n",
       "      <td>1920x1080</td>\n",
       "      <td>1920.0</td>\n",
       "      <td>Intel</td>\n",
       "      <td>2.80</td>\n",
       "      <td>1TB HDD</td>\n",
       "      <td>NaN</td>\n",
       "      <td>HDD</td>\n",
       "      <td>1TB</td>\n",
       "      <td>NaN</td>\n",
       "      <td>NaN</td>\n",
       "    </tr>\n",
       "    <tr>\n",
       "      <th>716</th>\n",
       "      <td>724</td>\n",
       "      <td>Dell</td>\n",
       "      <td>Latitude 5580</td>\n",
       "      <td>Notebook</td>\n",
       "      <td>15.6</td>\n",
       "      <td>Intel Core i5 7300U 2.6GHz</td>\n",
       "      <td>256GB SSD + NaN</td>\n",
       "      <td>Intel HD Graphics 620</td>\n",
       "      <td>Windows 10</td>\n",
       "      <td>1179.0</td>\n",
       "      <td>8.0</td>\n",
       "      <td>0</td>\n",
       "      <td>1.90</td>\n",
       "      <td>Windows</td>\n",
       "      <td>1920x1080</td>\n",
       "      <td>1920.0</td>\n",
       "      <td>Intel</td>\n",
       "      <td>2.60</td>\n",
       "      <td>256GB SSD</td>\n",
       "      <td>NaN</td>\n",
       "      <td>SSD</td>\n",
       "      <td>256GB</td>\n",
       "      <td>NaN</td>\n",
       "      <td>NaN</td>\n",
       "    </tr>\n",
       "    <tr>\n",
       "      <th>880</th>\n",
       "      <td>891</td>\n",
       "      <td>HP</td>\n",
       "      <td>EliteBook x360</td>\n",
       "      <td>2 in 1 Convertible</td>\n",
       "      <td>13.3</td>\n",
       "      <td>Intel Core i5 7200U 2.5GHz</td>\n",
       "      <td>256GB SSD + NaN</td>\n",
       "      <td>Intel HD Graphics 620</td>\n",
       "      <td>Windows 10</td>\n",
       "      <td>1700.0</td>\n",
       "      <td>4.0</td>\n",
       "      <td>0</td>\n",
       "      <td>1.28</td>\n",
       "      <td>Windows</td>\n",
       "      <td>1920x1080</td>\n",
       "      <td>1920.0</td>\n",
       "      <td>Intel</td>\n",
       "      <td>2.50</td>\n",
       "      <td>256GB SSD</td>\n",
       "      <td>NaN</td>\n",
       "      <td>SSD</td>\n",
       "      <td>256GB</td>\n",
       "      <td>NaN</td>\n",
       "      <td>NaN</td>\n",
       "    </tr>\n",
       "    <tr>\n",
       "      <th>654</th>\n",
       "      <td>662</td>\n",
       "      <td>HP</td>\n",
       "      <td>250 G6</td>\n",
       "      <td>Notebook</td>\n",
       "      <td>15.6</td>\n",
       "      <td>Intel Core i3 6006U 2GHz</td>\n",
       "      <td>500GB HDD + NaN</td>\n",
       "      <td>Intel HD Graphics 520</td>\n",
       "      <td>No OS</td>\n",
       "      <td>364.9</td>\n",
       "      <td>4.0</td>\n",
       "      <td>0</td>\n",
       "      <td>1.86</td>\n",
       "      <td>NA</td>\n",
       "      <td>1366x768</td>\n",
       "      <td>1366.0</td>\n",
       "      <td>Intel</td>\n",
       "      <td>2.00</td>\n",
       "      <td>500GB HDD</td>\n",
       "      <td>NaN</td>\n",
       "      <td>HDD</td>\n",
       "      <td>500GB</td>\n",
       "      <td>NaN</td>\n",
       "      <td>NaN</td>\n",
       "    </tr>\n",
       "    <tr>\n",
       "      <th>994</th>\n",
       "      <td>1008</td>\n",
       "      <td>Dell</td>\n",
       "      <td>Inspiron 5378</td>\n",
       "      <td>2 in 1 Convertible</td>\n",
       "      <td>13.3</td>\n",
       "      <td>Intel Core i5 7200U 2.5GHz</td>\n",
       "      <td>256GB SSD + NaN</td>\n",
       "      <td>Intel HD Graphics 620</td>\n",
       "      <td>Windows 10</td>\n",
       "      <td>889.0</td>\n",
       "      <td>8.0</td>\n",
       "      <td>0</td>\n",
       "      <td>1.68</td>\n",
       "      <td>Windows</td>\n",
       "      <td>1920x1080</td>\n",
       "      <td>1920.0</td>\n",
       "      <td>Intel</td>\n",
       "      <td>2.50</td>\n",
       "      <td>256GB SSD</td>\n",
       "      <td>NaN</td>\n",
       "      <td>SSD</td>\n",
       "      <td>256GB</td>\n",
       "      <td>NaN</td>\n",
       "      <td>NaN</td>\n",
       "    </tr>\n",
       "  </tbody>\n",
       "</table>\n",
       "</div>"
      ],
      "text/plain": [
       "     laptop_ID   Company            Product            TypeName  Inches  \\\n",
       "248        253        HP        ProBook 430            Notebook    13.3   \n",
       "556        563  Mediacom      SmartBook 130            Notebook    13.3   \n",
       "693        701    Lenovo        ThinkPad X1  2 in 1 Convertible    14.0   \n",
       "387        393      Dell     Precision 3510         Workstation    15.6   \n",
       "781        790      Asus  Rog G752VS-BA171T              Gaming    17.3   \n",
       "379        385      Acer           Aspire 7            Notebook    15.6   \n",
       "716        724      Dell      Latitude 5580            Notebook    15.6   \n",
       "880        891        HP     EliteBook x360  2 in 1 Convertible    13.3   \n",
       "654        662        HP             250 G6            Notebook    15.6   \n",
       "994       1008      Dell      Inspiron 5378  2 in 1 Convertible    13.3   \n",
       "\n",
       "                             Cpu                    Memory  \\\n",
       "248   Intel Core i5 8250U 1.6GHz           500GB HDD + NaN   \n",
       "556  Intel Atom x5-Z8350 1.44GHz  32GB Flash Storage + NaN   \n",
       "693   Intel Core i7 7500U 2.7GHz           256GB SSD + NaN   \n",
       "387  Intel Core i5 6440HQ 2.6GHz           500GB HDD + NaN   \n",
       "781  Intel Core i7 6700HQ 2.6GHz      256GB SSD +  1TB HDD   \n",
       "379  Intel Core i7 7700HQ 2.8GHz             1TB HDD + NaN   \n",
       "716   Intel Core i5 7300U 2.6GHz           256GB SSD + NaN   \n",
       "880   Intel Core i5 7200U 2.5GHz           256GB SSD + NaN   \n",
       "654     Intel Core i3 6006U 2GHz           500GB HDD + NaN   \n",
       "994   Intel Core i5 7200U 2.5GHz           256GB SSD + NaN   \n",
       "\n",
       "                         Gpu       OpSys  Price_euros  RAM_GB  GPU_Nvidia_GTX  \\\n",
       "248   Intel UHD Graphics 620  Windows 10        675.0     4.0               0   \n",
       "556        Intel HD Graphics  Windows 10        255.0     4.0               0   \n",
       "693    Intel HD Graphics 620  Windows 10       2590.0     8.0               0   \n",
       "387       AMD FirePro W5130M  Windows 10       1369.0     8.0               0   \n",
       "781  Nvidia GeForce GTX 1070  Windows 10       2350.0    16.0               1   \n",
       "379  Nvidia GeForce GTX 1050       Linux        846.0     8.0               1   \n",
       "716    Intel HD Graphics 620  Windows 10       1179.0     8.0               0   \n",
       "880    Intel HD Graphics 620  Windows 10       1700.0     4.0               0   \n",
       "654    Intel HD Graphics 520       No OS        364.9     4.0               0   \n",
       "994    Intel HD Graphics 620  Windows 10        889.0     8.0               0   \n",
       "\n",
       "     Weight_kg       OS     ScrRes  ScrRes_C1 CPU_mnfc  CPU_speed  \\\n",
       "248       1.49  Windows  1920x1080     1920.0    Intel       1.60   \n",
       "556       1.35  Windows  1920x1080     1920.0    Intel       1.44   \n",
       "693       1.42  Windows  2560x1440     2560.0    Intel       2.70   \n",
       "387       2.23  Windows  1920x1080     1920.0    Intel       2.60   \n",
       "781       4.30  Windows  1920x1080     1920.0    Intel       2.60   \n",
       "379       2.40    Linux  1920x1080     1920.0    Intel       2.80   \n",
       "716       1.90  Windows  1920x1080     1920.0    Intel       2.60   \n",
       "880       1.28  Windows  1920x1080     1920.0    Intel       2.50   \n",
       "654       1.86       NA   1366x768     1366.0    Intel       2.00   \n",
       "994       1.68  Windows  1920x1080     1920.0    Intel       2.50   \n",
       "\n",
       "               Storage1 Storage2 Storage1_Type Storage1_Volume Storage2_Type  \\\n",
       "248           500GB HDD      NaN           HDD           500GB           NaN   \n",
       "556  32GB Flash Storage      NaN         Flash            32GB           NaN   \n",
       "693           256GB SSD      NaN           SSD           256GB           NaN   \n",
       "387           500GB HDD      NaN           HDD           500GB           NaN   \n",
       "781           256GB SSD  1TB HDD           SSD           256GB           HDD   \n",
       "379             1TB HDD      NaN           HDD             1TB           NaN   \n",
       "716           256GB SSD      NaN           SSD           256GB           NaN   \n",
       "880           256GB SSD      NaN           SSD           256GB           NaN   \n",
       "654           500GB HDD      NaN           HDD           500GB           NaN   \n",
       "994           256GB SSD      NaN           SSD           256GB           NaN   \n",
       "\n",
       "    Storage2_Volume  \n",
       "248             NaN  \n",
       "556             NaN  \n",
       "693             NaN  \n",
       "387             NaN  \n",
       "781             1TB  \n",
       "379             NaN  \n",
       "716             NaN  \n",
       "880             NaN  \n",
       "654             NaN  \n",
       "994             NaN  "
      ]
     },
     "execution_count": 57,
     "metadata": {},
     "output_type": "execute_result"
    },
    {
     "data": {
      "application/javascript": [
       "\n",
       "            setTimeout(function() {\n",
       "                var nbb_cell_id = 57;\n",
       "                var nbb_unformatted_code = \"np.random.seed(2)\\ndf1.sample(10)\";\n",
       "                var nbb_formatted_code = \"np.random.seed(2)\\ndf1.sample(10)\";\n",
       "                var nbb_cells = Jupyter.notebook.get_cells();\n",
       "                for (var i = 0; i < nbb_cells.length; ++i) {\n",
       "                    if (nbb_cells[i].input_prompt_number == nbb_cell_id) {\n",
       "                        if (nbb_cells[i].get_text() == nbb_unformatted_code) {\n",
       "                             nbb_cells[i].set_text(nbb_formatted_code);\n",
       "                        }\n",
       "                        break;\n",
       "                    }\n",
       "                }\n",
       "            }, 500);\n",
       "            "
      ],
      "text/plain": [
       "<IPython.core.display.Javascript object>"
      ]
     },
     "metadata": {},
     "output_type": "display_data"
    }
   ],
   "source": [
    "np.random.seed(2)\n",
    "df1.sample(10)"
   ]
  },
  {
   "cell_type": "code",
   "execution_count": 58,
   "metadata": {},
   "outputs": [
    {
     "data": {
      "application/javascript": [
       "\n",
       "            setTimeout(function() {\n",
       "                var nbb_cell_id = 58;\n",
       "                var nbb_unformatted_code = \"def storage_volume_to_num(str_vol_val):\\n    \\\"\\\"\\\"This function takes in a string representing the volume of a storage device\\n    and converts it to a number.\\n    For example, '256GB' becomes 256.\\n    If the input is already numeric, which probably means it's NaN,\\n    this function just returns np.nan.\\\"\\\"\\\"\\n    if isinstance(str_vol_val, str):  # checks if `str_vol_val` is a string\\n        multiplier = 1  # handles GB vs TB\\n        if str_vol_val.endswith(\\\"TB\\\"):\\n            multiplier = 1024\\n        return float(str_vol_val.replace(\\\"GB\\\", \\\"\\\").replace(\\\"TB\\\", \\\"\\\")) * multiplier\\n    else:  # this happens when the str_vol is np.nan\\n        return np.nan\";\n",
       "                var nbb_formatted_code = \"def storage_volume_to_num(str_vol_val):\\n    \\\"\\\"\\\"This function takes in a string representing the volume of a storage device\\n    and converts it to a number.\\n    For example, '256GB' becomes 256.\\n    If the input is already numeric, which probably means it's NaN,\\n    this function just returns np.nan.\\\"\\\"\\\"\\n    if isinstance(str_vol_val, str):  # checks if `str_vol_val` is a string\\n        multiplier = 1  # handles GB vs TB\\n        if str_vol_val.endswith(\\\"TB\\\"):\\n            multiplier = 1024\\n        return float(str_vol_val.replace(\\\"GB\\\", \\\"\\\").replace(\\\"TB\\\", \\\"\\\")) * multiplier\\n    else:  # this happens when the str_vol is np.nan\\n        return np.nan\";\n",
       "                var nbb_cells = Jupyter.notebook.get_cells();\n",
       "                for (var i = 0; i < nbb_cells.length; ++i) {\n",
       "                    if (nbb_cells[i].input_prompt_number == nbb_cell_id) {\n",
       "                        if (nbb_cells[i].get_text() == nbb_unformatted_code) {\n",
       "                             nbb_cells[i].set_text(nbb_formatted_code);\n",
       "                        }\n",
       "                        break;\n",
       "                    }\n",
       "                }\n",
       "            }, 500);\n",
       "            "
      ],
      "text/plain": [
       "<IPython.core.display.Javascript object>"
      ]
     },
     "metadata": {},
     "output_type": "display_data"
    }
   ],
   "source": [
    "def storage_volume_to_num(str_vol_val):\n",
    "    \"\"\"This function takes in a string representing the volume of a storage device\n",
    "    and converts it to a number.\n",
    "    For example, '256GB' becomes 256.\n",
    "    If the input is already numeric, which probably means it's NaN,\n",
    "    this function just returns np.nan.\"\"\"\n",
    "    if isinstance(str_vol_val, str):  # checks if `str_vol_val` is a string\n",
    "        multiplier = 1  # handles GB vs TB\n",
    "        if str_vol_val.endswith(\"TB\"):\n",
    "            multiplier = 1024\n",
    "        return float(str_vol_val.replace(\"GB\", \"\").replace(\"TB\", \"\")) * multiplier\n",
    "    else:  # this happens when the str_vol is np.nan\n",
    "        return np.nan"
   ]
  },
  {
   "cell_type": "code",
   "execution_count": 59,
   "metadata": {},
   "outputs": [
    {
     "data": {
      "text/html": [
       "<div>\n",
       "<style scoped>\n",
       "    .dataframe tbody tr th:only-of-type {\n",
       "        vertical-align: middle;\n",
       "    }\n",
       "\n",
       "    .dataframe tbody tr th {\n",
       "        vertical-align: top;\n",
       "    }\n",
       "\n",
       "    .dataframe thead th {\n",
       "        text-align: right;\n",
       "    }\n",
       "</style>\n",
       "<table border=\"1\" class=\"dataframe\">\n",
       "  <thead>\n",
       "    <tr style=\"text-align: right;\">\n",
       "      <th></th>\n",
       "      <th>laptop_ID</th>\n",
       "      <th>Company</th>\n",
       "      <th>Product</th>\n",
       "      <th>TypeName</th>\n",
       "      <th>Inches</th>\n",
       "      <th>Cpu</th>\n",
       "      <th>Memory</th>\n",
       "      <th>Gpu</th>\n",
       "      <th>OpSys</th>\n",
       "      <th>Price_euros</th>\n",
       "      <th>RAM_GB</th>\n",
       "      <th>GPU_Nvidia_GTX</th>\n",
       "      <th>Weight_kg</th>\n",
       "      <th>OS</th>\n",
       "      <th>ScrRes</th>\n",
       "      <th>ScrRes_C1</th>\n",
       "      <th>CPU_mnfc</th>\n",
       "      <th>CPU_speed</th>\n",
       "      <th>Storage1</th>\n",
       "      <th>Storage2</th>\n",
       "      <th>Storage1_Type</th>\n",
       "      <th>Storage1_Volume</th>\n",
       "      <th>Storage2_Type</th>\n",
       "      <th>Storage2_Volume</th>\n",
       "    </tr>\n",
       "  </thead>\n",
       "  <tbody>\n",
       "    <tr>\n",
       "      <th>0</th>\n",
       "      <td>1</td>\n",
       "      <td>Apple</td>\n",
       "      <td>MacBook Pro</td>\n",
       "      <td>Ultrabook</td>\n",
       "      <td>13.3</td>\n",
       "      <td>Intel Core i5 2.3GHz</td>\n",
       "      <td>128GB SSD + NaN</td>\n",
       "      <td>Intel Iris Plus Graphics 640</td>\n",
       "      <td>macOS</td>\n",
       "      <td>1339.69</td>\n",
       "      <td>8.0</td>\n",
       "      <td>0</td>\n",
       "      <td>1.37</td>\n",
       "      <td>MacOS</td>\n",
       "      <td>2560x1600</td>\n",
       "      <td>2560.0</td>\n",
       "      <td>Intel</td>\n",
       "      <td>2.3</td>\n",
       "      <td>128GB SSD</td>\n",
       "      <td>NaN</td>\n",
       "      <td>SSD</td>\n",
       "      <td>128.0</td>\n",
       "      <td>NaN</td>\n",
       "      <td>NaN</td>\n",
       "    </tr>\n",
       "    <tr>\n",
       "      <th>1</th>\n",
       "      <td>2</td>\n",
       "      <td>Apple</td>\n",
       "      <td>Macbook Air</td>\n",
       "      <td>Ultrabook</td>\n",
       "      <td>13.3</td>\n",
       "      <td>Intel Core i5 1.8GHz</td>\n",
       "      <td>128GB Flash Storage + NaN</td>\n",
       "      <td>Intel HD Graphics 6000</td>\n",
       "      <td>macOS</td>\n",
       "      <td>898.94</td>\n",
       "      <td>8.0</td>\n",
       "      <td>0</td>\n",
       "      <td>1.34</td>\n",
       "      <td>MacOS</td>\n",
       "      <td>1440x900</td>\n",
       "      <td>1440.0</td>\n",
       "      <td>Intel</td>\n",
       "      <td>1.8</td>\n",
       "      <td>128GB Flash Storage</td>\n",
       "      <td>NaN</td>\n",
       "      <td>Flash</td>\n",
       "      <td>128.0</td>\n",
       "      <td>NaN</td>\n",
       "      <td>NaN</td>\n",
       "    </tr>\n",
       "    <tr>\n",
       "      <th>2</th>\n",
       "      <td>3</td>\n",
       "      <td>HP</td>\n",
       "      <td>250 G6</td>\n",
       "      <td>Notebook</td>\n",
       "      <td>15.6</td>\n",
       "      <td>Intel Core i5 7200U 2.5GHz</td>\n",
       "      <td>256GB SSD + NaN</td>\n",
       "      <td>Intel HD Graphics 620</td>\n",
       "      <td>No OS</td>\n",
       "      <td>575.00</td>\n",
       "      <td>8.0</td>\n",
       "      <td>0</td>\n",
       "      <td>1.86</td>\n",
       "      <td>NA</td>\n",
       "      <td>1920x1080</td>\n",
       "      <td>1920.0</td>\n",
       "      <td>Intel</td>\n",
       "      <td>2.5</td>\n",
       "      <td>256GB SSD</td>\n",
       "      <td>NaN</td>\n",
       "      <td>SSD</td>\n",
       "      <td>256.0</td>\n",
       "      <td>NaN</td>\n",
       "      <td>NaN</td>\n",
       "    </tr>\n",
       "    <tr>\n",
       "      <th>3</th>\n",
       "      <td>4</td>\n",
       "      <td>Apple</td>\n",
       "      <td>MacBook Pro</td>\n",
       "      <td>Ultrabook</td>\n",
       "      <td>15.4</td>\n",
       "      <td>Intel Core i7 2.7GHz</td>\n",
       "      <td>512GB SSD + NaN</td>\n",
       "      <td>AMD Radeon Pro 455</td>\n",
       "      <td>macOS</td>\n",
       "      <td>2537.45</td>\n",
       "      <td>16.0</td>\n",
       "      <td>0</td>\n",
       "      <td>1.83</td>\n",
       "      <td>MacOS</td>\n",
       "      <td>2880x1800</td>\n",
       "      <td>2880.0</td>\n",
       "      <td>Intel</td>\n",
       "      <td>2.7</td>\n",
       "      <td>512GB SSD</td>\n",
       "      <td>NaN</td>\n",
       "      <td>SSD</td>\n",
       "      <td>512.0</td>\n",
       "      <td>NaN</td>\n",
       "      <td>NaN</td>\n",
       "    </tr>\n",
       "    <tr>\n",
       "      <th>4</th>\n",
       "      <td>5</td>\n",
       "      <td>Apple</td>\n",
       "      <td>MacBook Pro</td>\n",
       "      <td>Ultrabook</td>\n",
       "      <td>13.3</td>\n",
       "      <td>Intel Core i5 3.1GHz</td>\n",
       "      <td>256GB SSD + NaN</td>\n",
       "      <td>Intel Iris Plus Graphics 650</td>\n",
       "      <td>macOS</td>\n",
       "      <td>1803.60</td>\n",
       "      <td>8.0</td>\n",
       "      <td>0</td>\n",
       "      <td>1.37</td>\n",
       "      <td>MacOS</td>\n",
       "      <td>2560x1600</td>\n",
       "      <td>2560.0</td>\n",
       "      <td>Intel</td>\n",
       "      <td>3.1</td>\n",
       "      <td>256GB SSD</td>\n",
       "      <td>NaN</td>\n",
       "      <td>SSD</td>\n",
       "      <td>256.0</td>\n",
       "      <td>NaN</td>\n",
       "      <td>NaN</td>\n",
       "    </tr>\n",
       "  </tbody>\n",
       "</table>\n",
       "</div>"
      ],
      "text/plain": [
       "   laptop_ID Company      Product   TypeName  Inches  \\\n",
       "0          1   Apple  MacBook Pro  Ultrabook    13.3   \n",
       "1          2   Apple  Macbook Air  Ultrabook    13.3   \n",
       "2          3      HP       250 G6   Notebook    15.6   \n",
       "3          4   Apple  MacBook Pro  Ultrabook    15.4   \n",
       "4          5   Apple  MacBook Pro  Ultrabook    13.3   \n",
       "\n",
       "                          Cpu                     Memory  \\\n",
       "0        Intel Core i5 2.3GHz            128GB SSD + NaN   \n",
       "1        Intel Core i5 1.8GHz  128GB Flash Storage + NaN   \n",
       "2  Intel Core i5 7200U 2.5GHz            256GB SSD + NaN   \n",
       "3        Intel Core i7 2.7GHz            512GB SSD + NaN   \n",
       "4        Intel Core i5 3.1GHz            256GB SSD + NaN   \n",
       "\n",
       "                            Gpu  OpSys  Price_euros  RAM_GB  GPU_Nvidia_GTX  \\\n",
       "0  Intel Iris Plus Graphics 640  macOS      1339.69     8.0               0   \n",
       "1        Intel HD Graphics 6000  macOS       898.94     8.0               0   \n",
       "2         Intel HD Graphics 620  No OS       575.00     8.0               0   \n",
       "3            AMD Radeon Pro 455  macOS      2537.45    16.0               0   \n",
       "4  Intel Iris Plus Graphics 650  macOS      1803.60     8.0               0   \n",
       "\n",
       "   Weight_kg     OS     ScrRes  ScrRes_C1 CPU_mnfc  CPU_speed  \\\n",
       "0       1.37  MacOS  2560x1600     2560.0    Intel        2.3   \n",
       "1       1.34  MacOS   1440x900     1440.0    Intel        1.8   \n",
       "2       1.86     NA  1920x1080     1920.0    Intel        2.5   \n",
       "3       1.83  MacOS  2880x1800     2880.0    Intel        2.7   \n",
       "4       1.37  MacOS  2560x1600     2560.0    Intel        3.1   \n",
       "\n",
       "              Storage1 Storage2 Storage1_Type  Storage1_Volume Storage2_Type  \\\n",
       "0            128GB SSD      NaN           SSD            128.0           NaN   \n",
       "1  128GB Flash Storage      NaN         Flash            128.0           NaN   \n",
       "2            256GB SSD      NaN           SSD            256.0           NaN   \n",
       "3            512GB SSD      NaN           SSD            512.0           NaN   \n",
       "4            256GB SSD      NaN           SSD            256.0           NaN   \n",
       "\n",
       "   Storage2_Volume  \n",
       "0              NaN  \n",
       "1              NaN  \n",
       "2              NaN  \n",
       "3              NaN  \n",
       "4              NaN  "
      ]
     },
     "execution_count": 59,
     "metadata": {},
     "output_type": "execute_result"
    },
    {
     "data": {
      "application/javascript": [
       "\n",
       "            setTimeout(function() {\n",
       "                var nbb_cell_id = 59;\n",
       "                var nbb_unformatted_code = \"df1[\\\"Storage1_Volume\\\"] = df1[\\\"Storage1_Volume\\\"].apply(storage_volume_to_num)\\ndf1[\\\"Storage2_Volume\\\"] = df1[\\\"Storage2_Volume\\\"].apply(storage_volume_to_num)\\n\\ndf1.head()\";\n",
       "                var nbb_formatted_code = \"df1[\\\"Storage1_Volume\\\"] = df1[\\\"Storage1_Volume\\\"].apply(storage_volume_to_num)\\ndf1[\\\"Storage2_Volume\\\"] = df1[\\\"Storage2_Volume\\\"].apply(storage_volume_to_num)\\n\\ndf1.head()\";\n",
       "                var nbb_cells = Jupyter.notebook.get_cells();\n",
       "                for (var i = 0; i < nbb_cells.length; ++i) {\n",
       "                    if (nbb_cells[i].input_prompt_number == nbb_cell_id) {\n",
       "                        if (nbb_cells[i].get_text() == nbb_unformatted_code) {\n",
       "                             nbb_cells[i].set_text(nbb_formatted_code);\n",
       "                        }\n",
       "                        break;\n",
       "                    }\n",
       "                }\n",
       "            }, 500);\n",
       "            "
      ],
      "text/plain": [
       "<IPython.core.display.Javascript object>"
      ]
     },
     "metadata": {},
     "output_type": "display_data"
    }
   ],
   "source": [
    "df1[\"Storage1_Volume\"] = df1[\"Storage1_Volume\"].apply(storage_volume_to_num)\n",
    "df1[\"Storage2_Volume\"] = df1[\"Storage2_Volume\"].apply(storage_volume_to_num)\n",
    "\n",
    "df1.head()"
   ]
  },
  {
   "cell_type": "code",
   "execution_count": 60,
   "metadata": {},
   "outputs": [
    {
     "data": {
      "text/html": [
       "<div>\n",
       "<style scoped>\n",
       "    .dataframe tbody tr th:only-of-type {\n",
       "        vertical-align: middle;\n",
       "    }\n",
       "\n",
       "    .dataframe tbody tr th {\n",
       "        vertical-align: top;\n",
       "    }\n",
       "\n",
       "    .dataframe thead th {\n",
       "        text-align: right;\n",
       "    }\n",
       "</style>\n",
       "<table border=\"1\" class=\"dataframe\">\n",
       "  <thead>\n",
       "    <tr style=\"text-align: right;\">\n",
       "      <th></th>\n",
       "      <th>laptop_ID</th>\n",
       "      <th>Company</th>\n",
       "      <th>Product</th>\n",
       "      <th>TypeName</th>\n",
       "      <th>Inches</th>\n",
       "      <th>Cpu</th>\n",
       "      <th>Memory</th>\n",
       "      <th>Gpu</th>\n",
       "      <th>OpSys</th>\n",
       "      <th>Price_euros</th>\n",
       "      <th>RAM_GB</th>\n",
       "      <th>GPU_Nvidia_GTX</th>\n",
       "      <th>Weight_kg</th>\n",
       "      <th>OS</th>\n",
       "      <th>ScrRes</th>\n",
       "      <th>ScrRes_C1</th>\n",
       "      <th>CPU_mnfc</th>\n",
       "      <th>CPU_speed</th>\n",
       "      <th>Storage1</th>\n",
       "      <th>Storage2</th>\n",
       "      <th>Storage1_Type</th>\n",
       "      <th>Storage1_Volume</th>\n",
       "      <th>Storage2_Type</th>\n",
       "      <th>Storage2_Volume</th>\n",
       "    </tr>\n",
       "  </thead>\n",
       "  <tbody>\n",
       "    <tr>\n",
       "      <th>248</th>\n",
       "      <td>253</td>\n",
       "      <td>HP</td>\n",
       "      <td>ProBook 430</td>\n",
       "      <td>Notebook</td>\n",
       "      <td>13.3</td>\n",
       "      <td>Intel Core i5 8250U 1.6GHz</td>\n",
       "      <td>500GB HDD + NaN</td>\n",
       "      <td>Intel UHD Graphics 620</td>\n",
       "      <td>Windows 10</td>\n",
       "      <td>675.0</td>\n",
       "      <td>4.0</td>\n",
       "      <td>0</td>\n",
       "      <td>1.49</td>\n",
       "      <td>Windows</td>\n",
       "      <td>1920x1080</td>\n",
       "      <td>1920.0</td>\n",
       "      <td>Intel</td>\n",
       "      <td>1.60</td>\n",
       "      <td>500GB HDD</td>\n",
       "      <td>NaN</td>\n",
       "      <td>HDD</td>\n",
       "      <td>500.0</td>\n",
       "      <td>NaN</td>\n",
       "      <td>NaN</td>\n",
       "    </tr>\n",
       "    <tr>\n",
       "      <th>556</th>\n",
       "      <td>563</td>\n",
       "      <td>Mediacom</td>\n",
       "      <td>SmartBook 130</td>\n",
       "      <td>Notebook</td>\n",
       "      <td>13.3</td>\n",
       "      <td>Intel Atom x5-Z8350 1.44GHz</td>\n",
       "      <td>32GB Flash Storage + NaN</td>\n",
       "      <td>Intel HD Graphics</td>\n",
       "      <td>Windows 10</td>\n",
       "      <td>255.0</td>\n",
       "      <td>4.0</td>\n",
       "      <td>0</td>\n",
       "      <td>1.35</td>\n",
       "      <td>Windows</td>\n",
       "      <td>1920x1080</td>\n",
       "      <td>1920.0</td>\n",
       "      <td>Intel</td>\n",
       "      <td>1.44</td>\n",
       "      <td>32GB Flash Storage</td>\n",
       "      <td>NaN</td>\n",
       "      <td>Flash</td>\n",
       "      <td>32.0</td>\n",
       "      <td>NaN</td>\n",
       "      <td>NaN</td>\n",
       "    </tr>\n",
       "    <tr>\n",
       "      <th>693</th>\n",
       "      <td>701</td>\n",
       "      <td>Lenovo</td>\n",
       "      <td>ThinkPad X1</td>\n",
       "      <td>2 in 1 Convertible</td>\n",
       "      <td>14.0</td>\n",
       "      <td>Intel Core i7 7500U 2.7GHz</td>\n",
       "      <td>256GB SSD + NaN</td>\n",
       "      <td>Intel HD Graphics 620</td>\n",
       "      <td>Windows 10</td>\n",
       "      <td>2590.0</td>\n",
       "      <td>8.0</td>\n",
       "      <td>0</td>\n",
       "      <td>1.42</td>\n",
       "      <td>Windows</td>\n",
       "      <td>2560x1440</td>\n",
       "      <td>2560.0</td>\n",
       "      <td>Intel</td>\n",
       "      <td>2.70</td>\n",
       "      <td>256GB SSD</td>\n",
       "      <td>NaN</td>\n",
       "      <td>SSD</td>\n",
       "      <td>256.0</td>\n",
       "      <td>NaN</td>\n",
       "      <td>NaN</td>\n",
       "    </tr>\n",
       "    <tr>\n",
       "      <th>387</th>\n",
       "      <td>393</td>\n",
       "      <td>Dell</td>\n",
       "      <td>Precision 3510</td>\n",
       "      <td>Workstation</td>\n",
       "      <td>15.6</td>\n",
       "      <td>Intel Core i5 6440HQ 2.6GHz</td>\n",
       "      <td>500GB HDD + NaN</td>\n",
       "      <td>AMD FirePro W5130M</td>\n",
       "      <td>Windows 10</td>\n",
       "      <td>1369.0</td>\n",
       "      <td>8.0</td>\n",
       "      <td>0</td>\n",
       "      <td>2.23</td>\n",
       "      <td>Windows</td>\n",
       "      <td>1920x1080</td>\n",
       "      <td>1920.0</td>\n",
       "      <td>Intel</td>\n",
       "      <td>2.60</td>\n",
       "      <td>500GB HDD</td>\n",
       "      <td>NaN</td>\n",
       "      <td>HDD</td>\n",
       "      <td>500.0</td>\n",
       "      <td>NaN</td>\n",
       "      <td>NaN</td>\n",
       "    </tr>\n",
       "    <tr>\n",
       "      <th>781</th>\n",
       "      <td>790</td>\n",
       "      <td>Asus</td>\n",
       "      <td>Rog G752VS-BA171T</td>\n",
       "      <td>Gaming</td>\n",
       "      <td>17.3</td>\n",
       "      <td>Intel Core i7 6700HQ 2.6GHz</td>\n",
       "      <td>256GB SSD +  1TB HDD</td>\n",
       "      <td>Nvidia GeForce GTX 1070</td>\n",
       "      <td>Windows 10</td>\n",
       "      <td>2350.0</td>\n",
       "      <td>16.0</td>\n",
       "      <td>1</td>\n",
       "      <td>4.30</td>\n",
       "      <td>Windows</td>\n",
       "      <td>1920x1080</td>\n",
       "      <td>1920.0</td>\n",
       "      <td>Intel</td>\n",
       "      <td>2.60</td>\n",
       "      <td>256GB SSD</td>\n",
       "      <td>1TB HDD</td>\n",
       "      <td>SSD</td>\n",
       "      <td>256.0</td>\n",
       "      <td>HDD</td>\n",
       "      <td>1024.0</td>\n",
       "    </tr>\n",
       "    <tr>\n",
       "      <th>379</th>\n",
       "      <td>385</td>\n",
       "      <td>Acer</td>\n",
       "      <td>Aspire 7</td>\n",
       "      <td>Notebook</td>\n",
       "      <td>15.6</td>\n",
       "      <td>Intel Core i7 7700HQ 2.8GHz</td>\n",
       "      <td>1TB HDD + NaN</td>\n",
       "      <td>Nvidia GeForce GTX 1050</td>\n",
       "      <td>Linux</td>\n",
       "      <td>846.0</td>\n",
       "      <td>8.0</td>\n",
       "      <td>1</td>\n",
       "      <td>2.40</td>\n",
       "      <td>Linux</td>\n",
       "      <td>1920x1080</td>\n",
       "      <td>1920.0</td>\n",
       "      <td>Intel</td>\n",
       "      <td>2.80</td>\n",
       "      <td>1TB HDD</td>\n",
       "      <td>NaN</td>\n",
       "      <td>HDD</td>\n",
       "      <td>1024.0</td>\n",
       "      <td>NaN</td>\n",
       "      <td>NaN</td>\n",
       "    </tr>\n",
       "    <tr>\n",
       "      <th>716</th>\n",
       "      <td>724</td>\n",
       "      <td>Dell</td>\n",
       "      <td>Latitude 5580</td>\n",
       "      <td>Notebook</td>\n",
       "      <td>15.6</td>\n",
       "      <td>Intel Core i5 7300U 2.6GHz</td>\n",
       "      <td>256GB SSD + NaN</td>\n",
       "      <td>Intel HD Graphics 620</td>\n",
       "      <td>Windows 10</td>\n",
       "      <td>1179.0</td>\n",
       "      <td>8.0</td>\n",
       "      <td>0</td>\n",
       "      <td>1.90</td>\n",
       "      <td>Windows</td>\n",
       "      <td>1920x1080</td>\n",
       "      <td>1920.0</td>\n",
       "      <td>Intel</td>\n",
       "      <td>2.60</td>\n",
       "      <td>256GB SSD</td>\n",
       "      <td>NaN</td>\n",
       "      <td>SSD</td>\n",
       "      <td>256.0</td>\n",
       "      <td>NaN</td>\n",
       "      <td>NaN</td>\n",
       "    </tr>\n",
       "    <tr>\n",
       "      <th>880</th>\n",
       "      <td>891</td>\n",
       "      <td>HP</td>\n",
       "      <td>EliteBook x360</td>\n",
       "      <td>2 in 1 Convertible</td>\n",
       "      <td>13.3</td>\n",
       "      <td>Intel Core i5 7200U 2.5GHz</td>\n",
       "      <td>256GB SSD + NaN</td>\n",
       "      <td>Intel HD Graphics 620</td>\n",
       "      <td>Windows 10</td>\n",
       "      <td>1700.0</td>\n",
       "      <td>4.0</td>\n",
       "      <td>0</td>\n",
       "      <td>1.28</td>\n",
       "      <td>Windows</td>\n",
       "      <td>1920x1080</td>\n",
       "      <td>1920.0</td>\n",
       "      <td>Intel</td>\n",
       "      <td>2.50</td>\n",
       "      <td>256GB SSD</td>\n",
       "      <td>NaN</td>\n",
       "      <td>SSD</td>\n",
       "      <td>256.0</td>\n",
       "      <td>NaN</td>\n",
       "      <td>NaN</td>\n",
       "    </tr>\n",
       "    <tr>\n",
       "      <th>654</th>\n",
       "      <td>662</td>\n",
       "      <td>HP</td>\n",
       "      <td>250 G6</td>\n",
       "      <td>Notebook</td>\n",
       "      <td>15.6</td>\n",
       "      <td>Intel Core i3 6006U 2GHz</td>\n",
       "      <td>500GB HDD + NaN</td>\n",
       "      <td>Intel HD Graphics 520</td>\n",
       "      <td>No OS</td>\n",
       "      <td>364.9</td>\n",
       "      <td>4.0</td>\n",
       "      <td>0</td>\n",
       "      <td>1.86</td>\n",
       "      <td>NA</td>\n",
       "      <td>1366x768</td>\n",
       "      <td>1366.0</td>\n",
       "      <td>Intel</td>\n",
       "      <td>2.00</td>\n",
       "      <td>500GB HDD</td>\n",
       "      <td>NaN</td>\n",
       "      <td>HDD</td>\n",
       "      <td>500.0</td>\n",
       "      <td>NaN</td>\n",
       "      <td>NaN</td>\n",
       "    </tr>\n",
       "    <tr>\n",
       "      <th>994</th>\n",
       "      <td>1008</td>\n",
       "      <td>Dell</td>\n",
       "      <td>Inspiron 5378</td>\n",
       "      <td>2 in 1 Convertible</td>\n",
       "      <td>13.3</td>\n",
       "      <td>Intel Core i5 7200U 2.5GHz</td>\n",
       "      <td>256GB SSD + NaN</td>\n",
       "      <td>Intel HD Graphics 620</td>\n",
       "      <td>Windows 10</td>\n",
       "      <td>889.0</td>\n",
       "      <td>8.0</td>\n",
       "      <td>0</td>\n",
       "      <td>1.68</td>\n",
       "      <td>Windows</td>\n",
       "      <td>1920x1080</td>\n",
       "      <td>1920.0</td>\n",
       "      <td>Intel</td>\n",
       "      <td>2.50</td>\n",
       "      <td>256GB SSD</td>\n",
       "      <td>NaN</td>\n",
       "      <td>SSD</td>\n",
       "      <td>256.0</td>\n",
       "      <td>NaN</td>\n",
       "      <td>NaN</td>\n",
       "    </tr>\n",
       "  </tbody>\n",
       "</table>\n",
       "</div>"
      ],
      "text/plain": [
       "     laptop_ID   Company            Product            TypeName  Inches  \\\n",
       "248        253        HP        ProBook 430            Notebook    13.3   \n",
       "556        563  Mediacom      SmartBook 130            Notebook    13.3   \n",
       "693        701    Lenovo        ThinkPad X1  2 in 1 Convertible    14.0   \n",
       "387        393      Dell     Precision 3510         Workstation    15.6   \n",
       "781        790      Asus  Rog G752VS-BA171T              Gaming    17.3   \n",
       "379        385      Acer           Aspire 7            Notebook    15.6   \n",
       "716        724      Dell      Latitude 5580            Notebook    15.6   \n",
       "880        891        HP     EliteBook x360  2 in 1 Convertible    13.3   \n",
       "654        662        HP             250 G6            Notebook    15.6   \n",
       "994       1008      Dell      Inspiron 5378  2 in 1 Convertible    13.3   \n",
       "\n",
       "                             Cpu                    Memory  \\\n",
       "248   Intel Core i5 8250U 1.6GHz           500GB HDD + NaN   \n",
       "556  Intel Atom x5-Z8350 1.44GHz  32GB Flash Storage + NaN   \n",
       "693   Intel Core i7 7500U 2.7GHz           256GB SSD + NaN   \n",
       "387  Intel Core i5 6440HQ 2.6GHz           500GB HDD + NaN   \n",
       "781  Intel Core i7 6700HQ 2.6GHz      256GB SSD +  1TB HDD   \n",
       "379  Intel Core i7 7700HQ 2.8GHz             1TB HDD + NaN   \n",
       "716   Intel Core i5 7300U 2.6GHz           256GB SSD + NaN   \n",
       "880   Intel Core i5 7200U 2.5GHz           256GB SSD + NaN   \n",
       "654     Intel Core i3 6006U 2GHz           500GB HDD + NaN   \n",
       "994   Intel Core i5 7200U 2.5GHz           256GB SSD + NaN   \n",
       "\n",
       "                         Gpu       OpSys  Price_euros  RAM_GB  GPU_Nvidia_GTX  \\\n",
       "248   Intel UHD Graphics 620  Windows 10        675.0     4.0               0   \n",
       "556        Intel HD Graphics  Windows 10        255.0     4.0               0   \n",
       "693    Intel HD Graphics 620  Windows 10       2590.0     8.0               0   \n",
       "387       AMD FirePro W5130M  Windows 10       1369.0     8.0               0   \n",
       "781  Nvidia GeForce GTX 1070  Windows 10       2350.0    16.0               1   \n",
       "379  Nvidia GeForce GTX 1050       Linux        846.0     8.0               1   \n",
       "716    Intel HD Graphics 620  Windows 10       1179.0     8.0               0   \n",
       "880    Intel HD Graphics 620  Windows 10       1700.0     4.0               0   \n",
       "654    Intel HD Graphics 520       No OS        364.9     4.0               0   \n",
       "994    Intel HD Graphics 620  Windows 10        889.0     8.0               0   \n",
       "\n",
       "     Weight_kg       OS     ScrRes  ScrRes_C1 CPU_mnfc  CPU_speed  \\\n",
       "248       1.49  Windows  1920x1080     1920.0    Intel       1.60   \n",
       "556       1.35  Windows  1920x1080     1920.0    Intel       1.44   \n",
       "693       1.42  Windows  2560x1440     2560.0    Intel       2.70   \n",
       "387       2.23  Windows  1920x1080     1920.0    Intel       2.60   \n",
       "781       4.30  Windows  1920x1080     1920.0    Intel       2.60   \n",
       "379       2.40    Linux  1920x1080     1920.0    Intel       2.80   \n",
       "716       1.90  Windows  1920x1080     1920.0    Intel       2.60   \n",
       "880       1.28  Windows  1920x1080     1920.0    Intel       2.50   \n",
       "654       1.86       NA   1366x768     1366.0    Intel       2.00   \n",
       "994       1.68  Windows  1920x1080     1920.0    Intel       2.50   \n",
       "\n",
       "               Storage1 Storage2 Storage1_Type  Storage1_Volume Storage2_Type  \\\n",
       "248           500GB HDD      NaN           HDD            500.0           NaN   \n",
       "556  32GB Flash Storage      NaN         Flash             32.0           NaN   \n",
       "693           256GB SSD      NaN           SSD            256.0           NaN   \n",
       "387           500GB HDD      NaN           HDD            500.0           NaN   \n",
       "781           256GB SSD  1TB HDD           SSD            256.0           HDD   \n",
       "379             1TB HDD      NaN           HDD           1024.0           NaN   \n",
       "716           256GB SSD      NaN           SSD            256.0           NaN   \n",
       "880           256GB SSD      NaN           SSD            256.0           NaN   \n",
       "654           500GB HDD      NaN           HDD            500.0           NaN   \n",
       "994           256GB SSD      NaN           SSD            256.0           NaN   \n",
       "\n",
       "     Storage2_Volume  \n",
       "248              NaN  \n",
       "556              NaN  \n",
       "693              NaN  \n",
       "387              NaN  \n",
       "781           1024.0  \n",
       "379              NaN  \n",
       "716              NaN  \n",
       "880              NaN  \n",
       "654              NaN  \n",
       "994              NaN  "
      ]
     },
     "execution_count": 60,
     "metadata": {},
     "output_type": "execute_result"
    },
    {
     "data": {
      "application/javascript": [
       "\n",
       "            setTimeout(function() {\n",
       "                var nbb_cell_id = 60;\n",
       "                var nbb_unformatted_code = \"np.random.seed(2)\\ndf1.sample(10)\";\n",
       "                var nbb_formatted_code = \"np.random.seed(2)\\ndf1.sample(10)\";\n",
       "                var nbb_cells = Jupyter.notebook.get_cells();\n",
       "                for (var i = 0; i < nbb_cells.length; ++i) {\n",
       "                    if (nbb_cells[i].input_prompt_number == nbb_cell_id) {\n",
       "                        if (nbb_cells[i].get_text() == nbb_unformatted_code) {\n",
       "                             nbb_cells[i].set_text(nbb_formatted_code);\n",
       "                        }\n",
       "                        break;\n",
       "                    }\n",
       "                }\n",
       "            }, 500);\n",
       "            "
      ],
      "text/plain": [
       "<IPython.core.display.Javascript object>"
      ]
     },
     "metadata": {},
     "output_type": "display_data"
    }
   ],
   "source": [
    "np.random.seed(2)\n",
    "df1.sample(10)"
   ]
  },
  {
   "cell_type": "code",
   "execution_count": 61,
   "metadata": {},
   "outputs": [
    {
     "data": {
      "text/html": [
       "<div>\n",
       "<style scoped>\n",
       "    .dataframe tbody tr th:only-of-type {\n",
       "        vertical-align: middle;\n",
       "    }\n",
       "\n",
       "    .dataframe tbody tr th {\n",
       "        vertical-align: top;\n",
       "    }\n",
       "\n",
       "    .dataframe thead th {\n",
       "        text-align: right;\n",
       "    }\n",
       "</style>\n",
       "<table border=\"1\" class=\"dataframe\">\n",
       "  <thead>\n",
       "    <tr style=\"text-align: right;\">\n",
       "      <th></th>\n",
       "      <th>Storage1_Volume</th>\n",
       "      <th>Storage2_Volume</th>\n",
       "    </tr>\n",
       "  </thead>\n",
       "  <tbody>\n",
       "    <tr>\n",
       "      <th>count</th>\n",
       "      <td>21.000000</td>\n",
       "      <td>0.0</td>\n",
       "    </tr>\n",
       "    <tr>\n",
       "      <th>mean</th>\n",
       "      <td>323.047619</td>\n",
       "      <td>NaN</td>\n",
       "    </tr>\n",
       "    <tr>\n",
       "      <th>std</th>\n",
       "      <td>143.788204</td>\n",
       "      <td>NaN</td>\n",
       "    </tr>\n",
       "    <tr>\n",
       "      <th>min</th>\n",
       "      <td>128.000000</td>\n",
       "      <td>NaN</td>\n",
       "    </tr>\n",
       "    <tr>\n",
       "      <th>25%</th>\n",
       "      <td>256.000000</td>\n",
       "      <td>NaN</td>\n",
       "    </tr>\n",
       "    <tr>\n",
       "      <th>50%</th>\n",
       "      <td>256.000000</td>\n",
       "      <td>NaN</td>\n",
       "    </tr>\n",
       "    <tr>\n",
       "      <th>75%</th>\n",
       "      <td>512.000000</td>\n",
       "      <td>NaN</td>\n",
       "    </tr>\n",
       "    <tr>\n",
       "      <th>max</th>\n",
       "      <td>512.000000</td>\n",
       "      <td>NaN</td>\n",
       "    </tr>\n",
       "  </tbody>\n",
       "</table>\n",
       "</div>"
      ],
      "text/plain": [
       "       Storage1_Volume  Storage2_Volume\n",
       "count        21.000000              0.0\n",
       "mean        323.047619              NaN\n",
       "std         143.788204              NaN\n",
       "min         128.000000              NaN\n",
       "25%         256.000000              NaN\n",
       "50%         256.000000              NaN\n",
       "75%         512.000000              NaN\n",
       "max         512.000000              NaN"
      ]
     },
     "execution_count": 61,
     "metadata": {},
     "output_type": "execute_result"
    },
    {
     "data": {
      "application/javascript": [
       "\n",
       "            setTimeout(function() {\n",
       "                var nbb_cell_id = 61;\n",
       "                var nbb_unformatted_code = \"df_apple = df1[df1.Company == \\\"Apple\\\"]\\ndf_apple[[\\\"Storage1_Volume\\\", \\\"Storage2_Volume\\\"]].describe()\";\n",
       "                var nbb_formatted_code = \"df_apple = df1[df1.Company == \\\"Apple\\\"]\\ndf_apple[[\\\"Storage1_Volume\\\", \\\"Storage2_Volume\\\"]].describe()\";\n",
       "                var nbb_cells = Jupyter.notebook.get_cells();\n",
       "                for (var i = 0; i < nbb_cells.length; ++i) {\n",
       "                    if (nbb_cells[i].input_prompt_number == nbb_cell_id) {\n",
       "                        if (nbb_cells[i].get_text() == nbb_unformatted_code) {\n",
       "                             nbb_cells[i].set_text(nbb_formatted_code);\n",
       "                        }\n",
       "                        break;\n",
       "                    }\n",
       "                }\n",
       "            }, 500);\n",
       "            "
      ],
      "text/plain": [
       "<IPython.core.display.Javascript object>"
      ]
     },
     "metadata": {},
     "output_type": "display_data"
    }
   ],
   "source": [
    "df_apple = df1[df1.Company == \"Apple\"]\n",
    "df_apple[[\"Storage1_Volume\", \"Storage2_Volume\"]].describe()"
   ]
  },
  {
   "cell_type": "code",
   "execution_count": 62,
   "metadata": {},
   "outputs": [
    {
     "data": {
      "text/plain": [
       "SSD      11\n",
       "Flash    10\n",
       "Name: Storage1_Type, dtype: int64"
      ]
     },
     "execution_count": 62,
     "metadata": {},
     "output_type": "execute_result"
    },
    {
     "data": {
      "application/javascript": [
       "\n",
       "            setTimeout(function() {\n",
       "                var nbb_cell_id = 62;\n",
       "                var nbb_unformatted_code = \"df_apple[\\\"Storage1_Type\\\"].value_counts()\";\n",
       "                var nbb_formatted_code = \"df_apple[\\\"Storage1_Type\\\"].value_counts()\";\n",
       "                var nbb_cells = Jupyter.notebook.get_cells();\n",
       "                for (var i = 0; i < nbb_cells.length; ++i) {\n",
       "                    if (nbb_cells[i].input_prompt_number == nbb_cell_id) {\n",
       "                        if (nbb_cells[i].get_text() == nbb_unformatted_code) {\n",
       "                             nbb_cells[i].set_text(nbb_formatted_code);\n",
       "                        }\n",
       "                        break;\n",
       "                    }\n",
       "                }\n",
       "            }, 500);\n",
       "            "
      ],
      "text/plain": [
       "<IPython.core.display.Javascript object>"
      ]
     },
     "metadata": {},
     "output_type": "display_data"
    }
   ],
   "source": [
    "df_apple[\"Storage1_Type\"].value_counts()"
   ]
  },
  {
   "cell_type": "code",
   "execution_count": 63,
   "metadata": {},
   "outputs": [
    {
     "data": {
      "text/plain": [
       "Series([], Name: Storage2_Type, dtype: int64)"
      ]
     },
     "execution_count": 63,
     "metadata": {},
     "output_type": "execute_result"
    },
    {
     "data": {
      "application/javascript": [
       "\n",
       "            setTimeout(function() {\n",
       "                var nbb_cell_id = 63;\n",
       "                var nbb_unformatted_code = \"df_apple[\\\"Storage2_Type\\\"].value_counts()\";\n",
       "                var nbb_formatted_code = \"df_apple[\\\"Storage2_Type\\\"].value_counts()\";\n",
       "                var nbb_cells = Jupyter.notebook.get_cells();\n",
       "                for (var i = 0; i < nbb_cells.length; ++i) {\n",
       "                    if (nbb_cells[i].input_prompt_number == nbb_cell_id) {\n",
       "                        if (nbb_cells[i].get_text() == nbb_unformatted_code) {\n",
       "                             nbb_cells[i].set_text(nbb_formatted_code);\n",
       "                        }\n",
       "                        break;\n",
       "                    }\n",
       "                }\n",
       "            }, 500);\n",
       "            "
      ],
      "text/plain": [
       "<IPython.core.display.Javascript object>"
      ]
     },
     "metadata": {},
     "output_type": "display_data"
    }
   ],
   "source": [
    "df_apple[\"Storage2_Type\"].value_counts()"
   ]
  },
  {
   "cell_type": "markdown",
   "metadata": {},
   "source": [
    "### Apple provides either an SSD or Flash Storage, with a median storage memory of 256GB. No secondary storage options are provided."
   ]
  }
 ],
 "metadata": {
  "kernelspec": {
   "display_name": "Python 3",
   "language": "python",
   "name": "python3"
  },
  "language_info": {
   "codemirror_mode": {
    "name": "ipython",
    "version": 3
   },
   "file_extension": ".py",
   "mimetype": "text/x-python",
   "name": "python",
   "nbconvert_exporter": "python",
   "pygments_lexer": "ipython3",
   "version": "3.8.5"
  }
 },
 "nbformat": 4,
 "nbformat_minor": 4
}
